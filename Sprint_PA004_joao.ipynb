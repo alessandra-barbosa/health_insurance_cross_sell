{
 "cells": [
  {
   "cell_type": "markdown",
   "id": "removable-sitting",
   "metadata": {},
   "source": [
    "# 0.0 Imports"
   ]
  },
  {
   "cell_type": "code",
   "execution_count": 1,
   "id": "spoken-tiger",
   "metadata": {
    "execution": {
     "iopub.execute_input": "2021-03-17T18:33:16.272246Z",
     "iopub.status.busy": "2021-03-17T18:33:16.271933Z",
     "iopub.status.idle": "2021-03-17T18:33:17.202912Z",
     "shell.execute_reply": "2021-03-17T18:33:17.202372Z",
     "shell.execute_reply.started": "2021-03-17T18:33:16.272166Z"
    }
   },
   "outputs": [],
   "source": [
    "# data manipulation\n",
    "import pandas as pd\n",
    "import numpy  as np\n",
    "\n",
    "# data visutalization\n",
    "import matplotlib.pyplot as plt\n",
    "import seaborn           as sns\n",
    "\n",
    "# stats\n",
    "import scipy as ss\n",
    "\n",
    "#encoding\n",
    "from imblearn.combine      import SMOTETomek\n",
    "from sklearn.preprocessing import RobustScaler, MinMaxScaler, OneHotEncoder\n",
    "\n",
    "# feature selection\n",
    "from boruta                    import BorutaPy\n",
    "from sklearn.feature_selection import RFECV\n",
    "from yellowbrick.features      import Rank1D\n",
    "\n",
    "# modeling\n",
    "from sklearn.ensemble    import RandomForestClassifier\n",
    "from sklearn.ensemble    import ExtraTreesClassifier\n",
    "from sklearn.naive_bayes import GaussianNB\n",
    "from sklearn             import base\n",
    "from sklearn             import linear_model as lm\n",
    "from sklearn             import neighbors    as nh\n",
    "import                          xgboost      as xgb\n",
    "\n",
    "# model selection\n",
    "from sklearn.model_selection import KFold\n",
    "from sklearn.model_selection import StratifiedKFold\n",
    "\n",
    "#metrics\n",
    "import scikitplot as skplt\n",
    "from   sklearn.metrics import precision_score, recall_score, accuracy_score, balanced_accuracy_score\n",
    "\n",
    "# tuning\n",
    "import optuna\n",
    "\n",
    "#display\n",
    "from IPython.display       import Image\n",
    "from IPython.core.display  import HTML"
   ]
  },
  {
   "cell_type": "markdown",
   "id": "successful-basin",
   "metadata": {},
   "source": [
    "## 0.1 Helper Functions"
   ]
  },
  {
   "cell_type": "code",
   "execution_count": 3,
   "id": "voluntary-details",
   "metadata": {
    "execution": {
     "iopub.execute_input": "2021-03-17T18:33:33.260203Z",
     "iopub.status.busy": "2021-03-17T18:33:33.260034Z",
     "iopub.status.idle": "2021-03-17T18:33:33.299177Z",
     "shell.execute_reply": "2021-03-17T18:33:33.298482Z",
     "shell.execute_reply.started": "2021-03-17T18:33:33.260184Z"
    }
   },
   "outputs": [],
   "source": [
    "def jupyter_settings():\n",
    "    %matplotlib inline\n",
    "    %pylab inline\n",
    "    \n",
    "    plt.style.use( 'fivethirtyeight' )\n",
    "    plt.rcParams['figure.figsize'] = [20, 8]\n",
    "    plt.rcParams['font.size'] = 24\n",
    "    plt.rcParams['font.family'] = 'serif'\n",
    "    plt.rcParams['font.serif'] = 'Ubuntu'\n",
    "    plt.rcParams['font.monospace'] = 'Ubuntu Mono'\n",
    "    plt.rcParams['font.size'] = 12\n",
    "    plt.rcParams['axes.labelsize'] = 14\n",
    "    plt.rcParams['axes.labelweight'] = 'bold'\n",
    "    plt.rcParams['axes.titlesize'] = 15\n",
    "    plt.rcParams['xtick.labelsize'] = 10\n",
    "    plt.rcParams['ytick.labelsize'] = 10\n",
    "    plt.rcParams['legend.fontsize'] = 12\n",
    "    plt.rcParams['figure.titlesize'] = 12\n",
    "    \n",
    "    display( HTML( '<style>.container { width:80% !important; }</style>') )\n",
    "    pd.options.display.max_columns = None\n",
    "    pd.options.display.max_rows = None\n",
    "    pd.set_option( 'display.expand_frame_repr', False )\n",
    "    \n",
    "    #sns.set()\n",
    "    sns.set_style('ticks')\n",
    "    \n",
    "\n",
    "def get_summary(numerical_attributes):\n",
    "    \n",
    "    # Central Tendency - mean, meadina \n",
    "    ct1 = pd.DataFrame( numerical_attributes.apply( np.mean ) ).T\n",
    "    ct2 = pd.DataFrame( numerical_attributes.apply( np.median ) ).T\n",
    "\n",
    "    # dispersion - std, min, max, range, skew, kurtosis\n",
    "    d1 = pd.DataFrame( numerical_attributes.apply( np.std ) ).T \n",
    "    d2 = pd.DataFrame( numerical_attributes.apply( min ) ).T \n",
    "    d3 = pd.DataFrame( numerical_attributes.apply( max ) ).T \n",
    "    d4 = pd.DataFrame( numerical_attributes.apply( lambda x: x.max() - x.min() ) ).T \n",
    "    d5 = pd.DataFrame( numerical_attributes.apply( lambda x: x.skew() ) ).T \n",
    "    d6 = pd.DataFrame( numerical_attributes.apply( lambda x: x.kurtosis() ) ).T \n",
    "\n",
    "    # concatenar\n",
    "    m = pd.concat( [d2, d3, d4, ct1, ct2, d1, d5, d6] ).T.reset_index()\n",
    "    m.columns = ['attributes', 'min', 'max', 'range', 'mean', 'median', 'std', 'skew', 'kurtosis']\n",
    "    \n",
    "    return m\n",
    "\n",
    "\n",
    "\n",
    "class KFoldTargetEncoder(base.BaseEstimator,base.TransformerMixin):\n",
    "    \n",
    "    def __init__(self,colnames,targetName,\n",
    "                  n_fold=5, verbosity=True,\n",
    "                  discardOriginal_col=False):\n",
    "        self.colnames = colnames\n",
    "        self.targetName = targetName\n",
    "        self.n_fold = n_fold\n",
    "        self.verbosity = verbosity\n",
    "        self.discardOriginal_col = discardOriginal_col\n",
    "        \n",
    "    def fit(self, X, y=None):\n",
    "        \n",
    "        return self\n",
    "    \n",
    "    \n",
    "    def transform(self,X):\n",
    "    \n",
    "        mean_of_target = X[self.targetName].mean()\n",
    "        kf = KFold(n_splits = self.n_fold,\n",
    "                   shuffle = True, random_state=2021)\n",
    "        print(kf)\n",
    "        col_mean_name = self.colnames + '_' + 'Kfold_Target_Enc'\n",
    "        X[col_mean_name] = np.nan\n",
    "        \n",
    "        for tr_ind, val_ind in kf.split(X):\n",
    "            X_tr, X_val = X.iloc[tr_ind], X.iloc[val_ind]\n",
    "            \n",
    "            #train set and validation set\n",
    "            X.loc[X.index[val_ind], col_mean_name] = X_val[self.colnames].map(X_tr.groupby(self.colnames)\n",
    "                                     [self.targetName].mean())\n",
    "            \n",
    "            #test set you take the average of the target values of all samples that have a given category in the entire train set.\n",
    "            X[col_mean_name].fillna(mean_of_target, inplace = True)\n",
    "            \n",
    "        if self.verbosity:\n",
    "            encoded_feature = X[col_mean_name].values\n",
    "            print('Correlation between the new feature, {} and, {} is {}.'.format(col_mean_name,self.targetName,                    \n",
    "                   np.corrcoef(X[self.targetName].values,\n",
    "                               encoded_feature)[0][1]))\n",
    "            \n",
    "        if self.discardOriginal_col:\n",
    "            X = X.drop(self.targetName, axis=1)\n",
    "            \n",
    "        return X\n",
    "\n",
    "\n",
    "\n",
    "def precision_at_k( data, k = 20000 ):\n",
    "    # reset index\n",
    "    data = data.reset_index( drop=True )\n",
    "\n",
    "    # create ranking order\n",
    "    data['ranking'] = data.index + 1 \n",
    "\n",
    "    data['precision_at_k'] = data['response'].cumsum() / data['ranking']\n",
    "\n",
    "    return data.loc[k, 'precision_at_k']\n",
    "\n",
    "\n",
    "\n",
    "def recall_at_k( data, k = 20000 ):\n",
    "    # reset index\n",
    "    data = data.reset_index( drop = True )\n",
    "\n",
    "    # create ranking order\n",
    "    data['ranking'] = data.index + 1 \n",
    "\n",
    "    data['recall_at_k'] = data['response'].cumsum() / data['response'].sum()\n",
    "\n",
    "    return data.loc[k, 'recall_at_k']\n",
    "\n",
    "\n",
    "    \n",
    "def cross_validation(model, x_train, y_train, k, data, Verbose = True):\n",
    "    \n",
    "    kfold = StratifiedKFold(n_splits=k, shuffle=True, random_state=28)\n",
    "    precision_list = []\n",
    "    recall_list = []\n",
    "    precision_k_list = []\n",
    "    recall_k_list = []\n",
    "    accuracy_list = []\n",
    "    i=1\n",
    "\n",
    "    for train_cv, val_cv in kfold.split(x_train, y_train):\n",
    "        \n",
    "        if Verbose == True:\n",
    "            \n",
    "            print(f'Fold Number {i}/{k}')\n",
    "            \n",
    "        else:\n",
    "            pass\n",
    "        \n",
    "        x_train_fold = x_train.iloc[train_cv]\n",
    "        y_train_fold = y_train.iloc[train_cv]\n",
    "        x_val_fold = x_train.iloc[val_cv]\n",
    "        y_val_fold = y_train.iloc[val_cv]\n",
    "\n",
    "        model_fit = model.fit(x_train_fold, y_train_fold.values.ravel())\n",
    "        yhat = model.predict_proba(x_val_fold)\n",
    "        yhat_1 = model.predict(x_val_fold)\n",
    "        \n",
    "        \n",
    "        data = x_val_fold.copy()\n",
    "        data['response'] = y_val_fold.copy()\n",
    "        data['score'] = yhat[:, 1].tolist()\n",
    "        data = data.sort_values('score', ascending=False)\n",
    "\n",
    "        precision_k = precision_at_k(data, k = 20000)\n",
    "        precision_k_list.append(precision_k,)\n",
    "        \n",
    "        recall_k = recall_at_k(data, k = 20000)\n",
    "        recall_k_list.append(recall_k)\n",
    "        \n",
    "        precision = precision_score(y_val_fold, yhat_1)\n",
    "        precision_list.append(precision)\n",
    "        \n",
    "        recall = recall_score(y_val_fold, yhat_1)\n",
    "        recall_list.append(recall)\n",
    "\n",
    "        accuracy = accuracy_score(y_val_fold, yhat_1)\n",
    "        accuracy_list.append(balanced_accuracy)\n",
    "            \n",
    "        \n",
    "        i+=1\n",
    "        \n",
    "    df = pd.DataFrame({'Model Name': type(model).__name__, \n",
    "                       'Accuracy Mean': np.mean(balanced_list).round(4),\n",
    "                       'Precision Mean': np.mean(precision_list).round(4),\n",
    "                       'Precision STD': np.std(precision_list).round(4),\n",
    "                       'Recall Mean': np.mean(recall_list).round(4),\n",
    "                       'Recall STD': np.std(recall_list).round(4),\n",
    "                       'Precision@K Mean': np.mean(precision_k_list).round(4), \n",
    "                       'Precision@K STD': np.std(precision_k_list).round(4),\n",
    "                       'Recall@K Mean': np.mean(recall_k_list).round(4), \n",
    "                       'Recall@K STD': np.std(recall_k_list).round(4)}, index = [0])\n",
    "\n",
    "    return df"
   ]
  },
  {
   "cell_type": "code",
   "execution_count": 4,
   "id": "baking-interim",
   "metadata": {
    "execution": {
     "iopub.execute_input": "2021-03-17T18:33:34.677224Z",
     "iopub.status.busy": "2021-03-17T18:33:34.677023Z",
     "iopub.status.idle": "2021-03-17T18:33:34.687017Z",
     "shell.execute_reply": "2021-03-17T18:33:34.686477Z",
     "shell.execute_reply.started": "2021-03-17T18:33:34.677200Z"
    }
   },
   "outputs": [
    {
     "name": "stdout",
     "output_type": "stream",
     "text": [
      "Populating the interactive namespace from numpy and matplotlib\n"
     ]
    },
    {
     "data": {
      "text/html": [
       "<style>.container { width:80% !important; }</style>"
      ],
      "text/plain": [
       "<IPython.core.display.HTML object>"
      ]
     },
     "metadata": {},
     "output_type": "display_data"
    }
   ],
   "source": [
    "jupyter_settings()"
   ]
  },
  {
   "cell_type": "markdown",
   "id": "contemporary-brunswick",
   "metadata": {},
   "source": [
    "## 0.2 Load Data"
   ]
  },
  {
   "cell_type": "code",
   "execution_count": 5,
   "id": "consecutive-cricket",
   "metadata": {
    "execution": {
     "iopub.execute_input": "2021-03-17T18:33:36.567415Z",
     "iopub.status.busy": "2021-03-17T18:33:36.567122Z",
     "iopub.status.idle": "2021-03-17T18:33:36.751455Z",
     "shell.execute_reply": "2021-03-17T18:33:36.751058Z",
     "shell.execute_reply.started": "2021-03-17T18:33:36.567381Z"
    }
   },
   "outputs": [],
   "source": [
    "df = pd.read_csv('../data/raw/train.csv')"
   ]
  },
  {
   "cell_type": "markdown",
   "id": "gentle-eligibility",
   "metadata": {},
   "source": [
    "# 1.0 Data Description"
   ]
  },
  {
   "cell_type": "code",
   "execution_count": 6,
   "id": "sharing-chile",
   "metadata": {
    "execution": {
     "iopub.execute_input": "2021-03-17T18:33:37.497690Z",
     "iopub.status.busy": "2021-03-17T18:33:37.497352Z",
     "iopub.status.idle": "2021-03-17T18:33:37.510995Z",
     "shell.execute_reply": "2021-03-17T18:33:37.510531Z",
     "shell.execute_reply.started": "2021-03-17T18:33:37.497649Z"
    }
   },
   "outputs": [],
   "source": [
    "df1 = df.copy()"
   ]
  },
  {
   "cell_type": "code",
   "execution_count": 7,
   "id": "fluid-metro",
   "metadata": {
    "execution": {
     "iopub.execute_input": "2021-03-17T18:33:37.785969Z",
     "iopub.status.busy": "2021-03-17T18:33:37.785700Z",
     "iopub.status.idle": "2021-03-17T18:33:37.790305Z",
     "shell.execute_reply": "2021-03-17T18:33:37.789465Z",
     "shell.execute_reply.started": "2021-03-17T18:33:37.785938Z"
    }
   },
   "outputs": [],
   "source": [
    "df1.columns = map(str.lower, df1.columns)"
   ]
  },
  {
   "cell_type": "code",
   "execution_count": 8,
   "id": "different-diamond",
   "metadata": {
    "execution": {
     "iopub.execute_input": "2021-03-17T18:33:38.023525Z",
     "iopub.status.busy": "2021-03-17T18:33:38.023281Z",
     "iopub.status.idle": "2021-03-17T18:33:38.042363Z",
     "shell.execute_reply": "2021-03-17T18:33:38.041990Z",
     "shell.execute_reply.started": "2021-03-17T18:33:38.023504Z"
    }
   },
   "outputs": [
    {
     "data": {
      "text/html": [
       "<div>\n",
       "<style scoped>\n",
       "    .dataframe tbody tr th:only-of-type {\n",
       "        vertical-align: middle;\n",
       "    }\n",
       "\n",
       "    .dataframe tbody tr th {\n",
       "        vertical-align: top;\n",
       "    }\n",
       "\n",
       "    .dataframe thead th {\n",
       "        text-align: right;\n",
       "    }\n",
       "</style>\n",
       "<table border=\"1\" class=\"dataframe\">\n",
       "  <thead>\n",
       "    <tr style=\"text-align: right;\">\n",
       "      <th></th>\n",
       "      <th>id</th>\n",
       "      <th>gender</th>\n",
       "      <th>age</th>\n",
       "      <th>driving_license</th>\n",
       "      <th>region_code</th>\n",
       "      <th>previously_insured</th>\n",
       "      <th>vehicle_age</th>\n",
       "      <th>vehicle_damage</th>\n",
       "      <th>annual_premium</th>\n",
       "      <th>policy_sales_channel</th>\n",
       "      <th>vintage</th>\n",
       "      <th>response</th>\n",
       "    </tr>\n",
       "  </thead>\n",
       "  <tbody>\n",
       "    <tr>\n",
       "      <th>0</th>\n",
       "      <td>1</td>\n",
       "      <td>Male</td>\n",
       "      <td>44</td>\n",
       "      <td>1</td>\n",
       "      <td>28.0</td>\n",
       "      <td>0</td>\n",
       "      <td>&gt; 2 Years</td>\n",
       "      <td>Yes</td>\n",
       "      <td>40454.0</td>\n",
       "      <td>26.0</td>\n",
       "      <td>217</td>\n",
       "      <td>1</td>\n",
       "    </tr>\n",
       "    <tr>\n",
       "      <th>1</th>\n",
       "      <td>2</td>\n",
       "      <td>Male</td>\n",
       "      <td>76</td>\n",
       "      <td>1</td>\n",
       "      <td>3.0</td>\n",
       "      <td>0</td>\n",
       "      <td>1-2 Year</td>\n",
       "      <td>No</td>\n",
       "      <td>33536.0</td>\n",
       "      <td>26.0</td>\n",
       "      <td>183</td>\n",
       "      <td>0</td>\n",
       "    </tr>\n",
       "    <tr>\n",
       "      <th>2</th>\n",
       "      <td>3</td>\n",
       "      <td>Male</td>\n",
       "      <td>47</td>\n",
       "      <td>1</td>\n",
       "      <td>28.0</td>\n",
       "      <td>0</td>\n",
       "      <td>&gt; 2 Years</td>\n",
       "      <td>Yes</td>\n",
       "      <td>38294.0</td>\n",
       "      <td>26.0</td>\n",
       "      <td>27</td>\n",
       "      <td>1</td>\n",
       "    </tr>\n",
       "    <tr>\n",
       "      <th>3</th>\n",
       "      <td>4</td>\n",
       "      <td>Male</td>\n",
       "      <td>21</td>\n",
       "      <td>1</td>\n",
       "      <td>11.0</td>\n",
       "      <td>1</td>\n",
       "      <td>&lt; 1 Year</td>\n",
       "      <td>No</td>\n",
       "      <td>28619.0</td>\n",
       "      <td>152.0</td>\n",
       "      <td>203</td>\n",
       "      <td>0</td>\n",
       "    </tr>\n",
       "    <tr>\n",
       "      <th>4</th>\n",
       "      <td>5</td>\n",
       "      <td>Female</td>\n",
       "      <td>29</td>\n",
       "      <td>1</td>\n",
       "      <td>41.0</td>\n",
       "      <td>1</td>\n",
       "      <td>&lt; 1 Year</td>\n",
       "      <td>No</td>\n",
       "      <td>27496.0</td>\n",
       "      <td>152.0</td>\n",
       "      <td>39</td>\n",
       "      <td>0</td>\n",
       "    </tr>\n",
       "    <tr>\n",
       "      <th>5</th>\n",
       "      <td>6</td>\n",
       "      <td>Female</td>\n",
       "      <td>24</td>\n",
       "      <td>1</td>\n",
       "      <td>33.0</td>\n",
       "      <td>0</td>\n",
       "      <td>&lt; 1 Year</td>\n",
       "      <td>Yes</td>\n",
       "      <td>2630.0</td>\n",
       "      <td>160.0</td>\n",
       "      <td>176</td>\n",
       "      <td>0</td>\n",
       "    </tr>\n",
       "    <tr>\n",
       "      <th>6</th>\n",
       "      <td>7</td>\n",
       "      <td>Male</td>\n",
       "      <td>23</td>\n",
       "      <td>1</td>\n",
       "      <td>11.0</td>\n",
       "      <td>0</td>\n",
       "      <td>&lt; 1 Year</td>\n",
       "      <td>Yes</td>\n",
       "      <td>23367.0</td>\n",
       "      <td>152.0</td>\n",
       "      <td>249</td>\n",
       "      <td>0</td>\n",
       "    </tr>\n",
       "  </tbody>\n",
       "</table>\n",
       "</div>"
      ],
      "text/plain": [
       "   id  gender  age  driving_license  region_code  previously_insured vehicle_age vehicle_damage  annual_premium  policy_sales_channel  vintage  response\n",
       "0   1    Male   44                1         28.0                   0   > 2 Years            Yes         40454.0                  26.0      217         1\n",
       "1   2    Male   76                1          3.0                   0    1-2 Year             No         33536.0                  26.0      183         0\n",
       "2   3    Male   47                1         28.0                   0   > 2 Years            Yes         38294.0                  26.0       27         1\n",
       "3   4    Male   21                1         11.0                   1    < 1 Year             No         28619.0                 152.0      203         0\n",
       "4   5  Female   29                1         41.0                   1    < 1 Year             No         27496.0                 152.0       39         0\n",
       "5   6  Female   24                1         33.0                   0    < 1 Year            Yes          2630.0                 160.0      176         0\n",
       "6   7    Male   23                1         11.0                   0    < 1 Year            Yes         23367.0                 152.0      249         0"
      ]
     },
     "execution_count": 8,
     "metadata": {},
     "output_type": "execute_result"
    }
   ],
   "source": [
    "df1.head(7)"
   ]
  },
  {
   "cell_type": "code",
   "execution_count": 9,
   "id": "revised-option",
   "metadata": {
    "execution": {
     "iopub.execute_input": "2021-03-17T18:33:38.518678Z",
     "iopub.status.busy": "2021-03-17T18:33:38.518404Z",
     "iopub.status.idle": "2021-03-17T18:33:38.523175Z",
     "shell.execute_reply": "2021-03-17T18:33:38.522557Z",
     "shell.execute_reply.started": "2021-03-17T18:33:38.518645Z"
    }
   },
   "outputs": [
    {
     "name": "stdout",
     "output_type": "stream",
     "text": [
      "Number of Rows: 381109\n",
      "Number of Cols: 12\n"
     ]
    }
   ],
   "source": [
    "print( 'Number of Rows: {}'.format( df1.shape[0] ) )\n",
    "print( 'Number of Cols: {}'.format( df1.shape[1] ) )"
   ]
  },
  {
   "cell_type": "code",
   "execution_count": 10,
   "id": "postal-buddy",
   "metadata": {
    "execution": {
     "iopub.execute_input": "2021-03-17T18:33:38.581124Z",
     "iopub.status.busy": "2021-03-17T18:33:38.580926Z",
     "iopub.status.idle": "2021-03-17T18:33:38.654140Z",
     "shell.execute_reply": "2021-03-17T18:33:38.653637Z",
     "shell.execute_reply.started": "2021-03-17T18:33:38.581105Z"
    }
   },
   "outputs": [
    {
     "name": "stdout",
     "output_type": "stream",
     "text": [
      "<class 'pandas.core.frame.DataFrame'>\n",
      "RangeIndex: 381109 entries, 0 to 381108\n",
      "Data columns (total 12 columns):\n",
      " #   Column                Non-Null Count   Dtype  \n",
      "---  ------                --------------   -----  \n",
      " 0   id                    381109 non-null  int64  \n",
      " 1   Gender                381109 non-null  object \n",
      " 2   Age                   381109 non-null  int64  \n",
      " 3   Driving_License       381109 non-null  int64  \n",
      " 4   Region_Code           381109 non-null  float64\n",
      " 5   Previously_Insured    381109 non-null  int64  \n",
      " 6   Vehicle_Age           381109 non-null  object \n",
      " 7   Vehicle_Damage        381109 non-null  object \n",
      " 8   Annual_Premium        381109 non-null  float64\n",
      " 9   Policy_Sales_Channel  381109 non-null  float64\n",
      " 10  Vintage               381109 non-null  int64  \n",
      " 11  Response              381109 non-null  int64  \n",
      "dtypes: float64(3), int64(6), object(3)\n",
      "memory usage: 34.9+ MB\n"
     ]
    }
   ],
   "source": [
    "df.info()"
   ]
  },
  {
   "cell_type": "code",
   "execution_count": 11,
   "id": "corporate-blood",
   "metadata": {
    "execution": {
     "iopub.execute_input": "2021-03-17T18:33:38.655174Z",
     "iopub.status.busy": "2021-03-17T18:33:38.655034Z",
     "iopub.status.idle": "2021-03-17T18:33:38.711492Z",
     "shell.execute_reply": "2021-03-17T18:33:38.710745Z",
     "shell.execute_reply.started": "2021-03-17T18:33:38.655158Z"
    }
   },
   "outputs": [],
   "source": [
    "cons = pd.DataFrame({'missing' : df.isna().sum(),\n",
    "                     'size' : df.shape[0],})\n",
    "\n",
    "cons['percentual'] = round(cons['missing'] / cons['size'],2)"
   ]
  },
  {
   "cell_type": "code",
   "execution_count": 12,
   "id": "parallel-tutorial",
   "metadata": {
    "execution": {
     "iopub.execute_input": "2021-03-17T18:33:38.712684Z",
     "iopub.status.busy": "2021-03-17T18:33:38.712523Z",
     "iopub.status.idle": "2021-03-17T18:33:38.835976Z",
     "shell.execute_reply": "2021-03-17T18:33:38.835588Z",
     "shell.execute_reply.started": "2021-03-17T18:33:38.712665Z"
    }
   },
   "outputs": [
    {
     "data": {
      "image/png": "[encoded data removed]",
      "text/plain": [
       "<Figure size 1440x576 with 1 Axes>"
      ]
     },
     "metadata": {},
     "output_type": "display_data"
    }
   ],
   "source": [
    "cons.percentual.plot.hist( bins = 5);"
   ]
  },
  {
   "cell_type": "code",
   "execution_count": 13,
   "id": "swiss-mother",
   "metadata": {
    "execution": {
     "iopub.execute_input": "2021-03-17T18:33:38.836790Z",
     "iopub.status.busy": "2021-03-17T18:33:38.836667Z",
     "iopub.status.idle": "2021-03-17T18:33:38.857023Z",
     "shell.execute_reply": "2021-03-17T18:33:38.856540Z",
     "shell.execute_reply.started": "2021-03-17T18:33:38.836773Z"
    }
   },
   "outputs": [],
   "source": [
    "num_attributes = df1.select_dtypes( include = [ 'int64', 'float64'] )\n",
    "cat_attributes = df1.select_dtypes( exclude=['int64', 'float64', 'datetime64[ns]'] )"
   ]
  },
  {
   "cell_type": "markdown",
   "id": "cloudy-digit",
   "metadata": {},
   "source": [
    "## 1.1 Numerical Attributes"
   ]
  },
  {
   "cell_type": "markdown",
   "id": "union-making",
   "metadata": {},
   "source": [
    "Check for cardinality, distribution, rare labels, imbalanced features and target, skewed data, and more. "
   ]
  },
  {
   "cell_type": "code",
   "execution_count": 14,
   "id": "plain-overall",
   "metadata": {
    "execution": {
     "iopub.execute_input": "2021-03-17T18:33:38.857761Z",
     "iopub.status.busy": "2021-03-17T18:33:38.857649Z",
     "iopub.status.idle": "2021-03-17T18:33:39.723615Z",
     "shell.execute_reply": "2021-03-17T18:33:39.723123Z",
     "shell.execute_reply.started": "2021-03-17T18:33:38.857745Z"
    }
   },
   "outputs": [
    {
     "data": {
      "text/html": [
       "<div>\n",
       "<style scoped>\n",
       "    .dataframe tbody tr th:only-of-type {\n",
       "        vertical-align: middle;\n",
       "    }\n",
       "\n",
       "    .dataframe tbody tr th {\n",
       "        vertical-align: top;\n",
       "    }\n",
       "\n",
       "    .dataframe thead th {\n",
       "        text-align: right;\n",
       "    }\n",
       "</style>\n",
       "<table border=\"1\" class=\"dataframe\">\n",
       "  <thead>\n",
       "    <tr style=\"text-align: right;\">\n",
       "      <th></th>\n",
       "      <th>attributes</th>\n",
       "      <th>min</th>\n",
       "      <th>max</th>\n",
       "      <th>range</th>\n",
       "      <th>mean</th>\n",
       "      <th>median</th>\n",
       "      <th>std</th>\n",
       "      <th>skew</th>\n",
       "      <th>kurtosis</th>\n",
       "    </tr>\n",
       "  </thead>\n",
       "  <tbody>\n",
       "    <tr>\n",
       "      <th>0</th>\n",
       "      <td>id</td>\n",
       "      <td>1.0</td>\n",
       "      <td>381109.0</td>\n",
       "      <td>381108.0</td>\n",
       "      <td>190555.000000</td>\n",
       "      <td>190555.0</td>\n",
       "      <td>110016.691870</td>\n",
       "      <td>9.443274e-16</td>\n",
       "      <td>-1.200000</td>\n",
       "    </tr>\n",
       "    <tr>\n",
       "      <th>1</th>\n",
       "      <td>age</td>\n",
       "      <td>20.0</td>\n",
       "      <td>85.0</td>\n",
       "      <td>65.0</td>\n",
       "      <td>38.822584</td>\n",
       "      <td>36.0</td>\n",
       "      <td>15.511591</td>\n",
       "      <td>6.725390e-01</td>\n",
       "      <td>-0.565655</td>\n",
       "    </tr>\n",
       "    <tr>\n",
       "      <th>2</th>\n",
       "      <td>driving_license</td>\n",
       "      <td>0.0</td>\n",
       "      <td>1.0</td>\n",
       "      <td>1.0</td>\n",
       "      <td>0.997869</td>\n",
       "      <td>1.0</td>\n",
       "      <td>0.046109</td>\n",
       "      <td>-2.159518e+01</td>\n",
       "      <td>464.354302</td>\n",
       "    </tr>\n",
       "    <tr>\n",
       "      <th>3</th>\n",
       "      <td>region_code</td>\n",
       "      <td>0.0</td>\n",
       "      <td>52.0</td>\n",
       "      <td>52.0</td>\n",
       "      <td>26.388807</td>\n",
       "      <td>28.0</td>\n",
       "      <td>13.229871</td>\n",
       "      <td>-1.152664e-01</td>\n",
       "      <td>-0.867857</td>\n",
       "    </tr>\n",
       "    <tr>\n",
       "      <th>4</th>\n",
       "      <td>previously_insured</td>\n",
       "      <td>0.0</td>\n",
       "      <td>1.0</td>\n",
       "      <td>1.0</td>\n",
       "      <td>0.458210</td>\n",
       "      <td>0.0</td>\n",
       "      <td>0.498251</td>\n",
       "      <td>1.677471e-01</td>\n",
       "      <td>-1.971871</td>\n",
       "    </tr>\n",
       "    <tr>\n",
       "      <th>5</th>\n",
       "      <td>annual_premium</td>\n",
       "      <td>2630.0</td>\n",
       "      <td>540165.0</td>\n",
       "      <td>537535.0</td>\n",
       "      <td>30564.389581</td>\n",
       "      <td>31669.0</td>\n",
       "      <td>17213.132474</td>\n",
       "      <td>1.766087e+00</td>\n",
       "      <td>34.004569</td>\n",
       "    </tr>\n",
       "    <tr>\n",
       "      <th>6</th>\n",
       "      <td>policy_sales_channel</td>\n",
       "      <td>1.0</td>\n",
       "      <td>163.0</td>\n",
       "      <td>162.0</td>\n",
       "      <td>112.034295</td>\n",
       "      <td>133.0</td>\n",
       "      <td>54.203924</td>\n",
       "      <td>-9.000081e-01</td>\n",
       "      <td>-0.970810</td>\n",
       "    </tr>\n",
       "    <tr>\n",
       "      <th>7</th>\n",
       "      <td>vintage</td>\n",
       "      <td>10.0</td>\n",
       "      <td>299.0</td>\n",
       "      <td>289.0</td>\n",
       "      <td>154.347397</td>\n",
       "      <td>154.0</td>\n",
       "      <td>83.671194</td>\n",
       "      <td>3.029517e-03</td>\n",
       "      <td>-1.200688</td>\n",
       "    </tr>\n",
       "    <tr>\n",
       "      <th>8</th>\n",
       "      <td>response</td>\n",
       "      <td>0.0</td>\n",
       "      <td>1.0</td>\n",
       "      <td>1.0</td>\n",
       "      <td>0.122563</td>\n",
       "      <td>0.0</td>\n",
       "      <td>0.327935</td>\n",
       "      <td>2.301906e+00</td>\n",
       "      <td>3.298788</td>\n",
       "    </tr>\n",
       "  </tbody>\n",
       "</table>\n",
       "</div>"
      ],
      "text/plain": [
       "             attributes     min       max     range           mean    median            std          skew    kurtosis\n",
       "0                    id     1.0  381109.0  381108.0  190555.000000  190555.0  110016.691870  9.443274e-16   -1.200000\n",
       "1                   age    20.0      85.0      65.0      38.822584      36.0      15.511591  6.725390e-01   -0.565655\n",
       "2       driving_license     0.0       1.0       1.0       0.997869       1.0       0.046109 -2.159518e+01  464.354302\n",
       "3           region_code     0.0      52.0      52.0      26.388807      28.0      13.229871 -1.152664e-01   -0.867857\n",
       "4    previously_insured     0.0       1.0       1.0       0.458210       0.0       0.498251  1.677471e-01   -1.971871\n",
       "5        annual_premium  2630.0  540165.0  537535.0   30564.389581   31669.0   17213.132474  1.766087e+00   34.004569\n",
       "6  policy_sales_channel     1.0     163.0     162.0     112.034295     133.0      54.203924 -9.000081e-01   -0.970810\n",
       "7               vintage    10.0     299.0     289.0     154.347397     154.0      83.671194  3.029517e-03   -1.200688\n",
       "8              response     0.0       1.0       1.0       0.122563       0.0       0.327935  2.301906e+00    3.298788"
      ]
     },
     "execution_count": 14,
     "metadata": {},
     "output_type": "execute_result"
    }
   ],
   "source": [
    "get_summary(num_attributes)"
   ]
  },
  {
   "cell_type": "code",
   "execution_count": 15,
   "id": "protected-granny",
   "metadata": {
    "execution": {
     "iopub.execute_input": "2021-03-17T18:33:39.725130Z",
     "iopub.status.busy": "2021-03-17T18:33:39.724964Z",
     "iopub.status.idle": "2021-03-17T18:33:40.741637Z",
     "shell.execute_reply": "2021-03-17T18:33:40.741248Z",
     "shell.execute_reply.started": "2021-03-17T18:33:39.725107Z"
    }
   },
   "outputs": [
    {
     "data": {
      "image/png": "[encoded data removed]",
      "text/plain": [
       "<Figure size 1440x576 with 9 Axes>"
      ]
     },
     "metadata": {},
     "output_type": "display_data"
    }
   ],
   "source": [
    "num_attributes.hist(bins = 25);"
   ]
  },
  {
   "cell_type": "markdown",
   "id": "interim-kruger",
   "metadata": {},
   "source": [
    "## 1.2 Categorical Attributes"
   ]
  },
  {
   "cell_type": "code",
   "execution_count": 16,
   "id": "revised-industry",
   "metadata": {
    "execution": {
     "iopub.execute_input": "2021-03-17T18:33:40.742568Z",
     "iopub.status.busy": "2021-03-17T18:33:40.742449Z",
     "iopub.status.idle": "2021-03-17T18:33:40.783780Z",
     "shell.execute_reply": "2021-03-17T18:33:40.783404Z",
     "shell.execute_reply.started": "2021-03-17T18:33:40.742550Z"
    }
   },
   "outputs": [
    {
     "data": {
      "text/plain": [
       "gender            2\n",
       "vehicle_age       3\n",
       "vehicle_damage    2\n",
       "dtype: int64"
      ]
     },
     "execution_count": 16,
     "metadata": {},
     "output_type": "execute_result"
    }
   ],
   "source": [
    "cat_attributes.apply( lambda x: x.unique().shape[0] )"
   ]
  },
  {
   "cell_type": "code",
   "execution_count": 17,
   "id": "impressive-electron",
   "metadata": {
    "execution": {
     "iopub.execute_input": "2021-03-17T18:33:40.784496Z",
     "iopub.status.busy": "2021-03-17T18:33:40.784382Z",
     "iopub.status.idle": "2021-03-17T18:33:48.826584Z",
     "shell.execute_reply": "2021-03-17T18:33:48.826199Z",
     "shell.execute_reply.started": "2021-03-17T18:33:40.784481Z"
    }
   },
   "outputs": [
    {
     "data": {
      "image/png": "[encoded data removed]",
      "text/plain": [
       "<Figure size 1440x576 with 3 Axes>"
      ]
     },
     "metadata": {},
     "output_type": "display_data"
    }
   ],
   "source": [
    "plt.subplot( 1, 3, 1 )\n",
    "sns.barplot( x='gender', y='response', data=df1 )\n",
    "sns.despine(offset = 10, trim = True)\n",
    "plt.title('Interest in insurance by gender')\n",
    "\n",
    "plt.subplot( 1, 3, 2 )\n",
    "sns.barplot( x='vehicle_age', y='response', data=df1 )\n",
    "sns.despine(offset = 10, trim = True)\n",
    "plt.title('interest in insurance by vehicle age')\n",
    "\n",
    "plt.subplot( 1, 3, 3 )\n",
    "sns.barplot( x='vehicle_damage', y='response', data=df1 )\n",
    "sns.despine(offset = 10, trim = True)\n",
    "plt.title('vehicle damaged in the past');"
   ]
  },
  {
   "cell_type": "markdown",
   "id": "sonic-dominant",
   "metadata": {},
   "source": [
    "## 1.3 Target"
   ]
  },
  {
   "cell_type": "code",
   "execution_count": 18,
   "id": "commercial-ridge",
   "metadata": {
    "execution": {
     "iopub.execute_input": "2021-03-17T18:33:48.827295Z",
     "iopub.status.busy": "2021-03-17T18:33:48.827179Z",
     "iopub.status.idle": "2021-03-17T18:33:48.832410Z",
     "shell.execute_reply": "2021-03-17T18:33:48.832041Z",
     "shell.execute_reply.started": "2021-03-17T18:33:48.827280Z"
    }
   },
   "outputs": [
    {
     "data": {
      "text/plain": [
       "0    334399\n",
       "1     46710\n",
       "Name: response, dtype: int64"
      ]
     },
     "execution_count": 18,
     "metadata": {},
     "output_type": "execute_result"
    }
   ],
   "source": [
    "df1['response'].value_counts()"
   ]
  },
  {
   "cell_type": "code",
   "execution_count": 19,
   "id": "outer-particular",
   "metadata": {
    "execution": {
     "iopub.execute_input": "2021-03-17T18:33:48.833130Z",
     "iopub.status.busy": "2021-03-17T18:33:48.833011Z",
     "iopub.status.idle": "2021-03-17T18:33:49.001603Z",
     "shell.execute_reply": "2021-03-17T18:33:49.001228Z",
     "shell.execute_reply.started": "2021-03-17T18:33:48.833114Z"
    }
   },
   "outputs": [
    {
     "data": {
      "image/png": "[encoded data removed]",
      "text/plain": [
       "<Figure size 1440x576 with 1 Axes>"
      ]
     },
     "metadata": {},
     "output_type": "display_data"
    }
   ],
   "source": [
    "sns.histplot(df1, x = 'response')\n",
    "sns.despine(offset = 10, trim = True);"
   ]
  },
  {
   "cell_type": "markdown",
   "id": "controlling-vault",
   "metadata": {
    "execution": {
     "iopub.execute_input": "2021-02-15T15:21:06.870295Z",
     "iopub.status.busy": "2021-02-15T15:21:06.870049Z",
     "iopub.status.idle": "2021-02-15T15:21:06.873021Z",
     "shell.execute_reply": "2021-02-15T15:21:06.872445Z",
     "shell.execute_reply.started": "2021-02-15T15:21:06.870265Z"
    }
   },
   "source": [
    "# 2.0 Hypothesis"
   ]
  },
  {
   "cell_type": "markdown",
   "id": "exceptional-height",
   "metadata": {},
   "source": [
    "- People is equaly interested in insurance regardless their gender\n",
    "**FALSE**\n",
    "- The older the vehicle the greater is the interest in acquiring an insurance\n",
    "**TRUE**\n",
    "- If the owner damaged his vehicle before, he is more likely to acquire an insurance\n",
    "**TRUE**\n",
    "- People who has driving license are more interested in insurance\n",
    "**FALSE**\n",
    "- Different regions have different interesst in insurance\n",
    "**TRUE**\n",
    "- Different policy sales channel have different outcome for the customer\n",
    "**TRUE**\n",
    "- Who was previosly insured is less likely to acquire a new insurance service (had already showed commitment)\n",
    "**TRUE**\n",
    "- The higher Annual Premium, the lower interest in insurance\n",
    "**FALSE**\n",
    "- The higher vintage, the higher interest in insurance\n",
    "**FALSE**\n",
    "- The higher age, the higher interest in insurance\n",
    "**TRUE**"
   ]
  },
  {
   "cell_type": "markdown",
   "id": "supported-begin",
   "metadata": {
    "execution": {
     "iopub.execute_input": "2021-02-15T15:30:23.897810Z",
     "iopub.status.busy": "2021-02-15T15:30:23.897602Z",
     "iopub.status.idle": "2021-02-15T15:30:23.900094Z",
     "shell.execute_reply": "2021-02-15T15:30:23.899623Z",
     "shell.execute_reply.started": "2021-02-15T15:30:23.897787Z"
    }
   },
   "source": [
    "# 3.0 Exploratory Data Analysis"
   ]
  },
  {
   "cell_type": "code",
   "execution_count": 20,
   "id": "distributed-employer",
   "metadata": {
    "execution": {
     "iopub.execute_input": "2021-03-17T18:33:49.002328Z",
     "iopub.status.busy": "2021-03-17T18:33:49.002203Z",
     "iopub.status.idle": "2021-03-17T18:33:49.013141Z",
     "shell.execute_reply": "2021-03-17T18:33:49.012758Z",
     "shell.execute_reply.started": "2021-03-17T18:33:49.002312Z"
    }
   },
   "outputs": [],
   "source": [
    "df2 = df1.copy()"
   ]
  },
  {
   "cell_type": "markdown",
   "id": "registered-dispute",
   "metadata": {},
   "source": [
    "## 3.1 People who has driving license are more interested in insurance"
   ]
  },
  {
   "cell_type": "code",
   "execution_count": 21,
   "id": "aggressive-immune",
   "metadata": {
    "execution": {
     "iopub.execute_input": "2021-03-17T18:33:49.013816Z",
     "iopub.status.busy": "2021-03-17T18:33:49.013699Z",
     "iopub.status.idle": "2021-03-17T18:33:49.118178Z",
     "shell.execute_reply": "2021-03-17T18:33:49.117442Z",
     "shell.execute_reply.started": "2021-03-17T18:33:49.013801Z"
    }
   },
   "outputs": [
    {
     "data": {
      "text/html": [
       "<div>\n",
       "<style scoped>\n",
       "    .dataframe tbody tr th:only-of-type {\n",
       "        vertical-align: middle;\n",
       "    }\n",
       "\n",
       "    .dataframe tbody tr th {\n",
       "        vertical-align: top;\n",
       "    }\n",
       "\n",
       "    .dataframe thead th {\n",
       "        text-align: right;\n",
       "    }\n",
       "</style>\n",
       "<table border=\"1\" class=\"dataframe\">\n",
       "  <thead>\n",
       "    <tr style=\"text-align: right;\">\n",
       "      <th></th>\n",
       "      <th>response</th>\n",
       "      <th>driving_license</th>\n",
       "    </tr>\n",
       "  </thead>\n",
       "  <tbody>\n",
       "    <tr>\n",
       "      <th>0</th>\n",
       "      <td>0</td>\n",
       "      <td>0.997694</td>\n",
       "    </tr>\n",
       "    <tr>\n",
       "      <th>1</th>\n",
       "      <td>1</td>\n",
       "      <td>0.999122</td>\n",
       "    </tr>\n",
       "  </tbody>\n",
       "</table>\n",
       "</div>"
      ],
      "text/plain": [
       "   response  driving_license\n",
       "0         0         0.997694\n",
       "1         1         0.999122"
      ]
     },
     "execution_count": 21,
     "metadata": {},
     "output_type": "execute_result"
    },
    {
     "data": {
      "image/png": "[encoded data removed]",
      "text/plain": [
       "<Figure size 1440x576 with 1 Axes>"
      ]
     },
     "metadata": {},
     "output_type": "display_data"
    }
   ],
   "source": [
    "aux = df2[['driving_license', 'response']].groupby( 'response' ).mean().reset_index()\n",
    "sns.barplot( x='response', y='driving_license', data=aux )\n",
    "sns.despine(offset = 10, trim = True);\n",
    "\n",
    "aux.head()"
   ]
  },
  {
   "cell_type": "markdown",
   "id": "amended-privacy",
   "metadata": {},
   "source": [
    "## 3.2 Different regions have different interest in insurance"
   ]
  },
  {
   "cell_type": "code",
   "execution_count": 22,
   "id": "signal-legislature",
   "metadata": {
    "execution": {
     "iopub.execute_input": "2021-03-17T18:33:49.119681Z",
     "iopub.status.busy": "2021-03-17T18:33:49.119402Z",
     "iopub.status.idle": "2021-03-17T18:33:49.423458Z",
     "shell.execute_reply": "2021-03-17T18:33:49.423062Z",
     "shell.execute_reply.started": "2021-03-17T18:33:49.119641Z"
    }
   },
   "outputs": [
    {
     "data": {
      "text/html": [
       "<div>\n",
       "<style scoped>\n",
       "    .dataframe tbody tr th:only-of-type {\n",
       "        vertical-align: middle;\n",
       "    }\n",
       "\n",
       "    .dataframe tbody tr th {\n",
       "        vertical-align: top;\n",
       "    }\n",
       "\n",
       "    .dataframe thead th {\n",
       "        text-align: right;\n",
       "    }\n",
       "</style>\n",
       "<table border=\"1\" class=\"dataframe\">\n",
       "  <thead>\n",
       "    <tr style=\"text-align: right;\">\n",
       "      <th></th>\n",
       "      <th>0</th>\n",
       "      <th>1</th>\n",
       "      <th>2</th>\n",
       "      <th>3</th>\n",
       "      <th>4</th>\n",
       "      <th>5</th>\n",
       "      <th>6</th>\n",
       "      <th>7</th>\n",
       "      <th>8</th>\n",
       "      <th>9</th>\n",
       "      <th>10</th>\n",
       "      <th>11</th>\n",
       "      <th>12</th>\n",
       "      <th>13</th>\n",
       "      <th>14</th>\n",
       "    </tr>\n",
       "  </thead>\n",
       "  <tbody>\n",
       "    <tr>\n",
       "      <th>region_code</th>\n",
       "      <td>38.000000</td>\n",
       "      <td>28.000000</td>\n",
       "      <td>19.000000</td>\n",
       "      <td>4.000000</td>\n",
       "      <td>23.000000</td>\n",
       "      <td>51.000000</td>\n",
       "      <td>24.000000</td>\n",
       "      <td>7.000000</td>\n",
       "      <td>18.000000</td>\n",
       "      <td>3.000000</td>\n",
       "      <td>35.000000</td>\n",
       "      <td>39.0000</td>\n",
       "      <td>52.000000</td>\n",
       "      <td>29.000000</td>\n",
       "      <td>41.000000</td>\n",
       "    </tr>\n",
       "    <tr>\n",
       "      <th>response</th>\n",
       "      <td>0.192004</td>\n",
       "      <td>0.187163</td>\n",
       "      <td>0.162866</td>\n",
       "      <td>0.158245</td>\n",
       "      <td>0.153061</td>\n",
       "      <td>0.153005</td>\n",
       "      <td>0.141615</td>\n",
       "      <td>0.131747</td>\n",
       "      <td>0.131574</td>\n",
       "      <td>0.127662</td>\n",
       "      <td>0.124604</td>\n",
       "      <td>0.1236</td>\n",
       "      <td>0.123596</td>\n",
       "      <td>0.123362</td>\n",
       "      <td>0.121776</td>\n",
       "    </tr>\n",
       "  </tbody>\n",
       "</table>\n",
       "</div>"
      ],
      "text/plain": [
       "                    0          1          2         3          4          5          6         7          8         9          10       11         12         13         14\n",
       "region_code  38.000000  28.000000  19.000000  4.000000  23.000000  51.000000  24.000000  7.000000  18.000000  3.000000  35.000000  39.0000  52.000000  29.000000  41.000000\n",
       "response      0.192004   0.187163   0.162866  0.158245   0.153061   0.153005   0.141615  0.131747   0.131574  0.127662   0.124604   0.1236   0.123596   0.123362   0.121776"
      ]
     },
     "execution_count": 22,
     "metadata": {},
     "output_type": "execute_result"
    },
    {
     "data": {
      "image/png": "[encoded data removed]",
      "text/plain": [
       "<Figure size 1440x576 with 1 Axes>"
      ]
     },
     "metadata": {},
     "output_type": "display_data"
    }
   ],
   "source": [
    "aux = df2[['region_code', 'response']].groupby('region_code').mean().sort_values(by = 'response', ascending = False).reset_index() \n",
    "sns.barplot(x = 'region_code', y = 'response', data = aux, order = aux['region_code'].head(30))\n",
    "sns.despine(offset = 10, trim = True)\n",
    "aux.head(15).T"
   ]
  },
  {
   "cell_type": "markdown",
   "id": "compressed-accreditation",
   "metadata": {},
   "source": [
    "## 3.3 Different policy sales channel have different outcome for the customer"
   ]
  },
  {
   "cell_type": "code",
   "execution_count": 23,
   "id": "executive-single",
   "metadata": {
    "execution": {
     "iopub.execute_input": "2021-03-17T18:33:49.425552Z",
     "iopub.status.busy": "2021-03-17T18:33:49.425440Z",
     "iopub.status.idle": "2021-03-17T18:33:49.704213Z",
     "shell.execute_reply": "2021-03-17T18:33:49.703769Z",
     "shell.execute_reply.started": "2021-03-17T18:33:49.425537Z"
    }
   },
   "outputs": [
    {
     "data": {
      "text/html": [
       "<div>\n",
       "<style scoped>\n",
       "    .dataframe tbody tr th:only-of-type {\n",
       "        vertical-align: middle;\n",
       "    }\n",
       "\n",
       "    .dataframe tbody tr th {\n",
       "        vertical-align: top;\n",
       "    }\n",
       "\n",
       "    .dataframe thead th {\n",
       "        text-align: right;\n",
       "    }\n",
       "</style>\n",
       "<table border=\"1\" class=\"dataframe\">\n",
       "  <thead>\n",
       "    <tr style=\"text-align: right;\">\n",
       "      <th></th>\n",
       "      <th>0</th>\n",
       "      <th>1</th>\n",
       "      <th>2</th>\n",
       "      <th>3</th>\n",
       "      <th>4</th>\n",
       "      <th>5</th>\n",
       "      <th>6</th>\n",
       "      <th>7</th>\n",
       "      <th>8</th>\n",
       "      <th>9</th>\n",
       "      <th>10</th>\n",
       "      <th>11</th>\n",
       "      <th>12</th>\n",
       "      <th>13</th>\n",
       "      <th>14</th>\n",
       "    </tr>\n",
       "  </thead>\n",
       "  <tbody>\n",
       "    <tr>\n",
       "      <th>policy_sales_channel</th>\n",
       "      <td>123.0</td>\n",
       "      <td>43.0</td>\n",
       "      <td>27.000000</td>\n",
       "      <td>28.000000</td>\n",
       "      <td>36.000000</td>\n",
       "      <td>155.000000</td>\n",
       "      <td>163.000000</td>\n",
       "      <td>3.000000</td>\n",
       "      <td>121.000000</td>\n",
       "      <td>101.000000</td>\n",
       "      <td>87.000000</td>\n",
       "      <td>80.000000</td>\n",
       "      <td>81.000000</td>\n",
       "      <td>158.00000</td>\n",
       "      <td>90.000000</td>\n",
       "    </tr>\n",
       "    <tr>\n",
       "      <th>response</th>\n",
       "      <td>1.0</td>\n",
       "      <td>1.0</td>\n",
       "      <td>0.333333</td>\n",
       "      <td>0.333333</td>\n",
       "      <td>0.326923</td>\n",
       "      <td>0.320097</td>\n",
       "      <td>0.304183</td>\n",
       "      <td>0.304015</td>\n",
       "      <td>0.296875</td>\n",
       "      <td>0.285714</td>\n",
       "      <td>0.285714</td>\n",
       "      <td>0.285714</td>\n",
       "      <td>0.285714</td>\n",
       "      <td>0.27439</td>\n",
       "      <td>0.269231</td>\n",
       "    </tr>\n",
       "  </tbody>\n",
       "</table>\n",
       "</div>"
      ],
      "text/plain": [
       "                         0     1          2          3          4           5           6         7           8           9          10         11         12         13         14\n",
       "policy_sales_channel  123.0  43.0  27.000000  28.000000  36.000000  155.000000  163.000000  3.000000  121.000000  101.000000  87.000000  80.000000  81.000000  158.00000  90.000000\n",
       "response                1.0   1.0   0.333333   0.333333   0.326923    0.320097    0.304183  0.304015    0.296875    0.285714   0.285714   0.285714   0.285714    0.27439   0.269231"
      ]
     },
     "execution_count": 23,
     "metadata": {},
     "output_type": "execute_result"
    },
    {
     "data": {
      "image/png": "[encoded data removed]",
      "text/plain": [
       "<Figure size 1440x576 with 1 Axes>"
      ]
     },
     "metadata": {},
     "output_type": "display_data"
    }
   ],
   "source": [
    "aux = df2[['policy_sales_channel', 'response']].groupby('policy_sales_channel').mean().sort_values(by = 'response', ascending = False).reset_index() \n",
    "sns.barplot(x = 'policy_sales_channel', y = 'response', data = aux.head(30), order = aux['policy_sales_channel'].head(30))\n",
    "sns.despine(offset = 10, trim = True);\n",
    "aux.head(15).T"
   ]
  },
  {
   "cell_type": "markdown",
   "id": "champion-candidate",
   "metadata": {
    "execution": {
     "iopub.execute_input": "2021-02-15T17:53:12.856694Z",
     "iopub.status.busy": "2021-02-15T17:53:12.856446Z",
     "iopub.status.idle": "2021-02-15T17:53:12.859536Z",
     "shell.execute_reply": "2021-02-15T17:53:12.858904Z",
     "shell.execute_reply.started": "2021-02-15T17:53:12.856667Z"
    }
   },
   "source": [
    "## 3.4 Who was previosly insured is less likely to acquire a new insurance service"
   ]
  },
  {
   "cell_type": "code",
   "execution_count": 24,
   "id": "minus-economics",
   "metadata": {
    "execution": {
     "iopub.execute_input": "2021-03-17T18:33:49.705206Z",
     "iopub.status.busy": "2021-03-17T18:33:49.705096Z",
     "iopub.status.idle": "2021-03-17T18:33:49.891168Z",
     "shell.execute_reply": "2021-03-17T18:33:49.890794Z",
     "shell.execute_reply.started": "2021-03-17T18:33:49.705191Z"
    }
   },
   "outputs": [
    {
     "data": {
      "text/html": [
       "<div>\n",
       "<style scoped>\n",
       "    .dataframe tbody tr th:only-of-type {\n",
       "        vertical-align: middle;\n",
       "    }\n",
       "\n",
       "    .dataframe tbody tr th {\n",
       "        vertical-align: top;\n",
       "    }\n",
       "\n",
       "    .dataframe thead th {\n",
       "        text-align: right;\n",
       "    }\n",
       "</style>\n",
       "<table border=\"1\" class=\"dataframe\">\n",
       "  <thead>\n",
       "    <tr style=\"text-align: right;\">\n",
       "      <th></th>\n",
       "      <th>response</th>\n",
       "      <th>previously_insured</th>\n",
       "    </tr>\n",
       "  </thead>\n",
       "  <tbody>\n",
       "    <tr>\n",
       "      <th>0</th>\n",
       "      <td>0</td>\n",
       "      <td>0.521742</td>\n",
       "    </tr>\n",
       "    <tr>\n",
       "      <th>1</th>\n",
       "      <td>1</td>\n",
       "      <td>0.003383</td>\n",
       "    </tr>\n",
       "  </tbody>\n",
       "</table>\n",
       "</div>"
      ],
      "text/plain": [
       "   response  previously_insured\n",
       "0         0            0.521742\n",
       "1         1            0.003383"
      ]
     },
     "execution_count": 24,
     "metadata": {},
     "output_type": "execute_result"
    },
    {
     "data": {
      "image/png": "[encoded data removed]",
      "text/plain": [
       "<Figure size 1440x576 with 1 Axes>"
      ]
     },
     "metadata": {},
     "output_type": "display_data"
    }
   ],
   "source": [
    "aux = df2[['previously_insured', 'response']].groupby( 'response' ).mean().reset_index()\n",
    "sns.barplot( x='response', y='previously_insured', data=aux )\n",
    "sns.despine(offset = 10, trim = True)\n",
    "plt.title('Previously insured and interest in insurance');\n",
    "\n",
    "aux.head()"
   ]
  },
  {
   "cell_type": "markdown",
   "id": "wireless-upgrade",
   "metadata": {},
   "source": [
    "## 3.5 The higher Annual Premium, the lower interest in insurance"
   ]
  },
  {
   "cell_type": "code",
   "execution_count": 25,
   "id": "freelance-fence",
   "metadata": {
    "execution": {
     "iopub.execute_input": "2021-03-17T18:33:49.891843Z",
     "iopub.status.busy": "2021-03-17T18:33:49.891726Z",
     "iopub.status.idle": "2021-03-17T18:33:49.912666Z",
     "shell.execute_reply": "2021-03-17T18:33:49.912025Z",
     "shell.execute_reply.started": "2021-03-17T18:33:49.891827Z"
    }
   },
   "outputs": [
    {
     "name": "stdout",
     "output_type": "stream",
     "text": [
      "Annual premium interested     (mean): 31604.092742453435\n",
      "Annual premium not interested (mean): 30419.16027559891\n"
     ]
    }
   ],
   "source": [
    "aux1 = df2[df2['response'] == 1]\n",
    "aux2 = df2[df2['response'] == 0]\n",
    "\n",
    "x = aux1['annual_premium'].mean()\n",
    "y = aux2['annual_premium'].mean()\n",
    "\n",
    "print('Annual premium interested     (mean):', x)\n",
    "print('Annual premium not interested (mean):', y)"
   ]
  },
  {
   "cell_type": "code",
   "execution_count": 26,
   "id": "fatal-order",
   "metadata": {
    "execution": {
     "iopub.execute_input": "2021-03-17T18:33:49.913867Z",
     "iopub.status.busy": "2021-03-17T18:33:49.913636Z",
     "iopub.status.idle": "2021-03-17T18:33:55.600219Z",
     "shell.execute_reply": "2021-03-17T18:33:55.599763Z",
     "shell.execute_reply.started": "2021-03-17T18:33:49.913838Z"
    }
   },
   "outputs": [
    {
     "data": {
      "image/png": "[encoded data removed]",
      "text/plain": [
       "<Figure size 1440x576 with 1 Axes>"
      ]
     },
     "metadata": {},
     "output_type": "display_data"
    }
   ],
   "source": [
    "aux3 = df2[df2['annual_premium'] > 3000]\n",
    "\n",
    "sns.histplot(aux3, x=\"annual_premium\", hue=\"response\", kde = True)\n",
    "sns.despine(offset = 10, trim = True);"
   ]
  },
  {
   "cell_type": "code",
   "execution_count": 27,
   "id": "usual-tanzania",
   "metadata": {
    "execution": {
     "iopub.execute_input": "2021-03-17T18:33:55.600960Z",
     "iopub.status.busy": "2021-03-17T18:33:55.600850Z",
     "iopub.status.idle": "2021-03-17T18:33:57.104972Z",
     "shell.execute_reply": "2021-03-17T18:33:57.104546Z",
     "shell.execute_reply.started": "2021-03-17T18:33:55.600945Z"
    }
   },
   "outputs": [
    {
     "data": {
      "image/png": "[encoded data removed]",
      "text/plain": [
       "<Figure size 1440x576 with 1 Axes>"
      ]
     },
     "metadata": {},
     "output_type": "display_data"
    }
   ],
   "source": [
    "aux3 = df2[df2['annual_premium'] < 80000]\n",
    "sns.boxplot(x = 'response',y = 'annual_premium', data = aux3)\n",
    "sns.despine(offset = 10, trim = True);"
   ]
  },
  {
   "cell_type": "markdown",
   "id": "dominican-league",
   "metadata": {},
   "source": [
    "## 3.6 The higher vintage, the higher interest in insurance"
   ]
  },
  {
   "cell_type": "code",
   "execution_count": 28,
   "id": "innovative-closure",
   "metadata": {
    "execution": {
     "iopub.execute_input": "2021-03-17T18:33:57.105650Z",
     "iopub.status.busy": "2021-03-17T18:33:57.105542Z",
     "iopub.status.idle": "2021-03-17T18:33:57.109191Z",
     "shell.execute_reply": "2021-03-17T18:33:57.108826Z",
     "shell.execute_reply.started": "2021-03-17T18:33:57.105635Z"
    }
   },
   "outputs": [
    {
     "name": "stdout",
     "output_type": "stream",
     "text": [
      "vintage of interested     (mean): 154.11224577178334\n",
      "vintage of not interested (mean): 154.38024336197176\n"
     ]
    }
   ],
   "source": [
    "x = aux1['vintage'].mean()\n",
    "y = aux2['vintage'].mean()\n",
    "\n",
    "print('vintage of interested     (mean):', x)\n",
    "print('vintage of not interested (mean):', y)"
   ]
  },
  {
   "cell_type": "code",
   "execution_count": 29,
   "id": "mathematical-publisher",
   "metadata": {
    "execution": {
     "iopub.execute_input": "2021-03-17T18:33:57.109844Z",
     "iopub.status.busy": "2021-03-17T18:33:57.109731Z",
     "iopub.status.idle": "2021-03-17T18:33:57.255110Z",
     "shell.execute_reply": "2021-03-17T18:33:57.254404Z",
     "shell.execute_reply.started": "2021-03-17T18:33:57.109830Z"
    }
   },
   "outputs": [
    {
     "data": {
      "image/png": "[encoded data removed]",
      "text/plain": [
       "<Figure size 1440x576 with 1 Axes>"
      ]
     },
     "metadata": {},
     "output_type": "display_data"
    }
   ],
   "source": [
    "sns.boxplot(x = 'response', y = 'vintage', data = df2)\n",
    "sns.despine(offset = 10, trim = True);"
   ]
  },
  {
   "cell_type": "markdown",
   "id": "classified-desert",
   "metadata": {},
   "source": [
    "## 3.7 - The higher age, the higher interest in insurance"
   ]
  },
  {
   "cell_type": "code",
   "execution_count": 30,
   "id": "alike-nevada",
   "metadata": {
    "execution": {
     "iopub.execute_input": "2021-03-17T18:33:57.256787Z",
     "iopub.status.busy": "2021-03-17T18:33:57.256455Z",
     "iopub.status.idle": "2021-03-17T18:33:57.263375Z",
     "shell.execute_reply": "2021-03-17T18:33:57.262922Z",
     "shell.execute_reply.started": "2021-03-17T18:33:57.256743Z"
    }
   },
   "outputs": [
    {
     "name": "stdout",
     "output_type": "stream",
     "text": [
      "age of interested     (mean): 43.435559837293944\n",
      "age of not interested (mean): 38.17822720761725\n"
     ]
    }
   ],
   "source": [
    "x = aux1['age'].mean()\n",
    "y = aux2['age'].mean()\n",
    "\n",
    "print('age of interested     (mean):', x)\n",
    "print('age of not interested (mean):', y)"
   ]
  },
  {
   "cell_type": "code",
   "execution_count": 31,
   "id": "severe-affect",
   "metadata": {
    "execution": {
     "iopub.execute_input": "2021-03-17T18:33:57.264239Z",
     "iopub.status.busy": "2021-03-17T18:33:57.264076Z",
     "iopub.status.idle": "2021-03-17T18:33:57.393790Z",
     "shell.execute_reply": "2021-03-17T18:33:57.393267Z",
     "shell.execute_reply.started": "2021-03-17T18:33:57.264216Z"
    }
   },
   "outputs": [
    {
     "data": {
      "image/png": "[encoded data removed]",
      "text/plain": [
       "<Figure size 1440x576 with 1 Axes>"
      ]
     },
     "metadata": {},
     "output_type": "display_data"
    }
   ],
   "source": [
    "sns.boxplot(x = 'response', y = 'age', data = df2);\n",
    "sns.despine(offset = 10, trim = True)"
   ]
  },
  {
   "cell_type": "markdown",
   "id": "beautiful-turkey",
   "metadata": {},
   "source": [
    "# 4.0 Bivariate Analysis"
   ]
  },
  {
   "cell_type": "code",
   "execution_count": 32,
   "id": "tropical-stuff",
   "metadata": {
    "execution": {
     "iopub.execute_input": "2021-03-17T18:33:57.394759Z",
     "iopub.status.busy": "2021-03-17T18:33:57.394593Z",
     "iopub.status.idle": "2021-03-17T18:33:57.936594Z",
     "shell.execute_reply": "2021-03-17T18:33:57.935902Z",
     "shell.execute_reply.started": "2021-03-17T18:33:57.394736Z"
    }
   },
   "outputs": [
    {
     "data": {
      "image/png": "[encoded data removed]",
      "text/plain": [
       "<Figure size 1440x576 with 2 Axes>"
      ]
     },
     "metadata": {},
     "output_type": "display_data"
    }
   ],
   "source": [
    "correlation = num_attributes.corr(method = 'pearson')\n",
    "sns.heatmap(correlation, annot = True);"
   ]
  },
  {
   "cell_type": "markdown",
   "id": "local-female",
   "metadata": {},
   "source": [
    "# 5.0 Data Preparation"
   ]
  },
  {
   "cell_type": "code",
   "execution_count": 33,
   "id": "special-institution",
   "metadata": {
    "execution": {
     "iopub.execute_input": "2021-03-17T18:33:57.937668Z",
     "iopub.status.busy": "2021-03-17T18:33:57.937421Z",
     "iopub.status.idle": "2021-03-17T18:33:57.950756Z",
     "shell.execute_reply": "2021-03-17T18:33:57.950174Z",
     "shell.execute_reply.started": "2021-03-17T18:33:57.937644Z"
    }
   },
   "outputs": [],
   "source": [
    "df3 = df2.copy()"
   ]
  },
  {
   "cell_type": "markdown",
   "id": "vanilla-cradle",
   "metadata": {},
   "source": [
    "## 5.1 Encoding"
   ]
  },
  {
   "cell_type": "code",
   "execution_count": 34,
   "id": "innocent-terrain",
   "metadata": {
    "execution": {
     "iopub.execute_input": "2021-03-17T18:33:57.951807Z",
     "iopub.status.busy": "2021-03-17T18:33:57.951623Z",
     "iopub.status.idle": "2021-03-17T18:33:58.050417Z",
     "shell.execute_reply": "2021-03-17T18:33:58.050014Z",
     "shell.execute_reply.started": "2021-03-17T18:33:57.951783Z"
    }
   },
   "outputs": [],
   "source": [
    "#gender\n",
    "df3['gender'] = df3['gender'].map( {'Male': 1, 'Female':0} )\n",
    "\n",
    "#vehicle damage\n",
    "df3['vehicle_damage'] = df3['vehicle_damage'].map( {'Yes': 1, 'No':0} )\n",
    "\n",
    "#vehicle_age\n",
    "df3 = pd.get_dummies( df3, prefix='vehicle_age', columns=['vehicle_age'] )"
   ]
  },
  {
   "cell_type": "code",
   "execution_count": 35,
   "id": "secret-admission",
   "metadata": {
    "execution": {
     "iopub.execute_input": "2021-03-17T18:33:58.051107Z",
     "iopub.status.busy": "2021-03-17T18:33:58.050996Z",
     "iopub.status.idle": "2021-03-17T18:33:58.060622Z",
     "shell.execute_reply": "2021-03-17T18:33:58.060204Z",
     "shell.execute_reply.started": "2021-03-17T18:33:58.051093Z"
    }
   },
   "outputs": [
    {
     "data": {
      "text/html": [
       "<div>\n",
       "<style scoped>\n",
       "    .dataframe tbody tr th:only-of-type {\n",
       "        vertical-align: middle;\n",
       "    }\n",
       "\n",
       "    .dataframe tbody tr th {\n",
       "        vertical-align: top;\n",
       "    }\n",
       "\n",
       "    .dataframe thead th {\n",
       "        text-align: right;\n",
       "    }\n",
       "</style>\n",
       "<table border=\"1\" class=\"dataframe\">\n",
       "  <thead>\n",
       "    <tr style=\"text-align: right;\">\n",
       "      <th></th>\n",
       "      <th>id</th>\n",
       "      <th>gender</th>\n",
       "      <th>age</th>\n",
       "      <th>driving_license</th>\n",
       "      <th>region_code</th>\n",
       "      <th>previously_insured</th>\n",
       "      <th>vehicle_damage</th>\n",
       "      <th>annual_premium</th>\n",
       "      <th>policy_sales_channel</th>\n",
       "      <th>vintage</th>\n",
       "      <th>response</th>\n",
       "      <th>vehicle_age_1-2 Year</th>\n",
       "      <th>vehicle_age_&lt; 1 Year</th>\n",
       "      <th>vehicle_age_&gt; 2 Years</th>\n",
       "    </tr>\n",
       "  </thead>\n",
       "  <tbody>\n",
       "    <tr>\n",
       "      <th>0</th>\n",
       "      <td>1</td>\n",
       "      <td>1</td>\n",
       "      <td>44</td>\n",
       "      <td>1</td>\n",
       "      <td>28.0</td>\n",
       "      <td>0</td>\n",
       "      <td>1</td>\n",
       "      <td>40454.0</td>\n",
       "      <td>26.0</td>\n",
       "      <td>217</td>\n",
       "      <td>1</td>\n",
       "      <td>0</td>\n",
       "      <td>0</td>\n",
       "      <td>1</td>\n",
       "    </tr>\n",
       "    <tr>\n",
       "      <th>1</th>\n",
       "      <td>2</td>\n",
       "      <td>1</td>\n",
       "      <td>76</td>\n",
       "      <td>1</td>\n",
       "      <td>3.0</td>\n",
       "      <td>0</td>\n",
       "      <td>0</td>\n",
       "      <td>33536.0</td>\n",
       "      <td>26.0</td>\n",
       "      <td>183</td>\n",
       "      <td>0</td>\n",
       "      <td>1</td>\n",
       "      <td>0</td>\n",
       "      <td>0</td>\n",
       "    </tr>\n",
       "    <tr>\n",
       "      <th>2</th>\n",
       "      <td>3</td>\n",
       "      <td>1</td>\n",
       "      <td>47</td>\n",
       "      <td>1</td>\n",
       "      <td>28.0</td>\n",
       "      <td>0</td>\n",
       "      <td>1</td>\n",
       "      <td>38294.0</td>\n",
       "      <td>26.0</td>\n",
       "      <td>27</td>\n",
       "      <td>1</td>\n",
       "      <td>0</td>\n",
       "      <td>0</td>\n",
       "      <td>1</td>\n",
       "    </tr>\n",
       "    <tr>\n",
       "      <th>3</th>\n",
       "      <td>4</td>\n",
       "      <td>1</td>\n",
       "      <td>21</td>\n",
       "      <td>1</td>\n",
       "      <td>11.0</td>\n",
       "      <td>1</td>\n",
       "      <td>0</td>\n",
       "      <td>28619.0</td>\n",
       "      <td>152.0</td>\n",
       "      <td>203</td>\n",
       "      <td>0</td>\n",
       "      <td>0</td>\n",
       "      <td>1</td>\n",
       "      <td>0</td>\n",
       "    </tr>\n",
       "    <tr>\n",
       "      <th>4</th>\n",
       "      <td>5</td>\n",
       "      <td>0</td>\n",
       "      <td>29</td>\n",
       "      <td>1</td>\n",
       "      <td>41.0</td>\n",
       "      <td>1</td>\n",
       "      <td>0</td>\n",
       "      <td>27496.0</td>\n",
       "      <td>152.0</td>\n",
       "      <td>39</td>\n",
       "      <td>0</td>\n",
       "      <td>0</td>\n",
       "      <td>1</td>\n",
       "      <td>0</td>\n",
       "    </tr>\n",
       "  </tbody>\n",
       "</table>\n",
       "</div>"
      ],
      "text/plain": [
       "   id  gender  age  driving_license  region_code  previously_insured  vehicle_damage  annual_premium  policy_sales_channel  vintage  response  vehicle_age_1-2 Year  vehicle_age_< 1 Year  vehicle_age_> 2 Years\n",
       "0   1       1   44                1         28.0                   0               1         40454.0                  26.0      217         1                     0                     0                      1\n",
       "1   2       1   76                1          3.0                   0               0         33536.0                  26.0      183         0                     1                     0                      0\n",
       "2   3       1   47                1         28.0                   0               1         38294.0                  26.0       27         1                     0                     0                      1\n",
       "3   4       1   21                1         11.0                   1               0         28619.0                 152.0      203         0                     0                     1                      0\n",
       "4   5       0   29                1         41.0                   1               0         27496.0                 152.0       39         0                     0                     1                      0"
      ]
     },
     "execution_count": 35,
     "metadata": {},
     "output_type": "execute_result"
    }
   ],
   "source": [
    "df3.head()"
   ]
  },
  {
   "cell_type": "markdown",
   "id": "compressed-smile",
   "metadata": {},
   "source": [
    "## 5.1.2 Target Encoding with Kfold"
   ]
  },
  {
   "cell_type": "markdown",
   "id": "continent-petite",
   "metadata": {},
   "source": [
    "Targeting encoding using folds is meant to prevent overfitting in the training set. By using folds, instead of the entire training set, we average n folds to encode the category based on it's grouped mean. In the end, we print the correlation of the new feature with the target to see if the process is sustainable, i.e, the correlation is not very large. "
   ]
  },
  {
   "cell_type": "markdown",
   "id": "suited-music",
   "metadata": {
    "execution": {
     "iopub.execute_input": "2021-02-23T15:13:58.904426Z",
     "iopub.status.busy": "2021-02-23T15:13:58.904182Z",
     "iopub.status.idle": "2021-02-23T15:13:58.908944Z",
     "shell.execute_reply": "2021-02-23T15:13:58.907962Z",
     "shell.execute_reply.started": "2021-02-23T15:13:58.904393Z"
    }
   },
   "source": [
    "**Region Code**"
   ]
  },
  {
   "cell_type": "code",
   "execution_count": 36,
   "id": "starting-depth",
   "metadata": {
    "execution": {
     "iopub.execute_input": "2021-03-17T18:33:58.061282Z",
     "iopub.status.busy": "2021-03-17T18:33:58.061172Z",
     "iopub.status.idle": "2021-03-17T18:33:58.425587Z",
     "shell.execute_reply": "2021-03-17T18:33:58.425184Z",
     "shell.execute_reply.started": "2021-03-17T18:33:58.061266Z"
    }
   },
   "outputs": [
    {
     "name": "stdout",
     "output_type": "stream",
     "text": [
      "KFold(n_splits=5, random_state=2021, shuffle=True)\n",
      "Correlation between the new feature, region_code_Kfold_Target_Enc and, response is 0.13725713378653778.\n"
     ]
    },
    {
     "data": {
      "text/html": [
       "<div>\n",
       "<style scoped>\n",
       "    .dataframe tbody tr th:only-of-type {\n",
       "        vertical-align: middle;\n",
       "    }\n",
       "\n",
       "    .dataframe tbody tr th {\n",
       "        vertical-align: top;\n",
       "    }\n",
       "\n",
       "    .dataframe thead th {\n",
       "        text-align: right;\n",
       "    }\n",
       "</style>\n",
       "<table border=\"1\" class=\"dataframe\">\n",
       "  <thead>\n",
       "    <tr style=\"text-align: right;\">\n",
       "      <th></th>\n",
       "      <th>region_code_Kfold_Target_Enc</th>\n",
       "      <th>region_code</th>\n",
       "    </tr>\n",
       "  </thead>\n",
       "  <tbody>\n",
       "    <tr>\n",
       "      <th>0</th>\n",
       "      <td>0.185753</td>\n",
       "      <td>28.0</td>\n",
       "    </tr>\n",
       "    <tr>\n",
       "      <th>1</th>\n",
       "      <td>0.129355</td>\n",
       "      <td>3.0</td>\n",
       "    </tr>\n",
       "    <tr>\n",
       "      <th>2</th>\n",
       "      <td>0.186828</td>\n",
       "      <td>28.0</td>\n",
       "    </tr>\n",
       "    <tr>\n",
       "      <th>3</th>\n",
       "      <td>0.114010</td>\n",
       "      <td>11.0</td>\n",
       "    </tr>\n",
       "    <tr>\n",
       "      <th>4</th>\n",
       "      <td>0.122466</td>\n",
       "      <td>41.0</td>\n",
       "    </tr>\n",
       "    <tr>\n",
       "      <th>5</th>\n",
       "      <td>0.099415</td>\n",
       "      <td>33.0</td>\n",
       "    </tr>\n",
       "  </tbody>\n",
       "</table>\n",
       "</div>"
      ],
      "text/plain": [
       "   region_code_Kfold_Target_Enc  region_code\n",
       "0                      0.185753         28.0\n",
       "1                      0.129355          3.0\n",
       "2                      0.186828         28.0\n",
       "3                      0.114010         11.0\n",
       "4                      0.122466         41.0\n",
       "5                      0.099415         33.0"
      ]
     },
     "execution_count": 36,
     "metadata": {},
     "output_type": "execute_result"
    }
   ],
   "source": [
    "target_encoder = KFoldTargetEncoder('region_code','response',n_fold=5)\n",
    "df3 = target_encoder.fit_transform(df3)\n",
    "\n",
    "df3[['region_code_Kfold_Target_Enc','region_code']].head(6)"
   ]
  },
  {
   "cell_type": "markdown",
   "id": "integral-salvation",
   "metadata": {},
   "source": [
    "**Policy sales channel**"
   ]
  },
  {
   "cell_type": "code",
   "execution_count": 37,
   "id": "every-authorization",
   "metadata": {
    "execution": {
     "iopub.execute_input": "2021-03-17T18:33:58.426224Z",
     "iopub.status.busy": "2021-03-17T18:33:58.426104Z",
     "iopub.status.idle": "2021-03-17T18:33:58.582708Z",
     "shell.execute_reply": "2021-03-17T18:33:58.582308Z",
     "shell.execute_reply.started": "2021-03-17T18:33:58.426209Z"
    }
   },
   "outputs": [
    {
     "name": "stdout",
     "output_type": "stream",
     "text": [
      "KFold(n_splits=5, random_state=2021, shuffle=True)\n",
      "Correlation between the new feature, policy_sales_channel_Kfold_Target_Enc and, response is 0.26192635929712205.\n"
     ]
    },
    {
     "data": {
      "text/html": [
       "<div>\n",
       "<style scoped>\n",
       "    .dataframe tbody tr th:only-of-type {\n",
       "        vertical-align: middle;\n",
       "    }\n",
       "\n",
       "    .dataframe tbody tr th {\n",
       "        vertical-align: top;\n",
       "    }\n",
       "\n",
       "    .dataframe thead th {\n",
       "        text-align: right;\n",
       "    }\n",
       "</style>\n",
       "<table border=\"1\" class=\"dataframe\">\n",
       "  <thead>\n",
       "    <tr style=\"text-align: right;\">\n",
       "      <th></th>\n",
       "      <th>policy_sales_channel_Kfold_Target_Enc</th>\n",
       "      <th>region_code</th>\n",
       "    </tr>\n",
       "  </thead>\n",
       "  <tbody>\n",
       "    <tr>\n",
       "      <th>0</th>\n",
       "      <td>0.199385</td>\n",
       "      <td>28.0</td>\n",
       "    </tr>\n",
       "    <tr>\n",
       "      <th>1</th>\n",
       "      <td>0.198666</td>\n",
       "      <td>3.0</td>\n",
       "    </tr>\n",
       "    <tr>\n",
       "      <th>2</th>\n",
       "      <td>0.198666</td>\n",
       "      <td>28.0</td>\n",
       "    </tr>\n",
       "    <tr>\n",
       "      <th>3</th>\n",
       "      <td>0.028425</td>\n",
       "      <td>11.0</td>\n",
       "    </tr>\n",
       "    <tr>\n",
       "      <th>4</th>\n",
       "      <td>0.028729</td>\n",
       "      <td>41.0</td>\n",
       "    </tr>\n",
       "    <tr>\n",
       "      <th>5</th>\n",
       "      <td>0.021735</td>\n",
       "      <td>33.0</td>\n",
       "    </tr>\n",
       "  </tbody>\n",
       "</table>\n",
       "</div>"
      ],
      "text/plain": [
       "   policy_sales_channel_Kfold_Target_Enc  region_code\n",
       "0                               0.199385         28.0\n",
       "1                               0.198666          3.0\n",
       "2                               0.198666         28.0\n",
       "3                               0.028425         11.0\n",
       "4                               0.028729         41.0\n",
       "5                               0.021735         33.0"
      ]
     },
     "execution_count": 37,
     "metadata": {},
     "output_type": "execute_result"
    }
   ],
   "source": [
    "target_encoder = KFoldTargetEncoder('policy_sales_channel','response',n_fold=5)\n",
    "df3 = target_encoder.fit_transform(df3)\n",
    "\n",
    "df3[['policy_sales_channel_Kfold_Target_Enc','region_code']].head(6)"
   ]
  },
  {
   "cell_type": "markdown",
   "id": "intimate-outline",
   "metadata": {},
   "source": [
    "## 5.2 Split Dataset"
   ]
  },
  {
   "cell_type": "code",
   "execution_count": 38,
   "id": "steady-copyright",
   "metadata": {
    "execution": {
     "iopub.execute_input": "2021-03-17T18:33:58.583389Z",
     "iopub.status.busy": "2021-03-17T18:33:58.583284Z",
     "iopub.status.idle": "2021-03-17T18:33:58.598806Z",
     "shell.execute_reply": "2021-03-17T18:33:58.598324Z",
     "shell.execute_reply.started": "2021-03-17T18:33:58.583374Z"
    }
   },
   "outputs": [],
   "source": [
    "df3.drop(columns = [ 'policy_sales_channel', 'region_code', 'id'], inplace = True)\n",
    "\n",
    "columns_order = ['gender', \n",
    "                 'age', \n",
    "                 'driving_license', \n",
    "                 'previously_insured',\n",
    "                 'vehicle_damage', \n",
    "                 'annual_premium', \n",
    "                 'vintage',\n",
    "                 'vehicle_age_1-2 Year',\n",
    "                 'vehicle_age_< 1 Year',\n",
    "                 'vehicle_age_> 2 Years',\n",
    "                 'region_code_Kfold_Target_Enc',\n",
    "                 'policy_sales_channel_Kfold_Target_Enc', \n",
    "                 'response']\n",
    "\n",
    "#keeping response as the last column for better slicing\n",
    "df3 = df3.reindex(columns = columns_order)"
   ]
  },
  {
   "cell_type": "markdown",
   "id": "assisted-miller",
   "metadata": {},
   "source": [
    "## 5.2.1 Traning and test data"
   ]
  },
  {
   "cell_type": "code",
   "execution_count": 39,
   "id": "apparent-objective",
   "metadata": {
    "execution": {
     "iopub.execute_input": "2021-03-17T18:33:58.599538Z",
     "iopub.status.busy": "2021-03-17T18:33:58.599427Z",
     "iopub.status.idle": "2021-03-17T18:33:58.618837Z",
     "shell.execute_reply": "2021-03-17T18:33:58.618383Z",
     "shell.execute_reply.started": "2021-03-17T18:33:58.599523Z"
    }
   },
   "outputs": [],
   "source": [
    "msk = np.random.rand(len(df)) < 0.80\n",
    "train = df3[msk]\n",
    "test = df3[~msk]"
   ]
  },
  {
   "cell_type": "code",
   "execution_count": 40,
   "id": "sought-symposium",
   "metadata": {
    "execution": {
     "iopub.execute_input": "2021-03-17T18:33:58.619594Z",
     "iopub.status.busy": "2021-03-17T18:33:58.619429Z",
     "iopub.status.idle": "2021-03-17T18:33:58.632475Z",
     "shell.execute_reply": "2021-03-17T18:33:58.631928Z",
     "shell.execute_reply.started": "2021-03-17T18:33:58.619577Z"
    }
   },
   "outputs": [],
   "source": [
    "x_train = train.iloc[:, :-1]\n",
    "y_train = train.iloc[:, -1:]\n",
    "\n",
    "x_test = test.iloc[:, :-1]\n",
    "y_test = test.iloc[:, -1:]"
   ]
  },
  {
   "cell_type": "markdown",
   "id": "informal-terminology",
   "metadata": {
    "execution": {
     "iopub.execute_input": "2021-02-23T19:55:58.157445Z",
     "iopub.status.busy": "2021-02-23T19:55:58.157180Z",
     "iopub.status.idle": "2021-02-23T19:55:58.162585Z",
     "shell.execute_reply": "2021-02-23T19:55:58.161833Z",
     "shell.execute_reply.started": "2021-02-23T19:55:58.157417Z"
    }
   },
   "source": [
    "## 5.3 Rescaling"
   ]
  },
  {
   "cell_type": "code",
   "execution_count": 41,
   "id": "voluntary-pitch",
   "metadata": {
    "execution": {
     "iopub.execute_input": "2021-03-17T18:33:58.633634Z",
     "iopub.status.busy": "2021-03-17T18:33:58.633424Z",
     "iopub.status.idle": "2021-03-17T18:33:58.904908Z",
     "shell.execute_reply": "2021-03-17T18:33:58.904212Z",
     "shell.execute_reply.started": "2021-03-17T18:33:58.633605Z"
    }
   },
   "outputs": [
    {
     "data": {
      "image/png": "[encoded data removed]",
      "text/plain": [
       "<Figure size 1440x576 with 3 Axes>"
      ]
     },
     "metadata": {},
     "output_type": "display_data"
    }
   ],
   "source": [
    "plt.subplot(1,3,1)\n",
    "sns.boxplot(y = 'age', data = df2)\n",
    "sns.despine(offset = 10, trim = True)\n",
    "\n",
    "plt.subplot(1,3,2)\n",
    "sns.boxplot(y= 'annual_premium', data = df2)\n",
    "sns.despine(offset = 10, trim = True)\n",
    "\n",
    "plt.subplot(1,3,3)\n",
    "sns.boxplot(y= 'vintage', data = df2)\n",
    "sns.despine(offset = 10, trim = True);"
   ]
  },
  {
   "cell_type": "code",
   "execution_count": 42,
   "id": "geographic-rochester",
   "metadata": {
    "execution": {
     "iopub.execute_input": "2021-03-17T18:33:58.906201Z",
     "iopub.status.busy": "2021-03-17T18:33:58.905969Z",
     "iopub.status.idle": "2021-03-17T18:33:59.046720Z",
     "shell.execute_reply": "2021-03-17T18:33:59.046325Z",
     "shell.execute_reply.started": "2021-03-17T18:33:58.906159Z"
    }
   },
   "outputs": [],
   "source": [
    "rs = RobustScaler() \n",
    "mms = MinMaxScaler()\n",
    "\n",
    "#age\n",
    "x_train['age'] = mms.fit_transform(x_train.loc[:, 'age':].values)\n",
    "x_test['age'] = mms.transform(x_test.loc[:, 'age':].values)\n",
    "\n",
    "#vintage\n",
    "x_train['vintage'] = mms.fit_transform(x_train.loc[:, 'vintage':].values)\n",
    "x_test['vintage'] = mms.transform(x_test.loc[:, 'vintage':].values)\n",
    "\n",
    "#anual premium\n",
    "x_train['annual_premium'] = rs.fit_transform(x_train.loc[:, 'annual_premium':].values)\n",
    "x_test['annual_premium'] = rs.transform(x_test.loc[:, 'annual_premium':].values)"
   ]
  },
  {
   "cell_type": "markdown",
   "id": "dedicated-pennsylvania",
   "metadata": {},
   "source": [
    "## 5.4 Target Variable Resampling"
   ]
  },
  {
   "cell_type": "markdown",
   "id": "velvet-sunday",
   "metadata": {},
   "source": [
    "### 5.4.1 SMOTE + Tomek Links"
   ]
  },
  {
   "cell_type": "code",
   "execution_count": 43,
   "id": "developmental-chess",
   "metadata": {
    "execution": {
     "iopub.execute_input": "2021-03-17T18:33:59.047769Z",
     "iopub.status.busy": "2021-03-17T18:33:59.047551Z",
     "iopub.status.idle": "2021-03-17T18:33:59.058485Z",
     "shell.execute_reply": "2021-03-17T18:33:59.058011Z",
     "shell.execute_reply.started": "2021-03-17T18:33:59.047741Z"
    }
   },
   "outputs": [
    {
     "name": "stdout",
     "output_type": "stream",
     "text": [
      "Before ressampling\n"
     ]
    },
    {
     "data": {
      "text/plain": [
       "response\n",
       "0           267437\n",
       "1            37538\n",
       "dtype: int64"
      ]
     },
     "execution_count": 43,
     "metadata": {},
     "output_type": "execute_result"
    }
   ],
   "source": [
    "print('Before ressampling')\n",
    "y_train.value_counts()"
   ]
  },
  {
   "cell_type": "code",
   "execution_count": 44,
   "id": "elect-framing",
   "metadata": {
    "execution": {
     "iopub.execute_input": "2021-03-17T18:33:59.059394Z",
     "iopub.status.busy": "2021-03-17T18:33:59.059250Z",
     "iopub.status.idle": "2021-03-17T18:37:47.811287Z",
     "shell.execute_reply": "2021-03-17T18:37:47.810858Z",
     "shell.execute_reply.started": "2021-03-17T18:33:59.059375Z"
    }
   },
   "outputs": [],
   "source": [
    "#resample\n",
    "x_train_res, y_train_res = SMOTETomek(random_state = 42).fit_resample(x_train, y_train)"
   ]
  },
  {
   "cell_type": "code",
   "execution_count": 45,
   "id": "corresponding-alert",
   "metadata": {
    "execution": {
     "iopub.execute_input": "2021-03-17T18:37:47.811909Z",
     "iopub.status.busy": "2021-03-17T18:37:47.811806Z",
     "iopub.status.idle": "2021-03-17T18:37:47.820867Z",
     "shell.execute_reply": "2021-03-17T18:37:47.820492Z",
     "shell.execute_reply.started": "2021-03-17T18:37:47.811895Z"
    }
   },
   "outputs": [
    {
     "name": "stdout",
     "output_type": "stream",
     "text": [
      "After ressampling\n"
     ]
    },
    {
     "data": {
      "text/plain": [
       "response\n",
       "0           262582\n",
       "1           262582\n",
       "dtype: int64"
      ]
     },
     "execution_count": 45,
     "metadata": {},
     "output_type": "execute_result"
    }
   ],
   "source": [
    "print('After ressampling')\n",
    "y_train_res.value_counts()"
   ]
  },
  {
   "cell_type": "markdown",
   "id": "expected-departure",
   "metadata": {},
   "source": [
    "# 6.0 Feature Selection"
   ]
  },
  {
   "cell_type": "markdown",
   "id": "brown-completion",
   "metadata": {
    "execution": {
     "iopub.execute_input": "2021-02-24T13:37:23.753017Z",
     "iopub.status.busy": "2021-02-24T13:37:23.752846Z",
     "iopub.status.idle": "2021-02-24T13:37:23.755605Z",
     "shell.execute_reply": "2021-02-24T13:37:23.754932Z",
     "shell.execute_reply.started": "2021-02-24T13:37:23.752990Z"
    }
   },
   "source": [
    "## 6.1.1 Feature Analysis"
   ]
  },
  {
   "cell_type": "code",
   "execution_count": 45,
   "id": "considered-count",
   "metadata": {
    "execution": {
     "iopub.execute_input": "2021-03-17T14:58:34.599477Z",
     "iopub.status.busy": "2021-03-17T14:58:34.599145Z",
     "iopub.status.idle": "2021-03-17T14:58:34.999046Z",
     "shell.execute_reply": "2021-03-17T14:58:34.998580Z",
     "shell.execute_reply.started": "2021-03-17T14:58:34.599439Z"
    }
   },
   "outputs": [
    {
     "data": {
      "image/png": "[encoded data removed]",
      "image/svg+xml": [
       "<?xml version=\"1.0\" encoding=\"utf-8\" standalone=\"no\"?>\n",
       "<!DOCTYPE svg PUBLIC \"-//W3C//DTD SVG 1.1//EN\"\n",
       "  \"http://www.w3.org/Graphics/SVG/1.1/DTD/svg11.dtd\">\n",
       "<!-- Created with matplotlib (https://matplotlib.org/) -->\n",
       "<svg height=\"515.035781pt\" version=\"1.1\" viewBox=\"0 0 1473.095197 515.035781\" width=\"1473.095197pt\" xmlns=\"http://www.w3.org/2000/svg\" xmlns:xlink=\"http://www.w3.org/1999/xlink\">\n",
       " <metadata>\n",
       "  <rdf:RDF xmlns:cc=\"http://creativecommons.org/ns#\" xmlns:dc=\"http://purl.org/dc/elements/1.1/\" xmlns:rdf=\"http://www.w3.org/1999/02/22-rdf-syntax-ns#\">\n",
       "   <cc:Work>\n",
       "    <dc:type rdf:resource=\"http://purl.org/dc/dcmitype/StillImage\"/>\n",
       "    <dc:date>2021-03-17T13:40:37.376548</dc:date>\n",
       "    <dc:format>image/svg+xml</dc:format>\n",
       "    <dc:creator>\n",
       "     <cc:Agent>\n",
       "      <dc:title>Matplotlib v3.3.4, https://matplotlib.org/</dc:title>\n",
       "     </cc:Agent>\n",
       "    </dc:creator>\n",
       "   </cc:Work>\n",
       "  </rdf:RDF>\n",
       " </metadata>\n",
       " <defs>\n",
       "  <style type=\"text/css\">*{stroke-linecap:butt;stroke-linejoin:round;}</style>\n",
       " </defs>\n",
       " <g id=\"figure_1\">\n",
       "  <g id=\"patch_1\">\n",
       "   <path d=\"M 0 515.035781 \n",
       "L 1473.095197 515.035781 \n",
       "L 1473.095197 0 \n",
       "L 0 0 \n",
       "z\n",
       "\" style=\"fill:#ffffff;\"/>\n",
       "  </g>\n",
       "  <g id=\"axes_1\">\n",
       "   <g id=\"patch_2\">\n",
       "    <path d=\"M 208.110938 491.157656 \n",
       "L 1460.910938 491.157656 \n",
       "L 1460.910938 24.597656 \n",
       "L 208.110938 24.597656 \n",
       "z\n",
       "\" style=\"fill:#ffffff;\"/>\n",
       "   </g>\n",
       "   <g id=\"matplotlib.axis_1\">\n",
       "    <g id=\"xtick_1\">\n",
       "     <g id=\"line2d_1\"/>\n",
       "     <g id=\"text_1\">\n",
       "      <!-- 0.0 -->\n",
       "      <g style=\"fill:#262626;\" transform=\"translate(200.159375 505.756094)scale(0.1 -0.1)\">\n",
       "       <defs>\n",
       "        <path d=\"M 31.78125 66.40625 \n",
       "Q 24.171875 66.40625 20.328125 58.90625 \n",
       "Q 16.5 51.421875 16.5 36.375 \n",
       "Q 16.5 21.390625 20.328125 13.890625 \n",
       "Q 24.171875 6.390625 31.78125 6.390625 \n",
       "Q 39.453125 6.390625 43.28125 13.890625 \n",
       "Q 47.125 21.390625 47.125 36.375 \n",
       "Q 47.125 51.421875 43.28125 58.90625 \n",
       "Q 39.453125 66.40625 31.78125 66.40625 \n",
       "z\n",
       "M 31.78125 74.21875 \n",
       "Q 44.046875 74.21875 50.515625 64.515625 \n",
       "Q 56.984375 54.828125 56.984375 36.375 \n",
       "Q 56.984375 17.96875 50.515625 8.265625 \n",
       "Q 44.046875 -1.421875 31.78125 -1.421875 \n",
       "Q 19.53125 -1.421875 13.0625 8.265625 \n",
       "Q 6.59375 17.96875 6.59375 36.375 \n",
       "Q 6.59375 54.828125 13.0625 64.515625 \n",
       "Q 19.53125 74.21875 31.78125 74.21875 \n",
       "z\n",
       "\" id=\"DejaVuSans-48\"/>\n",
       "        <path d=\"M 10.6875 12.40625 \n",
       "L 21 12.40625 \n",
       "L 21 0 \n",
       "L 10.6875 0 \n",
       "z\n",
       "\" id=\"DejaVuSans-46\"/>\n",
       "       </defs>\n",
       "       <use xlink:href=\"#DejaVuSans-48\"/>\n",
       "       <use x=\"63.623047\" xlink:href=\"#DejaVuSans-46\"/>\n",
       "       <use x=\"95.410156\" xlink:href=\"#DejaVuSans-48\"/>\n",
       "      </g>\n",
       "     </g>\n",
       "    </g>\n",
       "    <g id=\"xtick_2\">\n",
       "     <g id=\"line2d_2\"/>\n",
       "     <g id=\"text_2\">\n",
       "      <!-- 0.2 -->\n",
       "      <g style=\"fill:#262626;\" transform=\"translate(450.125914 505.756094)scale(0.1 -0.1)\">\n",
       "       <defs>\n",
       "        <path d=\"M 19.1875 8.296875 \n",
       "L 53.609375 8.296875 \n",
       "L 53.609375 0 \n",
       "L 7.328125 0 \n",
       "L 7.328125 8.296875 \n",
       "Q 12.9375 14.109375 22.625 23.890625 \n",
       "Q 32.328125 33.6875 34.8125 36.53125 \n",
       "Q 39.546875 41.84375 41.421875 45.53125 \n",
       "Q 43.3125 49.21875 43.3125 52.78125 \n",
       "Q 43.3125 58.59375 39.234375 62.25 \n",
       "Q 35.15625 65.921875 28.609375 65.921875 \n",
       "Q 23.96875 65.921875 18.8125 64.3125 \n",
       "Q 13.671875 62.703125 7.8125 59.421875 \n",
       "L 7.8125 69.390625 \n",
       "Q 13.765625 71.78125 18.9375 73 \n",
       "Q 24.125 74.21875 28.421875 74.21875 \n",
       "Q 39.75 74.21875 46.484375 68.546875 \n",
       "Q 53.21875 62.890625 53.21875 53.421875 \n",
       "Q 53.21875 48.921875 51.53125 44.890625 \n",
       "Q 49.859375 40.875 45.40625 35.40625 \n",
       "Q 44.1875 33.984375 37.640625 27.21875 \n",
       "Q 31.109375 20.453125 19.1875 8.296875 \n",
       "z\n",
       "\" id=\"DejaVuSans-50\"/>\n",
       "       </defs>\n",
       "       <use xlink:href=\"#DejaVuSans-48\"/>\n",
       "       <use x=\"63.623047\" xlink:href=\"#DejaVuSans-46\"/>\n",
       "       <use x=\"95.410156\" xlink:href=\"#DejaVuSans-50\"/>\n",
       "      </g>\n",
       "     </g>\n",
       "    </g>\n",
       "    <g id=\"xtick_3\">\n",
       "     <g id=\"line2d_3\"/>\n",
       "     <g id=\"text_3\">\n",
       "      <!-- 0.4 -->\n",
       "      <g style=\"fill:#262626;\" transform=\"translate(700.092454 505.756094)scale(0.1 -0.1)\">\n",
       "       <defs>\n",
       "        <path d=\"M 37.796875 64.3125 \n",
       "L 12.890625 25.390625 \n",
       "L 37.796875 25.390625 \n",
       "z\n",
       "M 35.203125 72.90625 \n",
       "L 47.609375 72.90625 \n",
       "L 47.609375 25.390625 \n",
       "L 58.015625 25.390625 \n",
       "L 58.015625 17.1875 \n",
       "L 47.609375 17.1875 \n",
       "L 47.609375 0 \n",
       "L 37.796875 0 \n",
       "L 37.796875 17.1875 \n",
       "L 4.890625 17.1875 \n",
       "L 4.890625 26.703125 \n",
       "z\n",
       "\" id=\"DejaVuSans-52\"/>\n",
       "       </defs>\n",
       "       <use xlink:href=\"#DejaVuSans-48\"/>\n",
       "       <use x=\"63.623047\" xlink:href=\"#DejaVuSans-46\"/>\n",
       "       <use x=\"95.410156\" xlink:href=\"#DejaVuSans-52\"/>\n",
       "      </g>\n",
       "     </g>\n",
       "    </g>\n",
       "    <g id=\"xtick_4\">\n",
       "     <g id=\"line2d_4\"/>\n",
       "     <g id=\"text_4\">\n",
       "      <!-- 0.6 -->\n",
       "      <g style=\"fill:#262626;\" transform=\"translate(950.058993 505.756094)scale(0.1 -0.1)\">\n",
       "       <defs>\n",
       "        <path d=\"M 33.015625 40.375 \n",
       "Q 26.375 40.375 22.484375 35.828125 \n",
       "Q 18.609375 31.296875 18.609375 23.390625 \n",
       "Q 18.609375 15.53125 22.484375 10.953125 \n",
       "Q 26.375 6.390625 33.015625 6.390625 \n",
       "Q 39.65625 6.390625 43.53125 10.953125 \n",
       "Q 47.40625 15.53125 47.40625 23.390625 \n",
       "Q 47.40625 31.296875 43.53125 35.828125 \n",
       "Q 39.65625 40.375 33.015625 40.375 \n",
       "z\n",
       "M 52.59375 71.296875 \n",
       "L 52.59375 62.3125 \n",
       "Q 48.875 64.0625 45.09375 64.984375 \n",
       "Q 41.3125 65.921875 37.59375 65.921875 \n",
       "Q 27.828125 65.921875 22.671875 59.328125 \n",
       "Q 17.53125 52.734375 16.796875 39.40625 \n",
       "Q 19.671875 43.65625 24.015625 45.921875 \n",
       "Q 28.375 48.1875 33.59375 48.1875 \n",
       "Q 44.578125 48.1875 50.953125 41.515625 \n",
       "Q 57.328125 34.859375 57.328125 23.390625 \n",
       "Q 57.328125 12.15625 50.6875 5.359375 \n",
       "Q 44.046875 -1.421875 33.015625 -1.421875 \n",
       "Q 20.359375 -1.421875 13.671875 8.265625 \n",
       "Q 6.984375 17.96875 6.984375 36.375 \n",
       "Q 6.984375 53.65625 15.1875 63.9375 \n",
       "Q 23.390625 74.21875 37.203125 74.21875 \n",
       "Q 40.921875 74.21875 44.703125 73.484375 \n",
       "Q 48.484375 72.75 52.59375 71.296875 \n",
       "z\n",
       "\" id=\"DejaVuSans-54\"/>\n",
       "       </defs>\n",
       "       <use xlink:href=\"#DejaVuSans-48\"/>\n",
       "       <use x=\"63.623047\" xlink:href=\"#DejaVuSans-46\"/>\n",
       "       <use x=\"95.410156\" xlink:href=\"#DejaVuSans-54\"/>\n",
       "      </g>\n",
       "     </g>\n",
       "    </g>\n",
       "    <g id=\"xtick_5\">\n",
       "     <g id=\"line2d_5\"/>\n",
       "     <g id=\"text_5\">\n",
       "      <!-- 0.8 -->\n",
       "      <g style=\"fill:#262626;\" transform=\"translate(1200.025532 505.756094)scale(0.1 -0.1)\">\n",
       "       <defs>\n",
       "        <path d=\"M 31.78125 34.625 \n",
       "Q 24.75 34.625 20.71875 30.859375 \n",
       "Q 16.703125 27.09375 16.703125 20.515625 \n",
       "Q 16.703125 13.921875 20.71875 10.15625 \n",
       "Q 24.75 6.390625 31.78125 6.390625 \n",
       "Q 38.8125 6.390625 42.859375 10.171875 \n",
       "Q 46.921875 13.96875 46.921875 20.515625 \n",
       "Q 46.921875 27.09375 42.890625 30.859375 \n",
       "Q 38.875 34.625 31.78125 34.625 \n",
       "z\n",
       "M 21.921875 38.8125 \n",
       "Q 15.578125 40.375 12.03125 44.71875 \n",
       "Q 8.5 49.078125 8.5 55.328125 \n",
       "Q 8.5 64.0625 14.71875 69.140625 \n",
       "Q 20.953125 74.21875 31.78125 74.21875 \n",
       "Q 42.671875 74.21875 48.875 69.140625 \n",
       "Q 55.078125 64.0625 55.078125 55.328125 \n",
       "Q 55.078125 49.078125 51.53125 44.71875 \n",
       "Q 48 40.375 41.703125 38.8125 \n",
       "Q 48.828125 37.15625 52.796875 32.3125 \n",
       "Q 56.78125 27.484375 56.78125 20.515625 \n",
       "Q 56.78125 9.90625 50.3125 4.234375 \n",
       "Q 43.84375 -1.421875 31.78125 -1.421875 \n",
       "Q 19.734375 -1.421875 13.25 4.234375 \n",
       "Q 6.78125 9.90625 6.78125 20.515625 \n",
       "Q 6.78125 27.484375 10.78125 32.3125 \n",
       "Q 14.796875 37.15625 21.921875 38.8125 \n",
       "z\n",
       "M 18.3125 54.390625 \n",
       "Q 18.3125 48.734375 21.84375 45.5625 \n",
       "Q 25.390625 42.390625 31.78125 42.390625 \n",
       "Q 38.140625 42.390625 41.71875 45.5625 \n",
       "Q 45.3125 48.734375 45.3125 54.390625 \n",
       "Q 45.3125 60.0625 41.71875 63.234375 \n",
       "Q 38.140625 66.40625 31.78125 66.40625 \n",
       "Q 25.390625 66.40625 21.84375 63.234375 \n",
       "Q 18.3125 60.0625 18.3125 54.390625 \n",
       "z\n",
       "\" id=\"DejaVuSans-56\"/>\n",
       "       </defs>\n",
       "       <use xlink:href=\"#DejaVuSans-48\"/>\n",
       "       <use x=\"63.623047\" xlink:href=\"#DejaVuSans-46\"/>\n",
       "       <use x=\"95.410156\" xlink:href=\"#DejaVuSans-56\"/>\n",
       "      </g>\n",
       "     </g>\n",
       "    </g>\n",
       "    <g id=\"xtick_6\">\n",
       "     <g id=\"line2d_6\"/>\n",
       "     <g id=\"text_6\">\n",
       "      <!-- 1.0 -->\n",
       "      <g style=\"fill:#262626;\" transform=\"translate(1449.992072 505.756094)scale(0.1 -0.1)\">\n",
       "       <defs>\n",
       "        <path d=\"M 12.40625 8.296875 \n",
       "L 28.515625 8.296875 \n",
       "L 28.515625 63.921875 \n",
       "L 10.984375 60.40625 \n",
       "L 10.984375 69.390625 \n",
       "L 28.421875 72.90625 \n",
       "L 38.28125 72.90625 \n",
       "L 38.28125 8.296875 \n",
       "L 54.390625 8.296875 \n",
       "L 54.390625 0 \n",
       "L 12.40625 0 \n",
       "z\n",
       "\" id=\"DejaVuSans-49\"/>\n",
       "       </defs>\n",
       "       <use xlink:href=\"#DejaVuSans-49\"/>\n",
       "       <use x=\"63.623047\" xlink:href=\"#DejaVuSans-46\"/>\n",
       "       <use x=\"95.410156\" xlink:href=\"#DejaVuSans-48\"/>\n",
       "      </g>\n",
       "     </g>\n",
       "    </g>\n",
       "   </g>\n",
       "   <g id=\"matplotlib.axis_2\">\n",
       "    <g id=\"ytick_1\">\n",
       "     <g id=\"line2d_7\"/>\n",
       "     <g id=\"text_7\">\n",
       "      <!-- gender -->\n",
       "      <g style=\"fill:#262626;\" transform=\"translate(165.659375 63.98196)scale(0.1 -0.1)\">\n",
       "       <defs>\n",
       "        <path d=\"M 45.40625 27.984375 \n",
       "Q 45.40625 37.75 41.375 43.109375 \n",
       "Q 37.359375 48.484375 30.078125 48.484375 \n",
       "Q 22.859375 48.484375 18.828125 43.109375 \n",
       "Q 14.796875 37.75 14.796875 27.984375 \n",
       "Q 14.796875 18.265625 18.828125 12.890625 \n",
       "Q 22.859375 7.515625 30.078125 7.515625 \n",
       "Q 37.359375 7.515625 41.375 12.890625 \n",
       "Q 45.40625 18.265625 45.40625 27.984375 \n",
       "z\n",
       "M 54.390625 6.78125 \n",
       "Q 54.390625 -7.171875 48.1875 -13.984375 \n",
       "Q 42 -20.796875 29.203125 -20.796875 \n",
       "Q 24.46875 -20.796875 20.265625 -20.09375 \n",
       "Q 16.0625 -19.390625 12.109375 -17.921875 \n",
       "L 12.109375 -9.1875 \n",
       "Q 16.0625 -11.328125 19.921875 -12.34375 \n",
       "Q 23.78125 -13.375 27.78125 -13.375 \n",
       "Q 36.625 -13.375 41.015625 -8.765625 \n",
       "Q 45.40625 -4.15625 45.40625 5.171875 \n",
       "L 45.40625 9.625 \n",
       "Q 42.625 4.78125 38.28125 2.390625 \n",
       "Q 33.9375 0 27.875 0 \n",
       "Q 17.828125 0 11.671875 7.65625 \n",
       "Q 5.515625 15.328125 5.515625 27.984375 \n",
       "Q 5.515625 40.671875 11.671875 48.328125 \n",
       "Q 17.828125 56 27.875 56 \n",
       "Q 33.9375 56 38.28125 53.609375 \n",
       "Q 42.625 51.21875 45.40625 46.390625 \n",
       "L 45.40625 54.6875 \n",
       "L 54.390625 54.6875 \n",
       "z\n",
       "\" id=\"DejaVuSans-103\"/>\n",
       "        <path d=\"M 56.203125 29.59375 \n",
       "L 56.203125 25.203125 \n",
       "L 14.890625 25.203125 \n",
       "Q 15.484375 15.921875 20.484375 11.0625 \n",
       "Q 25.484375 6.203125 34.421875 6.203125 \n",
       "Q 39.59375 6.203125 44.453125 7.46875 \n",
       "Q 49.3125 8.734375 54.109375 11.28125 \n",
       "L 54.109375 2.78125 \n",
       "Q 49.265625 0.734375 44.1875 -0.34375 \n",
       "Q 39.109375 -1.421875 33.890625 -1.421875 \n",
       "Q 20.796875 -1.421875 13.15625 6.1875 \n",
       "Q 5.515625 13.8125 5.515625 26.8125 \n",
       "Q 5.515625 40.234375 12.765625 48.109375 \n",
       "Q 20.015625 56 32.328125 56 \n",
       "Q 43.359375 56 49.78125 48.890625 \n",
       "Q 56.203125 41.796875 56.203125 29.59375 \n",
       "z\n",
       "M 47.21875 32.234375 \n",
       "Q 47.125 39.59375 43.09375 43.984375 \n",
       "Q 39.0625 48.390625 32.421875 48.390625 \n",
       "Q 24.90625 48.390625 20.390625 44.140625 \n",
       "Q 15.875 39.890625 15.1875 32.171875 \n",
       "z\n",
       "\" id=\"DejaVuSans-101\"/>\n",
       "        <path d=\"M 54.890625 33.015625 \n",
       "L 54.890625 0 \n",
       "L 45.90625 0 \n",
       "L 45.90625 32.71875 \n",
       "Q 45.90625 40.484375 42.875 44.328125 \n",
       "Q 39.84375 48.1875 33.796875 48.1875 \n",
       "Q 26.515625 48.1875 22.3125 43.546875 \n",
       "Q 18.109375 38.921875 18.109375 30.90625 \n",
       "L 18.109375 0 \n",
       "L 9.078125 0 \n",
       "L 9.078125 54.6875 \n",
       "L 18.109375 54.6875 \n",
       "L 18.109375 46.1875 \n",
       "Q 21.34375 51.125 25.703125 53.5625 \n",
       "Q 30.078125 56 35.796875 56 \n",
       "Q 45.21875 56 50.046875 50.171875 \n",
       "Q 54.890625 44.34375 54.890625 33.015625 \n",
       "z\n",
       "\" id=\"DejaVuSans-110\"/>\n",
       "        <path d=\"M 45.40625 46.390625 \n",
       "L 45.40625 75.984375 \n",
       "L 54.390625 75.984375 \n",
       "L 54.390625 0 \n",
       "L 45.40625 0 \n",
       "L 45.40625 8.203125 \n",
       "Q 42.578125 3.328125 38.25 0.953125 \n",
       "Q 33.9375 -1.421875 27.875 -1.421875 \n",
       "Q 17.96875 -1.421875 11.734375 6.484375 \n",
       "Q 5.515625 14.40625 5.515625 27.296875 \n",
       "Q 5.515625 40.1875 11.734375 48.09375 \n",
       "Q 17.96875 56 27.875 56 \n",
       "Q 33.9375 56 38.25 53.625 \n",
       "Q 42.578125 51.265625 45.40625 46.390625 \n",
       "z\n",
       "M 14.796875 27.296875 \n",
       "Q 14.796875 17.390625 18.875 11.75 \n",
       "Q 22.953125 6.109375 30.078125 6.109375 \n",
       "Q 37.203125 6.109375 41.296875 11.75 \n",
       "Q 45.40625 17.390625 45.40625 27.296875 \n",
       "Q 45.40625 37.203125 41.296875 42.84375 \n",
       "Q 37.203125 48.484375 30.078125 48.484375 \n",
       "Q 22.953125 48.484375 18.875 42.84375 \n",
       "Q 14.796875 37.203125 14.796875 27.296875 \n",
       "z\n",
       "\" id=\"DejaVuSans-100\"/>\n",
       "        <path d=\"M 41.109375 46.296875 \n",
       "Q 39.59375 47.171875 37.8125 47.578125 \n",
       "Q 36.03125 48 33.890625 48 \n",
       "Q 26.265625 48 22.1875 43.046875 \n",
       "Q 18.109375 38.09375 18.109375 28.8125 \n",
       "L 18.109375 0 \n",
       "L 9.078125 0 \n",
       "L 9.078125 54.6875 \n",
       "L 18.109375 54.6875 \n",
       "L 18.109375 46.1875 \n",
       "Q 20.953125 51.171875 25.484375 53.578125 \n",
       "Q 30.03125 56 36.53125 56 \n",
       "Q 37.453125 56 38.578125 55.875 \n",
       "Q 39.703125 55.765625 41.0625 55.515625 \n",
       "z\n",
       "\" id=\"DejaVuSans-114\"/>\n",
       "       </defs>\n",
       "       <use xlink:href=\"#DejaVuSans-103\"/>\n",
       "       <use x=\"63.476562\" xlink:href=\"#DejaVuSans-101\"/>\n",
       "       <use x=\"125\" xlink:href=\"#DejaVuSans-110\"/>\n",
       "       <use x=\"188.378906\" xlink:href=\"#DejaVuSans-100\"/>\n",
       "       <use x=\"251.855469\" xlink:href=\"#DejaVuSans-101\"/>\n",
       "       <use x=\"313.378906\" xlink:href=\"#DejaVuSans-114\"/>\n",
       "      </g>\n",
       "     </g>\n",
       "    </g>\n",
       "    <g id=\"ytick_2\">\n",
       "     <g id=\"line2d_8\"/>\n",
       "     <g id=\"text_8\">\n",
       "      <!-- age -->\n",
       "      <g style=\"fill:#262626;\" transform=\"translate(182.48125 99.92649)scale(0.1 -0.1)\">\n",
       "       <defs>\n",
       "        <path d=\"M 34.28125 27.484375 \n",
       "Q 23.390625 27.484375 19.1875 25 \n",
       "Q 14.984375 22.515625 14.984375 16.5 \n",
       "Q 14.984375 11.71875 18.140625 8.90625 \n",
       "Q 21.296875 6.109375 26.703125 6.109375 \n",
       "Q 34.1875 6.109375 38.703125 11.40625 \n",
       "Q 43.21875 16.703125 43.21875 25.484375 \n",
       "L 43.21875 27.484375 \n",
       "z\n",
       "M 52.203125 31.203125 \n",
       "L 52.203125 0 \n",
       "L 43.21875 0 \n",
       "L 43.21875 8.296875 \n",
       "Q 40.140625 3.328125 35.546875 0.953125 \n",
       "Q 30.953125 -1.421875 24.3125 -1.421875 \n",
       "Q 15.921875 -1.421875 10.953125 3.296875 \n",
       "Q 6 8.015625 6 15.921875 \n",
       "Q 6 25.140625 12.171875 29.828125 \n",
       "Q 18.359375 34.515625 30.609375 34.515625 \n",
       "L 43.21875 34.515625 \n",
       "L 43.21875 35.40625 \n",
       "Q 43.21875 41.609375 39.140625 45 \n",
       "Q 35.0625 48.390625 27.6875 48.390625 \n",
       "Q 23 48.390625 18.546875 47.265625 \n",
       "Q 14.109375 46.140625 10.015625 43.890625 \n",
       "L 10.015625 52.203125 \n",
       "Q 14.9375 54.109375 19.578125 55.046875 \n",
       "Q 24.21875 56 28.609375 56 \n",
       "Q 40.484375 56 46.34375 49.84375 \n",
       "Q 52.203125 43.703125 52.203125 31.203125 \n",
       "z\n",
       "\" id=\"DejaVuSans-97\"/>\n",
       "       </defs>\n",
       "       <use xlink:href=\"#DejaVuSans-97\"/>\n",
       "       <use x=\"61.279297\" xlink:href=\"#DejaVuSans-103\"/>\n",
       "       <use x=\"124.755859\" xlink:href=\"#DejaVuSans-101\"/>\n",
       "      </g>\n",
       "     </g>\n",
       "    </g>\n",
       "    <g id=\"ytick_3\">\n",
       "     <g id=\"line2d_9\"/>\n",
       "     <g id=\"text_9\">\n",
       "      <!-- driving_license -->\n",
       "      <g style=\"fill:#262626;\" transform=\"translate(126.582813 135.87102)scale(0.1 -0.1)\">\n",
       "       <defs>\n",
       "        <path d=\"M 9.421875 54.6875 \n",
       "L 18.40625 54.6875 \n",
       "L 18.40625 0 \n",
       "L 9.421875 0 \n",
       "z\n",
       "M 9.421875 75.984375 \n",
       "L 18.40625 75.984375 \n",
       "L 18.40625 64.59375 \n",
       "L 9.421875 64.59375 \n",
       "z\n",
       "\" id=\"DejaVuSans-105\"/>\n",
       "        <path d=\"M 2.984375 54.6875 \n",
       "L 12.5 54.6875 \n",
       "L 29.59375 8.796875 \n",
       "L 46.6875 54.6875 \n",
       "L 56.203125 54.6875 \n",
       "L 35.6875 0 \n",
       "L 23.484375 0 \n",
       "z\n",
       "\" id=\"DejaVuSans-118\"/>\n",
       "        <path d=\"M 50.984375 -16.609375 \n",
       "L 50.984375 -23.578125 \n",
       "L -0.984375 -23.578125 \n",
       "L -0.984375 -16.609375 \n",
       "z\n",
       "\" id=\"DejaVuSans-95\"/>\n",
       "        <path d=\"M 9.421875 75.984375 \n",
       "L 18.40625 75.984375 \n",
       "L 18.40625 0 \n",
       "L 9.421875 0 \n",
       "z\n",
       "\" id=\"DejaVuSans-108\"/>\n",
       "        <path d=\"M 48.78125 52.59375 \n",
       "L 48.78125 44.1875 \n",
       "Q 44.96875 46.296875 41.140625 47.34375 \n",
       "Q 37.3125 48.390625 33.40625 48.390625 \n",
       "Q 24.65625 48.390625 19.8125 42.84375 \n",
       "Q 14.984375 37.3125 14.984375 27.296875 \n",
       "Q 14.984375 17.28125 19.8125 11.734375 \n",
       "Q 24.65625 6.203125 33.40625 6.203125 \n",
       "Q 37.3125 6.203125 41.140625 7.25 \n",
       "Q 44.96875 8.296875 48.78125 10.40625 \n",
       "L 48.78125 2.09375 \n",
       "Q 45.015625 0.34375 40.984375 -0.53125 \n",
       "Q 36.96875 -1.421875 32.421875 -1.421875 \n",
       "Q 20.0625 -1.421875 12.78125 6.34375 \n",
       "Q 5.515625 14.109375 5.515625 27.296875 \n",
       "Q 5.515625 40.671875 12.859375 48.328125 \n",
       "Q 20.21875 56 33.015625 56 \n",
       "Q 37.15625 56 41.109375 55.140625 \n",
       "Q 45.0625 54.296875 48.78125 52.59375 \n",
       "z\n",
       "\" id=\"DejaVuSans-99\"/>\n",
       "        <path d=\"M 44.28125 53.078125 \n",
       "L 44.28125 44.578125 \n",
       "Q 40.484375 46.53125 36.375 47.5 \n",
       "Q 32.28125 48.484375 27.875 48.484375 \n",
       "Q 21.1875 48.484375 17.84375 46.4375 \n",
       "Q 14.5 44.390625 14.5 40.28125 \n",
       "Q 14.5 37.15625 16.890625 35.375 \n",
       "Q 19.28125 33.59375 26.515625 31.984375 \n",
       "L 29.59375 31.296875 \n",
       "Q 39.15625 29.25 43.1875 25.515625 \n",
       "Q 47.21875 21.78125 47.21875 15.09375 \n",
       "Q 47.21875 7.46875 41.1875 3.015625 \n",
       "Q 35.15625 -1.421875 24.609375 -1.421875 \n",
       "Q 20.21875 -1.421875 15.453125 -0.5625 \n",
       "Q 10.6875 0.296875 5.421875 2 \n",
       "L 5.421875 11.28125 \n",
       "Q 10.40625 8.6875 15.234375 7.390625 \n",
       "Q 20.0625 6.109375 24.8125 6.109375 \n",
       "Q 31.15625 6.109375 34.5625 8.28125 \n",
       "Q 37.984375 10.453125 37.984375 14.40625 \n",
       "Q 37.984375 18.0625 35.515625 20.015625 \n",
       "Q 33.0625 21.96875 24.703125 23.78125 \n",
       "L 21.578125 24.515625 \n",
       "Q 13.234375 26.265625 9.515625 29.90625 \n",
       "Q 5.8125 33.546875 5.8125 39.890625 \n",
       "Q 5.8125 47.609375 11.28125 51.796875 \n",
       "Q 16.75 56 26.8125 56 \n",
       "Q 31.78125 56 36.171875 55.265625 \n",
       "Q 40.578125 54.546875 44.28125 53.078125 \n",
       "z\n",
       "\" id=\"DejaVuSans-115\"/>\n",
       "       </defs>\n",
       "       <use xlink:href=\"#DejaVuSans-100\"/>\n",
       "       <use x=\"63.476562\" xlink:href=\"#DejaVuSans-114\"/>\n",
       "       <use x=\"104.589844\" xlink:href=\"#DejaVuSans-105\"/>\n",
       "       <use x=\"132.373047\" xlink:href=\"#DejaVuSans-118\"/>\n",
       "       <use x=\"191.552734\" xlink:href=\"#DejaVuSans-105\"/>\n",
       "       <use x=\"219.335938\" xlink:href=\"#DejaVuSans-110\"/>\n",
       "       <use x=\"282.714844\" xlink:href=\"#DejaVuSans-103\"/>\n",
       "       <use x=\"346.191406\" xlink:href=\"#DejaVuSans-95\"/>\n",
       "       <use x=\"396.191406\" xlink:href=\"#DejaVuSans-108\"/>\n",
       "       <use x=\"423.974609\" xlink:href=\"#DejaVuSans-105\"/>\n",
       "       <use x=\"451.757812\" xlink:href=\"#DejaVuSans-99\"/>\n",
       "       <use x=\"506.738281\" xlink:href=\"#DejaVuSans-101\"/>\n",
       "       <use x=\"568.261719\" xlink:href=\"#DejaVuSans-110\"/>\n",
       "       <use x=\"631.640625\" xlink:href=\"#DejaVuSans-115\"/>\n",
       "       <use x=\"683.740234\" xlink:href=\"#DejaVuSans-101\"/>\n",
       "      </g>\n",
       "     </g>\n",
       "    </g>\n",
       "    <g id=\"ytick_4\">\n",
       "     <g id=\"line2d_10\"/>\n",
       "     <g id=\"text_10\">\n",
       "      <!-- previously_insured -->\n",
       "      <g style=\"fill:#262626;\" transform=\"translate(107.614063 171.81555)scale(0.1 -0.1)\">\n",
       "       <defs>\n",
       "        <path d=\"M 18.109375 8.203125 \n",
       "L 18.109375 -20.796875 \n",
       "L 9.078125 -20.796875 \n",
       "L 9.078125 54.6875 \n",
       "L 18.109375 54.6875 \n",
       "L 18.109375 46.390625 \n",
       "Q 20.953125 51.265625 25.265625 53.625 \n",
       "Q 29.59375 56 35.59375 56 \n",
       "Q 45.5625 56 51.78125 48.09375 \n",
       "Q 58.015625 40.1875 58.015625 27.296875 \n",
       "Q 58.015625 14.40625 51.78125 6.484375 \n",
       "Q 45.5625 -1.421875 35.59375 -1.421875 \n",
       "Q 29.59375 -1.421875 25.265625 0.953125 \n",
       "Q 20.953125 3.328125 18.109375 8.203125 \n",
       "z\n",
       "M 48.6875 27.296875 \n",
       "Q 48.6875 37.203125 44.609375 42.84375 \n",
       "Q 40.53125 48.484375 33.40625 48.484375 \n",
       "Q 26.265625 48.484375 22.1875 42.84375 \n",
       "Q 18.109375 37.203125 18.109375 27.296875 \n",
       "Q 18.109375 17.390625 22.1875 11.75 \n",
       "Q 26.265625 6.109375 33.40625 6.109375 \n",
       "Q 40.53125 6.109375 44.609375 11.75 \n",
       "Q 48.6875 17.390625 48.6875 27.296875 \n",
       "z\n",
       "\" id=\"DejaVuSans-112\"/>\n",
       "        <path d=\"M 30.609375 48.390625 \n",
       "Q 23.390625 48.390625 19.1875 42.75 \n",
       "Q 14.984375 37.109375 14.984375 27.296875 \n",
       "Q 14.984375 17.484375 19.15625 11.84375 \n",
       "Q 23.34375 6.203125 30.609375 6.203125 \n",
       "Q 37.796875 6.203125 41.984375 11.859375 \n",
       "Q 46.1875 17.53125 46.1875 27.296875 \n",
       "Q 46.1875 37.015625 41.984375 42.703125 \n",
       "Q 37.796875 48.390625 30.609375 48.390625 \n",
       "z\n",
       "M 30.609375 56 \n",
       "Q 42.328125 56 49.015625 48.375 \n",
       "Q 55.71875 40.765625 55.71875 27.296875 \n",
       "Q 55.71875 13.875 49.015625 6.21875 \n",
       "Q 42.328125 -1.421875 30.609375 -1.421875 \n",
       "Q 18.84375 -1.421875 12.171875 6.21875 \n",
       "Q 5.515625 13.875 5.515625 27.296875 \n",
       "Q 5.515625 40.765625 12.171875 48.375 \n",
       "Q 18.84375 56 30.609375 56 \n",
       "z\n",
       "\" id=\"DejaVuSans-111\"/>\n",
       "        <path d=\"M 8.5 21.578125 \n",
       "L 8.5 54.6875 \n",
       "L 17.484375 54.6875 \n",
       "L 17.484375 21.921875 \n",
       "Q 17.484375 14.15625 20.5 10.265625 \n",
       "Q 23.53125 6.390625 29.59375 6.390625 \n",
       "Q 36.859375 6.390625 41.078125 11.03125 \n",
       "Q 45.3125 15.671875 45.3125 23.6875 \n",
       "L 45.3125 54.6875 \n",
       "L 54.296875 54.6875 \n",
       "L 54.296875 0 \n",
       "L 45.3125 0 \n",
       "L 45.3125 8.40625 \n",
       "Q 42.046875 3.421875 37.71875 1 \n",
       "Q 33.40625 -1.421875 27.6875 -1.421875 \n",
       "Q 18.265625 -1.421875 13.375 4.4375 \n",
       "Q 8.5 10.296875 8.5 21.578125 \n",
       "z\n",
       "M 31.109375 56 \n",
       "z\n",
       "\" id=\"DejaVuSans-117\"/>\n",
       "        <path d=\"M 32.171875 -5.078125 \n",
       "Q 28.375 -14.84375 24.75 -17.8125 \n",
       "Q 21.140625 -20.796875 15.09375 -20.796875 \n",
       "L 7.90625 -20.796875 \n",
       "L 7.90625 -13.28125 \n",
       "L 13.1875 -13.28125 \n",
       "Q 16.890625 -13.28125 18.9375 -11.515625 \n",
       "Q 21 -9.765625 23.484375 -3.21875 \n",
       "L 25.09375 0.875 \n",
       "L 2.984375 54.6875 \n",
       "L 12.5 54.6875 \n",
       "L 29.59375 11.921875 \n",
       "L 46.6875 54.6875 \n",
       "L 56.203125 54.6875 \n",
       "z\n",
       "\" id=\"DejaVuSans-121\"/>\n",
       "       </defs>\n",
       "       <use xlink:href=\"#DejaVuSans-112\"/>\n",
       "       <use x=\"63.476562\" xlink:href=\"#DejaVuSans-114\"/>\n",
       "       <use x=\"102.339844\" xlink:href=\"#DejaVuSans-101\"/>\n",
       "       <use x=\"163.863281\" xlink:href=\"#DejaVuSans-118\"/>\n",
       "       <use x=\"223.042969\" xlink:href=\"#DejaVuSans-105\"/>\n",
       "       <use x=\"250.826172\" xlink:href=\"#DejaVuSans-111\"/>\n",
       "       <use x=\"312.007812\" xlink:href=\"#DejaVuSans-117\"/>\n",
       "       <use x=\"375.386719\" xlink:href=\"#DejaVuSans-115\"/>\n",
       "       <use x=\"427.486328\" xlink:href=\"#DejaVuSans-108\"/>\n",
       "       <use x=\"455.269531\" xlink:href=\"#DejaVuSans-121\"/>\n",
       "       <use x=\"514.449219\" xlink:href=\"#DejaVuSans-95\"/>\n",
       "       <use x=\"564.449219\" xlink:href=\"#DejaVuSans-105\"/>\n",
       "       <use x=\"592.232422\" xlink:href=\"#DejaVuSans-110\"/>\n",
       "       <use x=\"655.611328\" xlink:href=\"#DejaVuSans-115\"/>\n",
       "       <use x=\"707.710938\" xlink:href=\"#DejaVuSans-117\"/>\n",
       "       <use x=\"771.089844\" xlink:href=\"#DejaVuSans-114\"/>\n",
       "       <use x=\"809.953125\" xlink:href=\"#DejaVuSans-101\"/>\n",
       "       <use x=\"871.476562\" xlink:href=\"#DejaVuSans-100\"/>\n",
       "      </g>\n",
       "     </g>\n",
       "    </g>\n",
       "    <g id=\"ytick_5\">\n",
       "     <g id=\"line2d_11\"/>\n",
       "     <g id=\"text_11\">\n",
       "      <!-- vehicle_damage -->\n",
       "      <g style=\"fill:#262626;\" transform=\"translate(119.646875 207.76008)scale(0.1 -0.1)\">\n",
       "       <defs>\n",
       "        <path d=\"M 54.890625 33.015625 \n",
       "L 54.890625 0 \n",
       "L 45.90625 0 \n",
       "L 45.90625 32.71875 \n",
       "Q 45.90625 40.484375 42.875 44.328125 \n",
       "Q 39.84375 48.1875 33.796875 48.1875 \n",
       "Q 26.515625 48.1875 22.3125 43.546875 \n",
       "Q 18.109375 38.921875 18.109375 30.90625 \n",
       "L 18.109375 0 \n",
       "L 9.078125 0 \n",
       "L 9.078125 75.984375 \n",
       "L 18.109375 75.984375 \n",
       "L 18.109375 46.1875 \n",
       "Q 21.34375 51.125 25.703125 53.5625 \n",
       "Q 30.078125 56 35.796875 56 \n",
       "Q 45.21875 56 50.046875 50.171875 \n",
       "Q 54.890625 44.34375 54.890625 33.015625 \n",
       "z\n",
       "\" id=\"DejaVuSans-104\"/>\n",
       "        <path d=\"M 52 44.1875 \n",
       "Q 55.375 50.25 60.0625 53.125 \n",
       "Q 64.75 56 71.09375 56 \n",
       "Q 79.640625 56 84.28125 50.015625 \n",
       "Q 88.921875 44.046875 88.921875 33.015625 \n",
       "L 88.921875 0 \n",
       "L 79.890625 0 \n",
       "L 79.890625 32.71875 \n",
       "Q 79.890625 40.578125 77.09375 44.375 \n",
       "Q 74.3125 48.1875 68.609375 48.1875 \n",
       "Q 61.625 48.1875 57.5625 43.546875 \n",
       "Q 53.515625 38.921875 53.515625 30.90625 \n",
       "L 53.515625 0 \n",
       "L 44.484375 0 \n",
       "L 44.484375 32.71875 \n",
       "Q 44.484375 40.625 41.703125 44.40625 \n",
       "Q 38.921875 48.1875 33.109375 48.1875 \n",
       "Q 26.21875 48.1875 22.15625 43.53125 \n",
       "Q 18.109375 38.875 18.109375 30.90625 \n",
       "L 18.109375 0 \n",
       "L 9.078125 0 \n",
       "L 9.078125 54.6875 \n",
       "L 18.109375 54.6875 \n",
       "L 18.109375 46.1875 \n",
       "Q 21.1875 51.21875 25.484375 53.609375 \n",
       "Q 29.78125 56 35.6875 56 \n",
       "Q 41.65625 56 45.828125 52.96875 \n",
       "Q 50 49.953125 52 44.1875 \n",
       "z\n",
       "\" id=\"DejaVuSans-109\"/>\n",
       "       </defs>\n",
       "       <use xlink:href=\"#DejaVuSans-118\"/>\n",
       "       <use x=\"59.179688\" xlink:href=\"#DejaVuSans-101\"/>\n",
       "       <use x=\"120.703125\" xlink:href=\"#DejaVuSans-104\"/>\n",
       "       <use x=\"184.082031\" xlink:href=\"#DejaVuSans-105\"/>\n",
       "       <use x=\"211.865234\" xlink:href=\"#DejaVuSans-99\"/>\n",
       "       <use x=\"266.845703\" xlink:href=\"#DejaVuSans-108\"/>\n",
       "       <use x=\"294.628906\" xlink:href=\"#DejaVuSans-101\"/>\n",
       "       <use x=\"356.152344\" xlink:href=\"#DejaVuSans-95\"/>\n",
       "       <use x=\"406.152344\" xlink:href=\"#DejaVuSans-100\"/>\n",
       "       <use x=\"469.628906\" xlink:href=\"#DejaVuSans-97\"/>\n",
       "       <use x=\"530.908203\" xlink:href=\"#DejaVuSans-109\"/>\n",
       "       <use x=\"628.320312\" xlink:href=\"#DejaVuSans-97\"/>\n",
       "       <use x=\"689.599609\" xlink:href=\"#DejaVuSans-103\"/>\n",
       "       <use x=\"753.076172\" xlink:href=\"#DejaVuSans-101\"/>\n",
       "      </g>\n",
       "     </g>\n",
       "    </g>\n",
       "    <g id=\"ytick_6\">\n",
       "     <g id=\"line2d_12\"/>\n",
       "     <g id=\"text_12\">\n",
       "      <!-- annual_premium -->\n",
       "      <g style=\"fill:#262626;\" transform=\"translate(117.079688 243.70461)scale(0.1 -0.1)\">\n",
       "       <use xlink:href=\"#DejaVuSans-97\"/>\n",
       "       <use x=\"61.279297\" xlink:href=\"#DejaVuSans-110\"/>\n",
       "       <use x=\"124.658203\" xlink:href=\"#DejaVuSans-110\"/>\n",
       "       <use x=\"188.037109\" xlink:href=\"#DejaVuSans-117\"/>\n",
       "       <use x=\"251.416016\" xlink:href=\"#DejaVuSans-97\"/>\n",
       "       <use x=\"312.695312\" xlink:href=\"#DejaVuSans-108\"/>\n",
       "       <use x=\"340.478516\" xlink:href=\"#DejaVuSans-95\"/>\n",
       "       <use x=\"390.478516\" xlink:href=\"#DejaVuSans-112\"/>\n",
       "       <use x=\"453.955078\" xlink:href=\"#DejaVuSans-114\"/>\n",
       "       <use x=\"492.818359\" xlink:href=\"#DejaVuSans-101\"/>\n",
       "       <use x=\"554.341797\" xlink:href=\"#DejaVuSans-109\"/>\n",
       "       <use x=\"651.753906\" xlink:href=\"#DejaVuSans-105\"/>\n",
       "       <use x=\"679.537109\" xlink:href=\"#DejaVuSans-117\"/>\n",
       "       <use x=\"742.916016\" xlink:href=\"#DejaVuSans-109\"/>\n",
       "      </g>\n",
       "     </g>\n",
       "    </g>\n",
       "    <g id=\"ytick_7\">\n",
       "     <g id=\"line2d_13\"/>\n",
       "     <g id=\"text_13\">\n",
       "      <!-- vintage -->\n",
       "      <g style=\"fill:#262626;\" transform=\"translate(163.526563 279.64914)scale(0.1 -0.1)\">\n",
       "       <defs>\n",
       "        <path d=\"M 18.3125 70.21875 \n",
       "L 18.3125 54.6875 \n",
       "L 36.8125 54.6875 \n",
       "L 36.8125 47.703125 \n",
       "L 18.3125 47.703125 \n",
       "L 18.3125 18.015625 \n",
       "Q 18.3125 11.328125 20.140625 9.421875 \n",
       "Q 21.96875 7.515625 27.59375 7.515625 \n",
       "L 36.8125 7.515625 \n",
       "L 36.8125 0 \n",
       "L 27.59375 0 \n",
       "Q 17.1875 0 13.234375 3.875 \n",
       "Q 9.28125 7.765625 9.28125 18.015625 \n",
       "L 9.28125 47.703125 \n",
       "L 2.6875 47.703125 \n",
       "L 2.6875 54.6875 \n",
       "L 9.28125 54.6875 \n",
       "L 9.28125 70.21875 \n",
       "z\n",
       "\" id=\"DejaVuSans-116\"/>\n",
       "       </defs>\n",
       "       <use xlink:href=\"#DejaVuSans-118\"/>\n",
       "       <use x=\"59.179688\" xlink:href=\"#DejaVuSans-105\"/>\n",
       "       <use x=\"86.962891\" xlink:href=\"#DejaVuSans-110\"/>\n",
       "       <use x=\"150.341797\" xlink:href=\"#DejaVuSans-116\"/>\n",
       "       <use x=\"189.550781\" xlink:href=\"#DejaVuSans-97\"/>\n",
       "       <use x=\"250.830078\" xlink:href=\"#DejaVuSans-103\"/>\n",
       "       <use x=\"314.306641\" xlink:href=\"#DejaVuSans-101\"/>\n",
       "      </g>\n",
       "     </g>\n",
       "    </g>\n",
       "    <g id=\"ytick_8\">\n",
       "     <g id=\"line2d_14\"/>\n",
       "     <g id=\"text_14\">\n",
       "      <!-- vehicle_age_1-2 Year -->\n",
       "      <g style=\"fill:#262626;\" transform=\"translate(96.178125 315.59367)scale(0.1 -0.1)\">\n",
       "       <defs>\n",
       "        <path d=\"M 4.890625 31.390625 \n",
       "L 31.203125 31.390625 \n",
       "L 31.203125 23.390625 \n",
       "L 4.890625 23.390625 \n",
       "z\n",
       "\" id=\"DejaVuSans-45\"/>\n",
       "        <path id=\"DejaVuSans-32\"/>\n",
       "        <path d=\"M -0.203125 72.90625 \n",
       "L 10.40625 72.90625 \n",
       "L 30.609375 42.921875 \n",
       "L 50.6875 72.90625 \n",
       "L 61.28125 72.90625 \n",
       "L 35.5 34.71875 \n",
       "L 35.5 0 \n",
       "L 25.59375 0 \n",
       "L 25.59375 34.71875 \n",
       "z\n",
       "\" id=\"DejaVuSans-89\"/>\n",
       "       </defs>\n",
       "       <use xlink:href=\"#DejaVuSans-118\"/>\n",
       "       <use x=\"59.179688\" xlink:href=\"#DejaVuSans-101\"/>\n",
       "       <use x=\"120.703125\" xlink:href=\"#DejaVuSans-104\"/>\n",
       "       <use x=\"184.082031\" xlink:href=\"#DejaVuSans-105\"/>\n",
       "       <use x=\"211.865234\" xlink:href=\"#DejaVuSans-99\"/>\n",
       "       <use x=\"266.845703\" xlink:href=\"#DejaVuSans-108\"/>\n",
       "       <use x=\"294.628906\" xlink:href=\"#DejaVuSans-101\"/>\n",
       "       <use x=\"356.152344\" xlink:href=\"#DejaVuSans-95\"/>\n",
       "       <use x=\"406.152344\" xlink:href=\"#DejaVuSans-97\"/>\n",
       "       <use x=\"467.431641\" xlink:href=\"#DejaVuSans-103\"/>\n",
       "       <use x=\"530.908203\" xlink:href=\"#DejaVuSans-101\"/>\n",
       "       <use x=\"592.431641\" xlink:href=\"#DejaVuSans-95\"/>\n",
       "       <use x=\"642.431641\" xlink:href=\"#DejaVuSans-49\"/>\n",
       "       <use x=\"706.054688\" xlink:href=\"#DejaVuSans-45\"/>\n",
       "       <use x=\"742.138672\" xlink:href=\"#DejaVuSans-50\"/>\n",
       "       <use x=\"805.761719\" xlink:href=\"#DejaVuSans-32\"/>\n",
       "       <use x=\"837.548828\" xlink:href=\"#DejaVuSans-89\"/>\n",
       "       <use x=\"885.382812\" xlink:href=\"#DejaVuSans-101\"/>\n",
       "       <use x=\"946.90625\" xlink:href=\"#DejaVuSans-97\"/>\n",
       "       <use x=\"1008.185547\" xlink:href=\"#DejaVuSans-114\"/>\n",
       "      </g>\n",
       "     </g>\n",
       "    </g>\n",
       "    <g id=\"ytick_9\">\n",
       "     <g id=\"line2d_15\"/>\n",
       "     <g id=\"text_15\">\n",
       "      <!-- vehicle_age_&lt; 1 Year -->\n",
       "      <g style=\"fill:#262626;\" transform=\"translate(94.590625 351.5382)scale(0.1 -0.1)\">\n",
       "       <defs>\n",
       "        <path d=\"M 73.1875 49.21875 \n",
       "L 22.796875 31.296875 \n",
       "L 73.1875 13.484375 \n",
       "L 73.1875 4.59375 \n",
       "L 10.59375 27.296875 \n",
       "L 10.59375 35.40625 \n",
       "L 73.1875 58.109375 \n",
       "z\n",
       "\" id=\"DejaVuSans-60\"/>\n",
       "       </defs>\n",
       "       <use xlink:href=\"#DejaVuSans-118\"/>\n",
       "       <use x=\"59.179688\" xlink:href=\"#DejaVuSans-101\"/>\n",
       "       <use x=\"120.703125\" xlink:href=\"#DejaVuSans-104\"/>\n",
       "       <use x=\"184.082031\" xlink:href=\"#DejaVuSans-105\"/>\n",
       "       <use x=\"211.865234\" xlink:href=\"#DejaVuSans-99\"/>\n",
       "       <use x=\"266.845703\" xlink:href=\"#DejaVuSans-108\"/>\n",
       "       <use x=\"294.628906\" xlink:href=\"#DejaVuSans-101\"/>\n",
       "       <use x=\"356.152344\" xlink:href=\"#DejaVuSans-95\"/>\n",
       "       <use x=\"406.152344\" xlink:href=\"#DejaVuSans-97\"/>\n",
       "       <use x=\"467.431641\" xlink:href=\"#DejaVuSans-103\"/>\n",
       "       <use x=\"530.908203\" xlink:href=\"#DejaVuSans-101\"/>\n",
       "       <use x=\"592.431641\" xlink:href=\"#DejaVuSans-95\"/>\n",
       "       <use x=\"642.431641\" xlink:href=\"#DejaVuSans-60\"/>\n",
       "       <use x=\"726.220703\" xlink:href=\"#DejaVuSans-32\"/>\n",
       "       <use x=\"758.007812\" xlink:href=\"#DejaVuSans-49\"/>\n",
       "       <use x=\"821.630859\" xlink:href=\"#DejaVuSans-32\"/>\n",
       "       <use x=\"853.417969\" xlink:href=\"#DejaVuSans-89\"/>\n",
       "       <use x=\"901.251953\" xlink:href=\"#DejaVuSans-101\"/>\n",
       "       <use x=\"962.775391\" xlink:href=\"#DejaVuSans-97\"/>\n",
       "       <use x=\"1024.054688\" xlink:href=\"#DejaVuSans-114\"/>\n",
       "      </g>\n",
       "     </g>\n",
       "    </g>\n",
       "    <g id=\"ytick_10\">\n",
       "     <g id=\"line2d_16\"/>\n",
       "     <g id=\"text_16\">\n",
       "      <!-- vehicle_age_&gt; 2 Years -->\n",
       "      <g style=\"fill:#262626;\" transform=\"translate(89.38125 387.48273)scale(0.1 -0.1)\">\n",
       "       <defs>\n",
       "        <path d=\"M 10.59375 49.21875 \n",
       "L 10.59375 58.109375 \n",
       "L 73.1875 35.40625 \n",
       "L 73.1875 27.296875 \n",
       "L 10.59375 4.59375 \n",
       "L 10.59375 13.484375 \n",
       "L 60.890625 31.296875 \n",
       "z\n",
       "\" id=\"DejaVuSans-62\"/>\n",
       "       </defs>\n",
       "       <use xlink:href=\"#DejaVuSans-118\"/>\n",
       "       <use x=\"59.179688\" xlink:href=\"#DejaVuSans-101\"/>\n",
       "       <use x=\"120.703125\" xlink:href=\"#DejaVuSans-104\"/>\n",
       "       <use x=\"184.082031\" xlink:href=\"#DejaVuSans-105\"/>\n",
       "       <use x=\"211.865234\" xlink:href=\"#DejaVuSans-99\"/>\n",
       "       <use x=\"266.845703\" xlink:href=\"#DejaVuSans-108\"/>\n",
       "       <use x=\"294.628906\" xlink:href=\"#DejaVuSans-101\"/>\n",
       "       <use x=\"356.152344\" xlink:href=\"#DejaVuSans-95\"/>\n",
       "       <use x=\"406.152344\" xlink:href=\"#DejaVuSans-97\"/>\n",
       "       <use x=\"467.431641\" xlink:href=\"#DejaVuSans-103\"/>\n",
       "       <use x=\"530.908203\" xlink:href=\"#DejaVuSans-101\"/>\n",
       "       <use x=\"592.431641\" xlink:href=\"#DejaVuSans-95\"/>\n",
       "       <use x=\"642.431641\" xlink:href=\"#DejaVuSans-62\"/>\n",
       "       <use x=\"726.220703\" xlink:href=\"#DejaVuSans-32\"/>\n",
       "       <use x=\"758.007812\" xlink:href=\"#DejaVuSans-50\"/>\n",
       "       <use x=\"821.630859\" xlink:href=\"#DejaVuSans-32\"/>\n",
       "       <use x=\"853.417969\" xlink:href=\"#DejaVuSans-89\"/>\n",
       "       <use x=\"901.251953\" xlink:href=\"#DejaVuSans-101\"/>\n",
       "       <use x=\"962.775391\" xlink:href=\"#DejaVuSans-97\"/>\n",
       "       <use x=\"1024.054688\" xlink:href=\"#DejaVuSans-114\"/>\n",
       "       <use x=\"1065.167969\" xlink:href=\"#DejaVuSans-115\"/>\n",
       "      </g>\n",
       "     </g>\n",
       "    </g>\n",
       "    <g id=\"ytick_11\">\n",
       "     <g id=\"line2d_17\"/>\n",
       "     <g id=\"text_17\">\n",
       "      <!-- region_code_Kfold_Target_Enc -->\n",
       "      <g style=\"fill:#262626;\" transform=\"translate(50.948438 423.42726)scale(0.1 -0.1)\">\n",
       "       <defs>\n",
       "        <path d=\"M 9.8125 72.90625 \n",
       "L 19.671875 72.90625 \n",
       "L 19.671875 42.09375 \n",
       "L 52.390625 72.90625 \n",
       "L 65.09375 72.90625 \n",
       "L 28.90625 38.921875 \n",
       "L 67.671875 0 \n",
       "L 54.6875 0 \n",
       "L 19.671875 35.109375 \n",
       "L 19.671875 0 \n",
       "L 9.8125 0 \n",
       "z\n",
       "\" id=\"DejaVuSans-75\"/>\n",
       "        <path d=\"M 37.109375 75.984375 \n",
       "L 37.109375 68.5 \n",
       "L 28.515625 68.5 \n",
       "Q 23.6875 68.5 21.796875 66.546875 \n",
       "Q 19.921875 64.59375 19.921875 59.515625 \n",
       "L 19.921875 54.6875 \n",
       "L 34.71875 54.6875 \n",
       "L 34.71875 47.703125 \n",
       "L 19.921875 47.703125 \n",
       "L 19.921875 0 \n",
       "L 10.890625 0 \n",
       "L 10.890625 47.703125 \n",
       "L 2.296875 47.703125 \n",
       "L 2.296875 54.6875 \n",
       "L 10.890625 54.6875 \n",
       "L 10.890625 58.5 \n",
       "Q 10.890625 67.625 15.140625 71.796875 \n",
       "Q 19.390625 75.984375 28.609375 75.984375 \n",
       "z\n",
       "\" id=\"DejaVuSans-102\"/>\n",
       "        <path d=\"M -0.296875 72.90625 \n",
       "L 61.375 72.90625 \n",
       "L 61.375 64.59375 \n",
       "L 35.5 64.59375 \n",
       "L 35.5 0 \n",
       "L 25.59375 0 \n",
       "L 25.59375 64.59375 \n",
       "L -0.296875 64.59375 \n",
       "z\n",
       "\" id=\"DejaVuSans-84\"/>\n",
       "        <path d=\"M 9.8125 72.90625 \n",
       "L 55.90625 72.90625 \n",
       "L 55.90625 64.59375 \n",
       "L 19.671875 64.59375 \n",
       "L 19.671875 43.015625 \n",
       "L 54.390625 43.015625 \n",
       "L 54.390625 34.71875 \n",
       "L 19.671875 34.71875 \n",
       "L 19.671875 8.296875 \n",
       "L 56.78125 8.296875 \n",
       "L 56.78125 0 \n",
       "L 9.8125 0 \n",
       "z\n",
       "\" id=\"DejaVuSans-69\"/>\n",
       "       </defs>\n",
       "       <use xlink:href=\"#DejaVuSans-114\"/>\n",
       "       <use x=\"38.863281\" xlink:href=\"#DejaVuSans-101\"/>\n",
       "       <use x=\"100.386719\" xlink:href=\"#DejaVuSans-103\"/>\n",
       "       <use x=\"163.863281\" xlink:href=\"#DejaVuSans-105\"/>\n",
       "       <use x=\"191.646484\" xlink:href=\"#DejaVuSans-111\"/>\n",
       "       <use x=\"252.828125\" xlink:href=\"#DejaVuSans-110\"/>\n",
       "       <use x=\"316.207031\" xlink:href=\"#DejaVuSans-95\"/>\n",
       "       <use x=\"366.207031\" xlink:href=\"#DejaVuSans-99\"/>\n",
       "       <use x=\"421.1875\" xlink:href=\"#DejaVuSans-111\"/>\n",
       "       <use x=\"482.369141\" xlink:href=\"#DejaVuSans-100\"/>\n",
       "       <use x=\"545.845703\" xlink:href=\"#DejaVuSans-101\"/>\n",
       "       <use x=\"607.369141\" xlink:href=\"#DejaVuSans-95\"/>\n",
       "       <use x=\"657.369141\" xlink:href=\"#DejaVuSans-75\"/>\n",
       "       <use x=\"722.945312\" xlink:href=\"#DejaVuSans-102\"/>\n",
       "       <use x=\"758.150391\" xlink:href=\"#DejaVuSans-111\"/>\n",
       "       <use x=\"819.332031\" xlink:href=\"#DejaVuSans-108\"/>\n",
       "       <use x=\"847.115234\" xlink:href=\"#DejaVuSans-100\"/>\n",
       "       <use x=\"910.591797\" xlink:href=\"#DejaVuSans-95\"/>\n",
       "       <use x=\"960.591797\" xlink:href=\"#DejaVuSans-84\"/>\n",
       "       <use x=\"1005.175781\" xlink:href=\"#DejaVuSans-97\"/>\n",
       "       <use x=\"1066.455078\" xlink:href=\"#DejaVuSans-114\"/>\n",
       "       <use x=\"1105.818359\" xlink:href=\"#DejaVuSans-103\"/>\n",
       "       <use x=\"1169.294922\" xlink:href=\"#DejaVuSans-101\"/>\n",
       "       <use x=\"1230.818359\" xlink:href=\"#DejaVuSans-116\"/>\n",
       "       <use x=\"1270.027344\" xlink:href=\"#DejaVuSans-95\"/>\n",
       "       <use x=\"1320.027344\" xlink:href=\"#DejaVuSans-69\"/>\n",
       "       <use x=\"1383.210938\" xlink:href=\"#DejaVuSans-110\"/>\n",
       "       <use x=\"1446.589844\" xlink:href=\"#DejaVuSans-99\"/>\n",
       "      </g>\n",
       "     </g>\n",
       "    </g>\n",
       "    <g id=\"ytick_12\">\n",
       "     <g id=\"line2d_18\"/>\n",
       "     <g id=\"text_18\">\n",
       "      <!-- policy_sales_channel_Kfold_Target_Enc -->\n",
       "      <g style=\"fill:#262626;\" transform=\"translate(7.2 459.37179)scale(0.1 -0.1)\">\n",
       "       <use xlink:href=\"#DejaVuSans-112\"/>\n",
       "       <use x=\"63.476562\" xlink:href=\"#DejaVuSans-111\"/>\n",
       "       <use x=\"124.658203\" xlink:href=\"#DejaVuSans-108\"/>\n",
       "       <use x=\"152.441406\" xlink:href=\"#DejaVuSans-105\"/>\n",
       "       <use x=\"180.224609\" xlink:href=\"#DejaVuSans-99\"/>\n",
       "       <use x=\"235.205078\" xlink:href=\"#DejaVuSans-121\"/>\n",
       "       <use x=\"294.384766\" xlink:href=\"#DejaVuSans-95\"/>\n",
       "       <use x=\"344.384766\" xlink:href=\"#DejaVuSans-115\"/>\n",
       "       <use x=\"396.484375\" xlink:href=\"#DejaVuSans-97\"/>\n",
       "       <use x=\"457.763672\" xlink:href=\"#DejaVuSans-108\"/>\n",
       "       <use x=\"485.546875\" xlink:href=\"#DejaVuSans-101\"/>\n",
       "       <use x=\"547.070312\" xlink:href=\"#DejaVuSans-115\"/>\n",
       "       <use x=\"599.169922\" xlink:href=\"#DejaVuSans-95\"/>\n",
       "       <use x=\"649.169922\" xlink:href=\"#DejaVuSans-99\"/>\n",
       "       <use x=\"704.150391\" xlink:href=\"#DejaVuSans-104\"/>\n",
       "       <use x=\"767.529297\" xlink:href=\"#DejaVuSans-97\"/>\n",
       "       <use x=\"828.808594\" xlink:href=\"#DejaVuSans-110\"/>\n",
       "       <use x=\"892.1875\" xlink:href=\"#DejaVuSans-110\"/>\n",
       "       <use x=\"955.566406\" xlink:href=\"#DejaVuSans-101\"/>\n",
       "       <use x=\"1017.089844\" xlink:href=\"#DejaVuSans-108\"/>\n",
       "       <use x=\"1044.873047\" xlink:href=\"#DejaVuSans-95\"/>\n",
       "       <use x=\"1094.873047\" xlink:href=\"#DejaVuSans-75\"/>\n",
       "       <use x=\"1160.449219\" xlink:href=\"#DejaVuSans-102\"/>\n",
       "       <use x=\"1195.654297\" xlink:href=\"#DejaVuSans-111\"/>\n",
       "       <use x=\"1256.835938\" xlink:href=\"#DejaVuSans-108\"/>\n",
       "       <use x=\"1284.619141\" xlink:href=\"#DejaVuSans-100\"/>\n",
       "       <use x=\"1348.095703\" xlink:href=\"#DejaVuSans-95\"/>\n",
       "       <use x=\"1398.095703\" xlink:href=\"#DejaVuSans-84\"/>\n",
       "       <use x=\"1442.679688\" xlink:href=\"#DejaVuSans-97\"/>\n",
       "       <use x=\"1503.958984\" xlink:href=\"#DejaVuSans-114\"/>\n",
       "       <use x=\"1543.322266\" xlink:href=\"#DejaVuSans-103\"/>\n",
       "       <use x=\"1606.798828\" xlink:href=\"#DejaVuSans-101\"/>\n",
       "       <use x=\"1668.322266\" xlink:href=\"#DejaVuSans-116\"/>\n",
       "       <use x=\"1707.53125\" xlink:href=\"#DejaVuSans-95\"/>\n",
       "       <use x=\"1757.53125\" xlink:href=\"#DejaVuSans-69\"/>\n",
       "       <use x=\"1820.714844\" xlink:href=\"#DejaVuSans-110\"/>\n",
       "       <use x=\"1884.09375\" xlink:href=\"#DejaVuSans-99\"/>\n",
       "      </g>\n",
       "     </g>\n",
       "    </g>\n",
       "   </g>\n",
       "   <g id=\"patch_3\">\n",
       "    <path clip-path=\"url(#pf9fc289f71)\" d=\"M 208.110938 45.804929 \n",
       "L 990.6414 45.804929 \n",
       "L 990.6414 74.560553 \n",
       "L 208.110938 74.560553 \n",
       "z\n",
       "\" style=\"fill:#008fd5;stroke:#ffffff;stroke-linejoin:miter;stroke-width:0.5;\"/>\n",
       "   </g>\n",
       "   <g id=\"patch_4\">\n",
       "    <path clip-path=\"url(#pf9fc289f71)\" d=\"M 208.110938 81.749459 \n",
       "L 1400.681741 81.749459 \n",
       "L 1400.681741 110.505083 \n",
       "L 208.110938 110.505083 \n",
       "z\n",
       "\" style=\"fill:#008fd5;stroke:#ffffff;stroke-linejoin:miter;stroke-width:0.5;\"/>\n",
       "   </g>\n",
       "   <g id=\"patch_5\">\n",
       "    <path clip-path=\"url(#pf9fc289f71)\" d=\"M 208.110938 117.693989 \n",
       "L 228.528979 117.693989 \n",
       "L 228.528979 146.449613 \n",
       "L 208.110938 146.449613 \n",
       "z\n",
       "\" style=\"fill:#008fd5;stroke:#ffffff;stroke-linejoin:miter;stroke-width:0.5;\"/>\n",
       "   </g>\n",
       "   <g id=\"patch_6\">\n",
       "    <path clip-path=\"url(#pf9fc289f71)\" d=\"M 208.110938 153.638519 \n",
       "L 897.888648 153.638519 \n",
       "L 897.888648 182.394143 \n",
       "L 208.110938 182.394143 \n",
       "z\n",
       "\" style=\"fill:#008fd5;stroke:#ffffff;stroke-linejoin:miter;stroke-width:0.5;\"/>\n",
       "   </g>\n",
       "   <g id=\"patch_7\">\n",
       "    <path clip-path=\"url(#pf9fc289f71)\" d=\"M 208.110938 189.583049 \n",
       "L 925.960839 189.583049 \n",
       "L 925.960839 218.338673 \n",
       "L 208.110938 218.338673 \n",
       "z\n",
       "\" style=\"fill:#008fd5;stroke:#ffffff;stroke-linejoin:miter;stroke-width:0.5;\"/>\n",
       "   </g>\n",
       "   <g id=\"patch_8\">\n",
       "    <path clip-path=\"url(#pf9fc289f71)\" d=\"M 208.110938 225.527579 \n",
       "L 1283.043433 225.527579 \n",
       "L 1283.043433 254.283203 \n",
       "L 208.110938 254.283203 \n",
       "z\n",
       "\" style=\"fill:#008fd5;stroke:#ffffff;stroke-linejoin:miter;stroke-width:0.5;\"/>\n",
       "   </g>\n",
       "   <g id=\"patch_9\">\n",
       "    <path clip-path=\"url(#pf9fc289f71)\" d=\"M 208.110938 261.472109 \n",
       "L 1401.253795 261.472109 \n",
       "L 1401.253795 290.227733 \n",
       "L 208.110938 290.227733 \n",
       "z\n",
       "\" style=\"fill:#008fd5;stroke:#ffffff;stroke-linejoin:miter;stroke-width:0.5;\"/>\n",
       "   </g>\n",
       "   <g id=\"patch_10\">\n",
       "    <path clip-path=\"url(#pf9fc289f71)\" d=\"M 208.110938 297.416639 \n",
       "L 971.872025 297.416639 \n",
       "L 971.872025 326.172263 \n",
       "L 208.110938 326.172263 \n",
       "z\n",
       "\" style=\"fill:#008fd5;stroke:#ffffff;stroke-linejoin:miter;stroke-width:0.5;\"/>\n",
       "   </g>\n",
       "   <g id=\"patch_11\">\n",
       "    <path clip-path=\"url(#pf9fc289f71)\" d=\"M 208.110938 333.361169 \n",
       "L 939.898339 333.361169 \n",
       "L 939.898339 362.116793 \n",
       "L 208.110938 362.116793 \n",
       "z\n",
       "\" style=\"fill:#008fd5;stroke:#ffffff;stroke-linejoin:miter;stroke-width:0.5;\"/>\n",
       "   </g>\n",
       "   <g id=\"patch_12\">\n",
       "    <path clip-path=\"url(#pf9fc289f71)\" d=\"M 208.110938 369.305699 \n",
       "L 547.248454 369.305699 \n",
       "L 547.248454 398.061323 \n",
       "L 208.110938 398.061323 \n",
       "z\n",
       "\" style=\"fill:#008fd5;stroke:#ffffff;stroke-linejoin:miter;stroke-width:0.5;\"/>\n",
       "   </g>\n",
       "   <g id=\"patch_13\">\n",
       "    <path clip-path=\"url(#pf9fc289f71)\" d=\"M 208.110938 405.250229 \n",
       "L 1284.811368 405.250229 \n",
       "L 1284.811368 434.005853 \n",
       "L 208.110938 434.005853 \n",
       "z\n",
       "\" style=\"fill:#008fd5;stroke:#ffffff;stroke-linejoin:miter;stroke-width:0.5;\"/>\n",
       "   </g>\n",
       "   <g id=\"patch_14\">\n",
       "    <path clip-path=\"url(#pf9fc289f71)\" d=\"M 208.110938 441.194759 \n",
       "L 1185.399881 441.194759 \n",
       "L 1185.399881 469.950384 \n",
       "L 208.110938 469.950384 \n",
       "z\n",
       "\" style=\"fill:#008fd5;stroke:#ffffff;stroke-linejoin:miter;stroke-width:0.5;\"/>\n",
       "   </g>\n",
       "   <g id=\"patch_15\">\n",
       "    <path d=\"M 208.110938 491.157656 \n",
       "L 208.110938 24.597656 \n",
       "\" style=\"fill:none;stroke:#262626;stroke-linecap:square;stroke-linejoin:miter;stroke-width:3;\"/>\n",
       "   </g>\n",
       "   <g id=\"patch_16\">\n",
       "    <path d=\"M 1460.910938 491.157656 \n",
       "L 1460.910938 24.597656 \n",
       "\" style=\"fill:none;stroke:#262626;stroke-linecap:square;stroke-linejoin:miter;stroke-width:3;\"/>\n",
       "   </g>\n",
       "   <g id=\"patch_17\">\n",
       "    <path d=\"M 208.110938 491.157656 \n",
       "L 1460.910938 491.157656 \n",
       "\" style=\"fill:none;stroke:#262626;stroke-linecap:square;stroke-linejoin:miter;stroke-width:3;\"/>\n",
       "   </g>\n",
       "   <g id=\"patch_18\">\n",
       "    <path d=\"M 208.110938 24.597656 \n",
       "L 1460.910938 24.597656 \n",
       "\" style=\"fill:none;stroke:#262626;stroke-linecap:square;stroke-linejoin:miter;stroke-width:3;\"/>\n",
       "   </g>\n",
       "   <g id=\"text_19\">\n",
       "    <!-- Shapiro Ranking of 12 Features -->\n",
       "    <g style=\"fill:#262626;\" transform=\"translate(717.169922 18.597656)scale(0.15 -0.15)\">\n",
       "     <defs>\n",
       "      <path d=\"M 53.515625 70.515625 \n",
       "L 53.515625 60.890625 \n",
       "Q 47.90625 63.578125 42.921875 64.890625 \n",
       "Q 37.9375 66.21875 33.296875 66.21875 \n",
       "Q 25.25 66.21875 20.875 63.09375 \n",
       "Q 16.5 59.96875 16.5 54.203125 \n",
       "Q 16.5 49.359375 19.40625 46.890625 \n",
       "Q 22.3125 44.4375 30.421875 42.921875 \n",
       "L 36.375 41.703125 \n",
       "Q 47.40625 39.59375 52.65625 34.296875 \n",
       "Q 57.90625 29 57.90625 20.125 \n",
       "Q 57.90625 9.515625 50.796875 4.046875 \n",
       "Q 43.703125 -1.421875 29.984375 -1.421875 \n",
       "Q 24.8125 -1.421875 18.96875 -0.25 \n",
       "Q 13.140625 0.921875 6.890625 3.21875 \n",
       "L 6.890625 13.375 \n",
       "Q 12.890625 10.015625 18.65625 8.296875 \n",
       "Q 24.421875 6.59375 29.984375 6.59375 \n",
       "Q 38.421875 6.59375 43.015625 9.90625 \n",
       "Q 47.609375 13.234375 47.609375 19.390625 \n",
       "Q 47.609375 24.75 44.3125 27.78125 \n",
       "Q 41.015625 30.8125 33.5 32.328125 \n",
       "L 27.484375 33.5 \n",
       "Q 16.453125 35.6875 11.515625 40.375 \n",
       "Q 6.59375 45.0625 6.59375 53.421875 \n",
       "Q 6.59375 63.09375 13.40625 68.65625 \n",
       "Q 20.21875 74.21875 32.171875 74.21875 \n",
       "Q 37.3125 74.21875 42.625 73.28125 \n",
       "Q 47.953125 72.359375 53.515625 70.515625 \n",
       "z\n",
       "\" id=\"DejaVuSans-83\"/>\n",
       "      <path d=\"M 44.390625 34.1875 \n",
       "Q 47.5625 33.109375 50.5625 29.59375 \n",
       "Q 53.5625 26.078125 56.59375 19.921875 \n",
       "L 66.609375 0 \n",
       "L 56 0 \n",
       "L 46.6875 18.703125 \n",
       "Q 43.0625 26.03125 39.671875 28.421875 \n",
       "Q 36.28125 30.8125 30.421875 30.8125 \n",
       "L 19.671875 30.8125 \n",
       "L 19.671875 0 \n",
       "L 9.8125 0 \n",
       "L 9.8125 72.90625 \n",
       "L 32.078125 72.90625 \n",
       "Q 44.578125 72.90625 50.734375 67.671875 \n",
       "Q 56.890625 62.453125 56.890625 51.90625 \n",
       "Q 56.890625 45.015625 53.6875 40.46875 \n",
       "Q 50.484375 35.9375 44.390625 34.1875 \n",
       "z\n",
       "M 19.671875 64.796875 \n",
       "L 19.671875 38.921875 \n",
       "L 32.078125 38.921875 \n",
       "Q 39.203125 38.921875 42.84375 42.21875 \n",
       "Q 46.484375 45.515625 46.484375 51.90625 \n",
       "Q 46.484375 58.296875 42.84375 61.546875 \n",
       "Q 39.203125 64.796875 32.078125 64.796875 \n",
       "z\n",
       "\" id=\"DejaVuSans-82\"/>\n",
       "      <path d=\"M 9.078125 75.984375 \n",
       "L 18.109375 75.984375 \n",
       "L 18.109375 31.109375 \n",
       "L 44.921875 54.6875 \n",
       "L 56.390625 54.6875 \n",
       "L 27.390625 29.109375 \n",
       "L 57.625 0 \n",
       "L 45.90625 0 \n",
       "L 18.109375 26.703125 \n",
       "L 18.109375 0 \n",
       "L 9.078125 0 \n",
       "z\n",
       "\" id=\"DejaVuSans-107\"/>\n",
       "      <path d=\"M 9.8125 72.90625 \n",
       "L 51.703125 72.90625 \n",
       "L 51.703125 64.59375 \n",
       "L 19.671875 64.59375 \n",
       "L 19.671875 43.109375 \n",
       "L 48.578125 43.109375 \n",
       "L 48.578125 34.8125 \n",
       "L 19.671875 34.8125 \n",
       "L 19.671875 0 \n",
       "L 9.8125 0 \n",
       "z\n",
       "\" id=\"DejaVuSans-70\"/>\n",
       "     </defs>\n",
       "     <use xlink:href=\"#DejaVuSans-83\"/>\n",
       "     <use x=\"63.476562\" xlink:href=\"#DejaVuSans-104\"/>\n",
       "     <use x=\"126.855469\" xlink:href=\"#DejaVuSans-97\"/>\n",
       "     <use x=\"188.134766\" xlink:href=\"#DejaVuSans-112\"/>\n",
       "     <use x=\"251.611328\" xlink:href=\"#DejaVuSans-105\"/>\n",
       "     <use x=\"279.394531\" xlink:href=\"#DejaVuSans-114\"/>\n",
       "     <use x=\"318.257812\" xlink:href=\"#DejaVuSans-111\"/>\n",
       "     <use x=\"379.439453\" xlink:href=\"#DejaVuSans-32\"/>\n",
       "     <use x=\"411.226562\" xlink:href=\"#DejaVuSans-82\"/>\n",
       "     <use x=\"478.458984\" xlink:href=\"#DejaVuSans-97\"/>\n",
       "     <use x=\"539.738281\" xlink:href=\"#DejaVuSans-110\"/>\n",
       "     <use x=\"603.117188\" xlink:href=\"#DejaVuSans-107\"/>\n",
       "     <use x=\"661.027344\" xlink:href=\"#DejaVuSans-105\"/>\n",
       "     <use x=\"688.810547\" xlink:href=\"#DejaVuSans-110\"/>\n",
       "     <use x=\"752.189453\" xlink:href=\"#DejaVuSans-103\"/>\n",
       "     <use x=\"815.666016\" xlink:href=\"#DejaVuSans-32\"/>\n",
       "     <use x=\"847.453125\" xlink:href=\"#DejaVuSans-111\"/>\n",
       "     <use x=\"908.634766\" xlink:href=\"#DejaVuSans-102\"/>\n",
       "     <use x=\"943.839844\" xlink:href=\"#DejaVuSans-32\"/>\n",
       "     <use x=\"975.626953\" xlink:href=\"#DejaVuSans-49\"/>\n",
       "     <use x=\"1039.25\" xlink:href=\"#DejaVuSans-50\"/>\n",
       "     <use x=\"1102.873047\" xlink:href=\"#DejaVuSans-32\"/>\n",
       "     <use x=\"1134.660156\" xlink:href=\"#DejaVuSans-70\"/>\n",
       "     <use x=\"1186.679688\" xlink:href=\"#DejaVuSans-101\"/>\n",
       "     <use x=\"1248.203125\" xlink:href=\"#DejaVuSans-97\"/>\n",
       "     <use x=\"1309.482422\" xlink:href=\"#DejaVuSans-116\"/>\n",
       "     <use x=\"1348.691406\" xlink:href=\"#DejaVuSans-117\"/>\n",
       "     <use x=\"1412.070312\" xlink:href=\"#DejaVuSans-114\"/>\n",
       "     <use x=\"1450.933594\" xlink:href=\"#DejaVuSans-101\"/>\n",
       "     <use x=\"1512.457031\" xlink:href=\"#DejaVuSans-115\"/>\n",
       "    </g>\n",
       "   </g>\n",
       "  </g>\n",
       " </g>\n",
       " <defs>\n",
       "  <clipPath id=\"pf9fc289f71\">\n",
       "   <rect height=\"466.56\" width=\"1252.8\" x=\"208.110938\" y=\"24.597656\"/>\n",
       "  </clipPath>\n",
       " </defs>\n",
       "</svg>\n"
      ],
      "text/plain": [
       "<Figure size 1440x576 with 1 Axes>"
      ]
     },
     "metadata": {},
     "output_type": "display_data"
    }
   ],
   "source": [
    "visualizer = Rank1D(algorithm='shapiro')\n",
    "\n",
    "visualizer.fit(x_train_res, y_train_res)           \n",
    "visualizer.transform(x_train_res)        \n",
    "visualizer.show();              "
   ]
  },
  {
   "cell_type": "markdown",
   "id": "addressed-explorer",
   "metadata": {},
   "source": [
    "## 6.1.1 Recursive Feature Elimination with Cross Validation"
   ]
  },
  {
   "cell_type": "code",
   "execution_count": 100,
   "id": "established-shooting",
   "metadata": {
    "execution": {
     "iopub.execute_input": "2021-03-17T14:59:03.988731Z",
     "iopub.status.busy": "2021-03-17T14:59:03.988382Z",
     "iopub.status.idle": "2021-03-17T14:59:04.000989Z",
     "shell.execute_reply": "2021-03-17T14:59:04.000554Z",
     "shell.execute_reply.started": "2021-03-17T14:59:03.988695Z"
    }
   },
   "outputs": [],
   "source": [
    "#preparing for selection\n",
    "x_train_res_s = x_train_res.values\n",
    "y_train_res_s = y_train_res.values.ravel()"
   ]
  },
  {
   "cell_type": "code",
   "execution_count": 101,
   "id": "registered-prompt",
   "metadata": {
    "execution": {
     "iopub.execute_input": "2021-03-17T14:59:04.572087Z",
     "iopub.status.busy": "2021-03-17T14:59:04.571842Z",
     "iopub.status.idle": "2021-03-17T15:01:30.958492Z",
     "shell.execute_reply": "2021-03-17T15:01:30.957777Z",
     "shell.execute_reply.started": "2021-03-17T14:59:04.572060Z"
    }
   },
   "outputs": [
    {
     "name": "stdout",
     "output_type": "stream",
     "text": [
      "Optimal number of features : 3\n"
     ]
    },
    {
     "data": {
      "image/png": "[encoded data removed]",
      "text/plain": [
       "<Figure size 1440x576 with 1 Axes>"
      ]
     },
     "metadata": {},
     "output_type": "display_data"
    }
   ],
   "source": [
    "#Create the RFE object and compute a cross-validated score.\n",
    "et = ExtraTreesClassifier( n_estimators = 100, n_jobs=-1, random_state=42 )\n",
    "\n",
    "min_features_to_select = 1  # Minimum number of features to consider\n",
    "\n",
    "rfeet = RFECV(estimator = et, step = 1, cv = StratifiedKFold(2),\n",
    "              scoring = 'precision',\n",
    "              min_features_to_select= min_features_to_select)\n",
    "\n",
    "rfeet.fit(x_train_res_s, y_train_res_s)\n",
    "\n",
    "print(\"Optimal number of features : %d\" % rfeet.n_features_)\n",
    "\n",
    "# Plot number of features VS. cross-validation scores\n",
    "plt.figure()\n",
    "plt.xlabel(\"Number of features selected\")\n",
    "plt.ylabel(\"Cross validation score (nb of correct classifications)\")\n",
    "plt.plot(range(min_features_to_select,\n",
    "               len(rfeet.grid_scores_) + min_features_to_select),\n",
    "         rfeet.grid_scores_)\n",
    "plt.show()"
   ]
  },
  {
   "cell_type": "code",
   "execution_count": 102,
   "id": "alike-munich",
   "metadata": {
    "execution": {
     "iopub.execute_input": "2021-03-17T15:01:30.959940Z",
     "iopub.status.busy": "2021-03-17T15:01:30.959723Z",
     "iopub.status.idle": "2021-03-17T15:01:30.966148Z",
     "shell.execute_reply": "2021-03-17T15:01:30.965565Z",
     "shell.execute_reply.started": "2021-03-17T15:01:30.959910Z"
    }
   },
   "outputs": [
    {
     "name": "stdout",
     "output_type": "stream",
     "text": [
      "--- RFECV Selected Columns ---\n",
      " \n",
      "age\n",
      "Rank: 1.00\n",
      " \n",
      "vehicle_damage\n",
      "Rank: 1.00\n",
      " \n",
      "policy_sales_channel_Kfold_Target_Enc\n",
      "Rank: 1.00\n",
      " \n"
     ]
    }
   ],
   "source": [
    "print('--- RFECV Selected Columns ---')\n",
    "print(' ')\n",
    "\n",
    "for i in range(x_train.shape[1]):\n",
    "    \n",
    "    if rfeet.support_[i] == True:\n",
    "        print(str(df3.columns[i]))\n",
    "        print('Rank: %.2f' % rfeet.ranking_[i])\n",
    "        print(' ')\n",
    "    else:\n",
    "        pass"
   ]
  },
  {
   "cell_type": "markdown",
   "id": "graphic-carroll",
   "metadata": {},
   "source": [
    "## 6.1.2 Boruta Algorithm (Wrapper Method) "
   ]
  },
  {
   "cell_type": "code",
   "execution_count": 104,
   "id": "chicken-tutorial",
   "metadata": {
    "execution": {
     "iopub.execute_input": "2021-03-17T15:04:57.899477Z",
     "iopub.status.busy": "2021-03-17T15:04:57.899276Z",
     "iopub.status.idle": "2021-03-17T15:06:11.495531Z",
     "shell.execute_reply": "2021-03-17T15:06:11.494918Z",
     "shell.execute_reply.started": "2021-03-17T15:04:57.899454Z"
    }
   },
   "outputs": [
    {
     "name": "stdout",
     "output_type": "stream",
     "text": [
      "Iteration: \t1 / 100\n",
      "Confirmed: \t0\n",
      "Tentative: \t12\n",
      "Rejected: \t0\n",
      "Iteration: \t2 / 100\n",
      "Confirmed: \t0\n",
      "Tentative: \t12\n",
      "Rejected: \t0\n",
      "Iteration: \t3 / 100\n",
      "Confirmed: \t0\n",
      "Tentative: \t12\n",
      "Rejected: \t0\n",
      "Iteration: \t4 / 100\n",
      "Confirmed: \t0\n",
      "Tentative: \t12\n",
      "Rejected: \t0\n",
      "Iteration: \t5 / 100\n",
      "Confirmed: \t0\n",
      "Tentative: \t12\n",
      "Rejected: \t0\n",
      "Iteration: \t6 / 100\n",
      "Confirmed: \t0\n",
      "Tentative: \t12\n",
      "Rejected: \t0\n",
      "Iteration: \t7 / 100\n",
      "Confirmed: \t0\n",
      "Tentative: \t12\n",
      "Rejected: \t0\n",
      "Iteration: \t8 / 100\n",
      "Confirmed: \t6\n",
      "Tentative: \t0\n",
      "Rejected: \t6\n",
      "\n",
      "\n",
      "BorutaPy finished running.\n",
      "\n",
      "Iteration: \t9 / 100\n",
      "Confirmed: \t6\n",
      "Tentative: \t0\n",
      "Rejected: \t6\n"
     ]
    }
   ],
   "source": [
    "#define Classifier\n",
    "rf = RandomForestClassifier( n_jobs = -1 )\n",
    "\n",
    "boruta = BorutaPy( rf, n_estimators = 'auto', verbose = 2, random_state = 42 ).fit( x_train_res_s, y_train_res_s )"
   ]
  },
  {
   "cell_type": "code",
   "execution_count": 105,
   "id": "direct-consensus",
   "metadata": {
    "execution": {
     "iopub.execute_input": "2021-03-17T15:11:05.016010Z",
     "iopub.status.busy": "2021-03-17T15:11:05.015747Z",
     "iopub.status.idle": "2021-03-17T15:11:05.023191Z",
     "shell.execute_reply": "2021-03-17T15:11:05.022754Z",
     "shell.execute_reply.started": "2021-03-17T15:11:05.015979Z"
    }
   },
   "outputs": [],
   "source": [
    "cols_selected = boruta.support_.tolist()\n",
    "\n",
    "# best features\n",
    "cols_selected_boruta = x_train.iloc[:, cols_selected].columns.to_list()\n",
    "\n",
    "# not selected boruta\n",
    "cols_not_selected_boruta = list( np.setdiff1d( x_train.columns, cols_selected_boruta ) )"
   ]
  },
  {
   "cell_type": "code",
   "execution_count": 106,
   "id": "waiting-workstation",
   "metadata": {
    "execution": {
     "iopub.execute_input": "2021-03-17T15:11:06.168605Z",
     "iopub.status.busy": "2021-03-17T15:11:06.168362Z",
     "iopub.status.idle": "2021-03-17T15:11:06.173010Z",
     "shell.execute_reply": "2021-03-17T15:11:06.172290Z",
     "shell.execute_reply.started": "2021-03-17T15:11:06.168577Z"
    }
   },
   "outputs": [
    {
     "data": {
      "text/plain": [
       "['age',\n",
       " 'previously_insured',\n",
       " 'vehicle_damage',\n",
       " 'vintage',\n",
       " 'region_code_Kfold_Target_Enc',\n",
       " 'policy_sales_channel_Kfold_Target_Enc']"
      ]
     },
     "execution_count": 106,
     "metadata": {},
     "output_type": "execute_result"
    }
   ],
   "source": [
    "cols_selected_boruta"
   ]
  },
  {
   "cell_type": "code",
   "execution_count": 107,
   "id": "preceding-newcastle",
   "metadata": {
    "execution": {
     "iopub.execute_input": "2021-03-17T15:11:06.920581Z",
     "iopub.status.busy": "2021-03-17T15:11:06.920338Z",
     "iopub.status.idle": "2021-03-17T15:11:06.925834Z",
     "shell.execute_reply": "2021-03-17T15:11:06.925027Z",
     "shell.execute_reply.started": "2021-03-17T15:11:06.920554Z"
    }
   },
   "outputs": [
    {
     "data": {
      "text/plain": [
       "['annual_premium',\n",
       " 'driving_license',\n",
       " 'gender',\n",
       " 'vehicle_age_1-2 Year',\n",
       " 'vehicle_age_< 1 Year',\n",
       " 'vehicle_age_> 2 Years']"
      ]
     },
     "execution_count": 107,
     "metadata": {},
     "output_type": "execute_result"
    }
   ],
   "source": [
    "cols_not_selected_boruta"
   ]
  },
  {
   "cell_type": "markdown",
   "id": "outdoor-closing",
   "metadata": {},
   "source": [
    "# 7.0 Modeling"
   ]
  },
  {
   "cell_type": "markdown",
   "id": "satellite-principle",
   "metadata": {},
   "source": [
    "**Selected columns from feature analysis and selection**"
   ]
  },
  {
   "cell_type": "code",
   "execution_count": 50,
   "id": "combined-professor",
   "metadata": {
    "execution": {
     "iopub.execute_input": "2021-03-17T18:38:27.702294Z",
     "iopub.status.busy": "2021-03-17T18:38:27.702075Z",
     "iopub.status.idle": "2021-03-17T18:38:27.704962Z",
     "shell.execute_reply": "2021-03-17T18:38:27.704515Z",
     "shell.execute_reply.started": "2021-03-17T18:38:27.702270Z"
    }
   },
   "outputs": [],
   "source": [
    "cols_selected = [   'age',\n",
    "                    'previously_insured',\n",
    "                    'vehicle_damage',\n",
    "                    'vintage',\n",
    "                    'annual_premium',\n",
    "                    'region_code_Kfold_Target_Enc',\n",
    "                    'policy_sales_channel_Kfold_Target_Enc'\n",
    "                ]"
   ]
  },
  {
   "cell_type": "code",
   "execution_count": 51,
   "id": "functional-university",
   "metadata": {
    "execution": {
     "iopub.execute_input": "2021-03-17T18:38:27.935684Z",
     "iopub.status.busy": "2021-03-17T18:38:27.935399Z",
     "iopub.status.idle": "2021-03-17T18:38:27.946913Z",
     "shell.execute_reply": "2021-03-17T18:38:27.946351Z",
     "shell.execute_reply.started": "2021-03-17T18:38:27.935651Z"
    }
   },
   "outputs": [],
   "source": [
    "x_train_res = x_train_res[cols_selected]\n",
    "x_test = x_test[cols_selected]"
   ]
  },
  {
   "cell_type": "markdown",
   "id": "bottom-demand",
   "metadata": {},
   "source": [
    "## Disclaimer"
   ]
  },
  {
   "cell_type": "markdown",
   "id": "signal-insulation",
   "metadata": {},
   "source": [
    "Since we're dealing with a imbalanced dataset, we have to be careful with metrics. Using precision in test set, for example, we would expect to see a very low number, once there is a large number of people not interested in **insurance (0)** rather than people **interested (1)**.\n",
    "\n",
    "Remember precision is $ \\frac{TP}{TP+FP}$ \n",
    "\n",
    "On test set, the number of false positives is very large, since there's more examples of zeros than ones. \n",
    "\n",
    "Metrics at k (Learning to rank metrics), such as precision and recall at k, can me influenced by the differences in size and classes of test and validation data too. \n",
    "\n",
    "To solve that, I will evaluate (check for out of sample performance) the models using balanced accuracy score. I'll use recall, precision and learning to rank metrics to select the best model with cross-validated scores, since the validation set is balanced. To adress the business problem, I'll use lift and cumulative gains curve of the selected model. "
   ]
  },
  {
   "cell_type": "markdown",
   "id": "former-degree",
   "metadata": {},
   "source": [
    "## 7.1 Logistic Regression"
   ]
  },
  {
   "cell_type": "code",
   "execution_count": 52,
   "id": "closed-trust",
   "metadata": {
    "execution": {
     "iopub.execute_input": "2021-03-17T18:38:29.036221Z",
     "iopub.status.busy": "2021-03-17T18:38:29.036015Z",
     "iopub.status.idle": "2021-03-17T18:38:30.668119Z",
     "shell.execute_reply": "2021-03-17T18:38:30.667611Z",
     "shell.execute_reply.started": "2021-03-17T18:38:29.036197Z"
    }
   },
   "outputs": [
    {
     "name": "stdout",
     "output_type": "stream",
     "text": [
      "Balanced Accuracy: 0.7909706402729237\n"
     ]
    }
   ],
   "source": [
    "# model definition\n",
    "lr_model = lm.LogisticRegression( random_state = 42 ) \n",
    "\n",
    "# model training\n",
    "lr_model.fit( x_train_res, y_train_res.values.ravel() )\n",
    "\n",
    "# model prediction  \n",
    "yhat_lr = lr_model.predict( x_test )\n",
    "\n",
    "#metrics \n",
    "print('Balanced Accuracy: '   + str(balanced_accuracy_score(y_test,yhat_lr)))"
   ]
  },
  {
   "cell_type": "markdown",
   "id": "forbidden-hindu",
   "metadata": {},
   "source": [
    "## 7.2 K-Nearest Neighbors"
   ]
  },
  {
   "cell_type": "code",
   "execution_count": 53,
   "id": "terminal-insertion",
   "metadata": {
    "execution": {
     "iopub.execute_input": "2021-03-17T18:38:30.669230Z",
     "iopub.status.busy": "2021-03-17T18:38:30.668964Z",
     "iopub.status.idle": "2021-03-17T18:43:11.432570Z",
     "shell.execute_reply": "2021-03-17T18:43:11.432136Z",
     "shell.execute_reply.started": "2021-03-17T18:38:30.669202Z"
    }
   },
   "outputs": [],
   "source": [
    "#find best k\n",
    "Ks = 15\n",
    "\n",
    "mean_rcc = np.zeros((Ks-1))\n",
    "\n",
    "for n in range(9,Ks):\n",
    "    \n",
    "    #Train Model and Predict  \n",
    "    knn_model = nh.KNeighborsClassifier(n_neighbors = n).fit(x_train_res,y_train_res.values.ravel())\n",
    "    yhat = knn_model.predict(x_test)\n",
    "    mean_rcc[n-1] = balanced_accuracy_score(y_test, yhat)"
   ]
  },
  {
   "cell_type": "code",
   "execution_count": 54,
   "id": "exempt-three",
   "metadata": {
    "execution": {
     "iopub.execute_input": "2021-03-17T18:43:11.433462Z",
     "iopub.status.busy": "2021-03-17T18:43:11.433356Z",
     "iopub.status.idle": "2021-03-17T18:43:11.571440Z",
     "shell.execute_reply": "2021-03-17T18:43:11.570916Z",
     "shell.execute_reply.started": "2021-03-17T18:43:11.433447Z"
    }
   },
   "outputs": [
    {
     "data": {
      "image/png": "[encoded data removed]",
      "text/plain": [
       "<Figure size 1440x576 with 1 Axes>"
      ]
     },
     "metadata": {},
     "output_type": "display_data"
    }
   ],
   "source": [
    "plt.plot(range(1,Ks),mean_rcc,'g')\n",
    "plt.legend(('Precision', ), loc = 'center right' )\n",
    "plt.xlabel('Number of Neighbors')\n",
    "plt.tight_layout()\n",
    "plt.show()"
   ]
  },
  {
   "cell_type": "code",
   "execution_count": 55,
   "id": "fallen-kansas",
   "metadata": {
    "execution": {
     "iopub.execute_input": "2021-03-17T18:43:11.572595Z",
     "iopub.status.busy": "2021-03-17T18:43:11.572468Z",
     "iopub.status.idle": "2021-03-17T18:43:53.455967Z",
     "shell.execute_reply": "2021-03-17T18:43:53.455339Z",
     "shell.execute_reply.started": "2021-03-17T18:43:11.572574Z"
    }
   },
   "outputs": [
    {
     "name": "stdout",
     "output_type": "stream",
     "text": [
      "Balanced Accuracy: 0.7344249704511152\n"
     ]
    }
   ],
   "source": [
    "# model definition with k = 10\n",
    "knn_model = nh.KNeighborsClassifier( n_neighbors = 10 )\n",
    "\n",
    "# model training\n",
    "knn_model.fit( x_train_res, y_train_res.values.ravel() )\n",
    "\n",
    "# model prediction  \n",
    "yhat_knn = knn_model.predict( x_test ) \n",
    "\n",
    "#metrics \n",
    "print('Balanced Accuracy: '   + str(balanced_accuracy_score(y_test,yhat_knn)))"
   ]
  },
  {
   "cell_type": "markdown",
   "id": "amino-current",
   "metadata": {},
   "source": [
    "## 7.3 Extra Trees"
   ]
  },
  {
   "cell_type": "code",
   "execution_count": 56,
   "id": "divine-durham",
   "metadata": {
    "execution": {
     "iopub.execute_input": "2021-03-17T18:43:53.456752Z",
     "iopub.status.busy": "2021-03-17T18:43:53.456642Z",
     "iopub.status.idle": "2021-03-17T18:44:00.549555Z",
     "shell.execute_reply": "2021-03-17T18:44:00.549053Z",
     "shell.execute_reply.started": "2021-03-17T18:43:53.456737Z"
    }
   },
   "outputs": [
    {
     "name": "stdout",
     "output_type": "stream",
     "text": [
      "Balanced Accuracy: 0.6369611062808591\n"
     ]
    }
   ],
   "source": [
    "# model definition\n",
    "et = ExtraTreesClassifier( n_jobs=-1, random_state=42 ) \n",
    "\n",
    "# model training\n",
    "et.fit( x_train_res, y_train_res.values.ravel() )\n",
    "\n",
    "# model prediction\n",
    "yhat_et = et.predict(x_test)\n",
    "\n",
    "#metrics \n",
    "print('Balanced Accuracy: '   + str(balanced_accuracy_score(y_test,yhat_et)))"
   ]
  },
  {
   "cell_type": "markdown",
   "id": "eligible-bracket",
   "metadata": {},
   "source": [
    "## 7.4 XGBoost Classifier "
   ]
  },
  {
   "cell_type": "code",
   "execution_count": 57,
   "id": "difficult-depression",
   "metadata": {
    "execution": {
     "iopub.execute_input": "2021-03-17T18:44:00.550508Z",
     "iopub.status.busy": "2021-03-17T18:44:00.550345Z",
     "iopub.status.idle": "2021-03-17T18:44:01.062171Z",
     "shell.execute_reply": "2021-03-17T18:44:01.061735Z",
     "shell.execute_reply.started": "2021-03-17T18:44:00.550485Z"
    }
   },
   "outputs": [
    {
     "name": "stdout",
     "output_type": "stream",
     "text": [
      "Balanced Accuracy: 0.7837283516099562\n"
     ]
    }
   ],
   "source": [
    "# model definition\n",
    "model_xgb = xgb.XGBClassifier(n_estimators = 7, \n",
    "                              eta = 0.01, \n",
    "                              max_depth = 2, \n",
    "                              subsample = 0.7,\n",
    "                              use_label_encoder = False,\n",
    "                              eval_metric = 'aucpr',\n",
    "                              colsample_bytree = 0.9)\n",
    "\n",
    "#model training\n",
    "model_xgb.fit( x_train_res, y_train_res.values.ravel() )\n",
    "\n",
    "# prediction\n",
    "yhat_xgb = model_xgb.predict( x_test )\n",
    "\n",
    "#metrics \n",
    "print('Balanced Accuracy: '   + str(balanced_accuracy_score(y_test,yhat_xgb)))"
   ]
  },
  {
   "cell_type": "markdown",
   "id": "unique-conversion",
   "metadata": {},
   "source": [
    "## 7.5 Gaussian NB Classifier"
   ]
  },
  {
   "cell_type": "code",
   "execution_count": 58,
   "id": "broad-federation",
   "metadata": {
    "execution": {
     "iopub.execute_input": "2021-03-17T18:44:01.063303Z",
     "iopub.status.busy": "2021-03-17T18:44:01.063087Z",
     "iopub.status.idle": "2021-03-17T18:44:01.211760Z",
     "shell.execute_reply": "2021-03-17T18:44:01.211227Z",
     "shell.execute_reply.started": "2021-03-17T18:44:01.063274Z"
    }
   },
   "outputs": [
    {
     "name": "stdout",
     "output_type": "stream",
     "text": [
      "Balanced Accuracy: 0.7839644176993694\n"
     ]
    }
   ],
   "source": [
    "#model definition\n",
    "model_nb = GaussianNB()\n",
    "\n",
    "#train model\n",
    "model_nb.fit( x_train_res, y_train_res.values.ravel() )\n",
    "\n",
    "#prediction\n",
    "yhat_nb = model_nb.predict( x_test )\n",
    "yhat_nb_1 = model_nb.predict_proba( x_test )\n",
    "\n",
    "#metrics \n",
    "print('Balanced Accuracy: '   + str(balanced_accuracy_score(y_test,yhat_nb)))"
   ]
  },
  {
   "cell_type": "markdown",
   "id": "racial-mumbai",
   "metadata": {},
   "source": [
    "## 7.6 Random Forest Classifier"
   ]
  },
  {
   "cell_type": "code",
   "execution_count": 59,
   "id": "combined-possible",
   "metadata": {
    "execution": {
     "iopub.execute_input": "2021-03-17T18:44:01.213090Z",
     "iopub.status.busy": "2021-03-17T18:44:01.212963Z",
     "iopub.status.idle": "2021-03-17T18:44:16.130694Z",
     "shell.execute_reply": "2021-03-17T18:44:16.130045Z",
     "shell.execute_reply.started": "2021-03-17T18:44:01.213069Z"
    }
   },
   "outputs": [
    {
     "name": "stdout",
     "output_type": "stream",
     "text": [
      "Balanced Accuracy: 0.7923391237915034\n"
     ]
    }
   ],
   "source": [
    "#model definition\n",
    "model_rf = RandomForestClassifier(max_depth = 2, random_state = 0)\n",
    "\n",
    "#train model\n",
    "model_rf.fit( x_train_res, y_train_res.values.ravel() )\n",
    "\n",
    "#predict\n",
    "yhat_rf = model_rf.predict( x_test )\n",
    "\n",
    "#metrics \n",
    "print('Balanced Accuracy: '   + str(balanced_accuracy_score(y_test,yhat_rf)))"
   ]
  },
  {
   "cell_type": "markdown",
   "id": "motivated-teens",
   "metadata": {},
   "source": [
    "## 8.0 Real Model Performance: Cross Validation with Learning to Rank metrics"
   ]
  },
  {
   "cell_type": "code",
   "execution_count": 60,
   "id": "laden-harmony",
   "metadata": {
    "execution": {
     "iopub.execute_input": "2021-03-17T18:44:16.131667Z",
     "iopub.status.busy": "2021-03-17T18:44:16.131547Z",
     "iopub.status.idle": "2021-03-17T18:44:16.139211Z",
     "shell.execute_reply": "2021-03-17T18:44:16.137686Z",
     "shell.execute_reply.started": "2021-03-17T18:44:16.131651Z"
    }
   },
   "outputs": [],
   "source": [
    "df4 = df3.copy()"
   ]
  },
  {
   "cell_type": "code",
   "execution_count": 61,
   "id": "ambient-moral",
   "metadata": {
    "execution": {
     "iopub.execute_input": "2021-03-17T18:44:16.140398Z",
     "iopub.status.busy": "2021-03-17T18:44:16.140118Z",
     "iopub.status.idle": "2021-03-17T18:45:57.034751Z",
     "shell.execute_reply": "2021-03-17T18:45:57.034232Z",
     "shell.execute_reply.started": "2021-03-17T18:44:16.140368Z"
    }
   },
   "outputs": [],
   "source": [
    "xgb_val = cross_validation(model_xgb, x_train_res, y_train_res, 5, df4, Verbose = False)\n",
    "lr_val = cross_validation(lr_model, x_train_res, y_train_res, 5, df4, Verbose = False)\n",
    "et_val = cross_validation(et, x_train_res, y_train_res, 5, df4, Verbose = False)\n",
    "nb_val = cross_validation(model_nb, x_train_res, y_train_res, 5, df4, Verbose = False)\n",
    "rf_val = cross_validation(model_rf, x_train_res, y_train_res, 5, df4, Verbose = False)"
   ]
  },
  {
   "cell_type": "code",
   "execution_count": 62,
   "id": "greenhouse-animation",
   "metadata": {
    "execution": {
     "iopub.execute_input": "2021-03-17T18:45:57.035504Z",
     "iopub.status.busy": "2021-03-17T18:45:57.035393Z",
     "iopub.status.idle": "2021-03-17T18:45:57.047594Z",
     "shell.execute_reply": "2021-03-17T18:45:57.047123Z",
     "shell.execute_reply.started": "2021-03-17T18:45:57.035489Z"
    }
   },
   "outputs": [
    {
     "data": {
      "text/html": [
       "<div>\n",
       "<style scoped>\n",
       "    .dataframe tbody tr th:only-of-type {\n",
       "        vertical-align: middle;\n",
       "    }\n",
       "\n",
       "    .dataframe tbody tr th {\n",
       "        vertical-align: top;\n",
       "    }\n",
       "\n",
       "    .dataframe thead th {\n",
       "        text-align: right;\n",
       "    }\n",
       "</style>\n",
       "<table border=\"1\" class=\"dataframe\">\n",
       "  <thead>\n",
       "    <tr style=\"text-align: right;\">\n",
       "      <th></th>\n",
       "      <th>Model Name</th>\n",
       "      <th>Accuracy Mean</th>\n",
       "      <th>Precision Mean</th>\n",
       "      <th>Precision STD</th>\n",
       "      <th>Recall Mean</th>\n",
       "      <th>Recall STD</th>\n",
       "      <th>Precision@K Mean</th>\n",
       "      <th>Precision@K STD</th>\n",
       "      <th>Recall@K Mean</th>\n",
       "      <th>Recall@K STD</th>\n",
       "    </tr>\n",
       "  </thead>\n",
       "  <tbody>\n",
       "    <tr>\n",
       "      <th>0</th>\n",
       "      <td>GaussianNB</td>\n",
       "      <td>0.7895</td>\n",
       "      <td>0.7101</td>\n",
       "      <td>0.0013</td>\n",
       "      <td>0.9785</td>\n",
       "      <td>0.0006</td>\n",
       "      <td>0.7829</td>\n",
       "      <td>0.0030</td>\n",
       "      <td>0.2982</td>\n",
       "      <td>0.0011</td>\n",
       "    </tr>\n",
       "    <tr>\n",
       "      <th>0</th>\n",
       "      <td>ExtraTreesClassifier</td>\n",
       "      <td>0.9150</td>\n",
       "      <td>0.8864</td>\n",
       "      <td>0.0013</td>\n",
       "      <td>0.9520</td>\n",
       "      <td>0.0010</td>\n",
       "      <td>0.9986</td>\n",
       "      <td>0.0002</td>\n",
       "      <td>0.3803</td>\n",
       "      <td>0.0001</td>\n",
       "    </tr>\n",
       "    <tr>\n",
       "      <th>0</th>\n",
       "      <td>RandomForestClassifier</td>\n",
       "      <td>0.8013</td>\n",
       "      <td>0.7375</td>\n",
       "      <td>0.0018</td>\n",
       "      <td>0.9358</td>\n",
       "      <td>0.0054</td>\n",
       "      <td>0.8528</td>\n",
       "      <td>0.0055</td>\n",
       "      <td>0.3248</td>\n",
       "      <td>0.0021</td>\n",
       "    </tr>\n",
       "    <tr>\n",
       "      <th>0</th>\n",
       "      <td>LogisticRegression</td>\n",
       "      <td>0.7968</td>\n",
       "      <td>0.7331</td>\n",
       "      <td>0.0015</td>\n",
       "      <td>0.9334</td>\n",
       "      <td>0.0015</td>\n",
       "      <td>0.7880</td>\n",
       "      <td>0.0040</td>\n",
       "      <td>0.3001</td>\n",
       "      <td>0.0015</td>\n",
       "    </tr>\n",
       "    <tr>\n",
       "      <th>0</th>\n",
       "      <td>XGBClassifier</td>\n",
       "      <td>0.7869</td>\n",
       "      <td>0.7430</td>\n",
       "      <td>0.0031</td>\n",
       "      <td>0.8774</td>\n",
       "      <td>0.0049</td>\n",
       "      <td>0.7966</td>\n",
       "      <td>0.0343</td>\n",
       "      <td>0.3034</td>\n",
       "      <td>0.0131</td>\n",
       "    </tr>\n",
       "  </tbody>\n",
       "</table>\n",
       "</div>"
      ],
      "text/plain": [
       "               Model Name  Accuracy Mean  Precision Mean  Precision STD  Recall Mean  Recall STD  Precision@K Mean  Precision@K STD  Recall@K Mean  Recall@K STD\n",
       "0              GaussianNB         0.7895          0.7101         0.0013       0.9785      0.0006            0.7829           0.0030         0.2982        0.0011\n",
       "0    ExtraTreesClassifier         0.9150          0.8864         0.0013       0.9520      0.0010            0.9986           0.0002         0.3803        0.0001\n",
       "0  RandomForestClassifier         0.8013          0.7375         0.0018       0.9358      0.0054            0.8528           0.0055         0.3248        0.0021\n",
       "0      LogisticRegression         0.7968          0.7331         0.0015       0.9334      0.0015            0.7880           0.0040         0.3001        0.0015\n",
       "0           XGBClassifier         0.7869          0.7430         0.0031       0.8774      0.0049            0.7966           0.0343         0.3034        0.0131"
      ]
     },
     "execution_count": 62,
     "metadata": {},
     "output_type": "execute_result"
    }
   ],
   "source": [
    "results = pd.concat([xgb_val,lr_val,et_val,nb_val,rf_val])\n",
    "results.sort_values(by = 'Recall Mean', ascending = False)"
   ]
  },
  {
   "cell_type": "markdown",
   "id": "satisfied-dictionary",
   "metadata": {},
   "source": [
    "# 9.0 Hyperparameter Fine Tuning"
   ]
  },
  {
   "cell_type": "markdown",
   "id": "incorporate-rough",
   "metadata": {},
   "source": [
    "We will proceed with both Gaussian Naive Bayes and ExtraTrees Classifier, using Optuna framework to tune them"
   ]
  },
  {
   "cell_type": "markdown",
   "id": "first-turning",
   "metadata": {},
   "source": [
    "## 9.1 Extra Trees Classifier"
   ]
  },
  {
   "cell_type": "code",
   "execution_count": 63,
   "id": "ordered-harbor",
   "metadata": {
    "execution": {
     "iopub.execute_input": "2021-03-17T18:50:20.668735Z",
     "iopub.status.busy": "2021-03-17T18:50:20.668553Z",
     "iopub.status.idle": "2021-03-17T18:50:20.671593Z",
     "shell.execute_reply": "2021-03-17T18:50:20.671010Z",
     "shell.execute_reply.started": "2021-03-17T18:50:20.668712Z"
    },
    "tags": [
     "outputPrepend"
    ]
   },
   "outputs": [],
   "source": [
    "def objective(trial):\n",
    "\n",
    "       random_state = 42\n",
    "        n_jobs = -1\n",
    "        max_depth = trial.suggest_int(\"max_depth\", 80, 120)\n",
    "        n_estimators = trial.suggest_int(\"n_estimators\", 80, 120)\n",
    "        min_samples_split = trial.suggest_int(\"min_samples_split\", 2, 5)\n",
    "        min_samples_leaf = trial.suggest_int(\"min_samples_leaf\", 1, 5)\n",
    "    \n",
    "\n",
    "        classifier_obj = ExtraTreesClassifier(random_state       = random_state,\n",
    "                                              n_jobs             = n_jobs,\n",
    "                                              max_depth          =  max_depth,\n",
    "                                              n_estimators       = n_estimators,\n",
    "                                              min_samples_split  = min_samples_split,\n",
    "                                              min_samples_leaf   = min_samples_leaf\n",
    "                                              \n",
    "                                             )\n",
    "\n",
    "  \n",
    "        result = cross_validation(classifier_obj, x_train_res, y_train_res, 5, df4, Verbose = False)\n",
    "    \n",
    "        return result['Recall Mean'][0]\n",
    "\n",
    "\n",
    "study = optuna.create_study(direction='maximize')\n",
    "study.optimize(objective, n_trials = 100)\n",
    "\n",
    "trial = study.best_trial\n",
    "\n",
    "print('Recall: {}'.format(trial.value))\n",
    "print(\"Best hyperparameters: {}\".format(trial.params))"
   ]
  },
  {
   "cell_type": "markdown",
   "id": "internal-irrigation",
   "metadata": {},
   "source": [
    "## 9.2 Gaussian Naive Bayes "
   ]
  },
  {
   "cell_type": "code",
   "execution_count": 135,
   "id": "frequent-change",
   "metadata": {
    "execution": {
     "iopub.execute_input": "2021-03-17T18:02:28.755580Z",
     "iopub.status.busy": "2021-03-17T18:02:28.755307Z",
     "iopub.status.idle": "2021-03-17T18:03:56.295552Z",
     "shell.execute_reply": "2021-03-17T18:03:56.295245Z",
     "shell.execute_reply.started": "2021-03-17T18:02:28.755548Z"
    },
    "tags": []
   },
   "outputs": [
    {
     "name": "stderr",
     "output_type": "stream",
     "text": [
      "\u001b[32m[I 2021-03-17 15:02:28,759]\u001b[0m A new study created in memory with name: no-name-d1c110e6-e724-4815-89ff-a177c25bddbe\u001b[0m\n",
      "\u001b[32m[I 2021-03-17 15:02:29,647]\u001b[0m Trial 0 finished with value: 0.9789 and parameters: {'var_smoothing': 7.623331832466821e-06}. Best is trial 0 with value: 0.9789.\u001b[0m\n",
      "\u001b[32m[I 2021-03-17 15:02:30,542]\u001b[0m Trial 1 finished with value: 0.9789 and parameters: {'var_smoothing': 1.4319058623079976e-07}. Best is trial 0 with value: 0.9789.\u001b[0m\n",
      "\u001b[32m[I 2021-03-17 15:02:31,420]\u001b[0m Trial 2 finished with value: 0.979 and parameters: {'var_smoothing': 0.11506215091761057}. Best is trial 2 with value: 0.979.\u001b[0m\n",
      "\u001b[32m[I 2021-03-17 15:02:32,282]\u001b[0m Trial 3 finished with value: 0.9793 and parameters: {'var_smoothing': 0.3642393900791821}. Best is trial 3 with value: 0.9793.\u001b[0m\n",
      "\u001b[32m[I 2021-03-17 15:02:33,141]\u001b[0m Trial 4 finished with value: 0.9789 and parameters: {'var_smoothing': 2.5664956878698938e-08}. Best is trial 3 with value: 0.9793.\u001b[0m\n",
      "\u001b[32m[I 2021-03-17 15:02:34,004]\u001b[0m Trial 5 finished with value: 0.9793 and parameters: {'var_smoothing': 0.4051046415151246}. Best is trial 3 with value: 0.9793.\u001b[0m\n",
      "\u001b[32m[I 2021-03-17 15:02:34,868]\u001b[0m Trial 6 finished with value: 0.9789 and parameters: {'var_smoothing': 5.108959255003024e-09}. Best is trial 3 with value: 0.9793.\u001b[0m\n",
      "\u001b[32m[I 2021-03-17 15:02:35,726]\u001b[0m Trial 7 finished with value: 0.9793 and parameters: {'var_smoothing': 0.7466493812157146}. Best is trial 3 with value: 0.9793.\u001b[0m\n",
      "\u001b[32m[I 2021-03-17 15:02:36,591]\u001b[0m Trial 8 finished with value: 0.9789 and parameters: {'var_smoothing': 0.000498737473808574}. Best is trial 3 with value: 0.9793.\u001b[0m\n",
      "\u001b[32m[I 2021-03-17 15:02:37,462]\u001b[0m Trial 9 finished with value: 0.9789 and parameters: {'var_smoothing': 4.1599152088895485e-07}. Best is trial 3 with value: 0.9793.\u001b[0m\n",
      "\u001b[32m[I 2021-03-17 15:02:38,326]\u001b[0m Trial 10 finished with value: 0.9789 and parameters: {'var_smoothing': 0.005437176048114753}. Best is trial 3 with value: 0.9793.\u001b[0m\n",
      "\u001b[32m[I 2021-03-17 15:02:39,189]\u001b[0m Trial 11 finished with value: 0.9789 and parameters: {'var_smoothing': 0.0391231929551501}. Best is trial 3 with value: 0.9793.\u001b[0m\n",
      "\u001b[32m[I 2021-03-17 15:02:40,055]\u001b[0m Trial 12 finished with value: 0.9794 and parameters: {'var_smoothing': 0.8543997666089961}. Best is trial 12 with value: 0.9794.\u001b[0m\n",
      "\u001b[32m[I 2021-03-17 15:02:40,927]\u001b[0m Trial 13 finished with value: 0.9789 and parameters: {'var_smoothing': 0.002266775260128557}. Best is trial 12 with value: 0.9794.\u001b[0m\n",
      "\u001b[32m[I 2021-03-17 15:02:41,820]\u001b[0m Trial 14 finished with value: 0.9789 and parameters: {'var_smoothing': 3.983888492659973e-05}. Best is trial 12 with value: 0.9794.\u001b[0m\n",
      "\u001b[32m[I 2021-03-17 15:02:42,696]\u001b[0m Trial 15 finished with value: 0.9789 and parameters: {'var_smoothing': 0.02161775341860578}. Best is trial 12 with value: 0.9794.\u001b[0m\n",
      "\u001b[32m[I 2021-03-17 15:02:43,593]\u001b[0m Trial 16 finished with value: 0.9793 and parameters: {'var_smoothing': 0.7052559547745005}. Best is trial 12 with value: 0.9794.\u001b[0m\n",
      "\u001b[32m[I 2021-03-17 15:02:44,490]\u001b[0m Trial 17 finished with value: 0.9789 and parameters: {'var_smoothing': 0.0002657862089898136}. Best is trial 12 with value: 0.9794.\u001b[0m\n",
      "\u001b[32m[I 2021-03-17 15:02:45,442]\u001b[0m Trial 18 finished with value: 0.9793 and parameters: {'var_smoothing': 0.7976678500777472}. Best is trial 12 with value: 0.9794.\u001b[0m\n",
      "\u001b[32m[I 2021-03-17 15:02:46,332]\u001b[0m Trial 19 finished with value: 0.9789 and parameters: {'var_smoothing': 0.019088213941324914}. Best is trial 12 with value: 0.9794.\u001b[0m\n",
      "\u001b[32m[I 2021-03-17 15:02:47,218]\u001b[0m Trial 20 finished with value: 0.9789 and parameters: {'var_smoothing': 7.402682149467914e-06}. Best is trial 12 with value: 0.9794.\u001b[0m\n",
      "\u001b[32m[I 2021-03-17 15:02:48,102]\u001b[0m Trial 21 finished with value: 0.9793 and parameters: {'var_smoothing': 0.8446010240806553}. Best is trial 12 with value: 0.9794.\u001b[0m\n",
      "\u001b[32m[I 2021-03-17 15:02:48,989]\u001b[0m Trial 22 finished with value: 0.979 and parameters: {'var_smoothing': 0.12455696155859718}. Best is trial 12 with value: 0.9794.\u001b[0m\n",
      "\u001b[32m[I 2021-03-17 15:02:49,855]\u001b[0m Trial 23 finished with value: 0.979 and parameters: {'var_smoothing': 0.12733746030927434}. Best is trial 12 with value: 0.9794.\u001b[0m\n",
      "\u001b[32m[I 2021-03-17 15:02:50,723]\u001b[0m Trial 24 finished with value: 0.9789 and parameters: {'var_smoothing': 0.003685287684550378}. Best is trial 12 with value: 0.9794.\u001b[0m\n",
      "\u001b[32m[I 2021-03-17 15:02:51,584]\u001b[0m Trial 25 finished with value: 0.9794 and parameters: {'var_smoothing': 0.9812495386615862}. Best is trial 12 with value: 0.9794.\u001b[0m\n",
      "\u001b[32m[I 2021-03-17 15:02:52,447]\u001b[0m Trial 26 finished with value: 0.9791 and parameters: {'var_smoothing': 0.14077507416991633}. Best is trial 12 with value: 0.9794.\u001b[0m\n",
      "\u001b[32m[I 2021-03-17 15:02:53,313]\u001b[0m Trial 27 finished with value: 0.9789 and parameters: {'var_smoothing': 0.023527402545311195}. Best is trial 12 with value: 0.9794.\u001b[0m\n",
      "\u001b[32m[I 2021-03-17 15:02:54,202]\u001b[0m Trial 28 finished with value: 0.9793 and parameters: {'var_smoothing': 0.7065278266982454}. Best is trial 12 with value: 0.9794.\u001b[0m\n",
      "\u001b[32m[I 2021-03-17 15:02:55,110]\u001b[0m Trial 29 finished with value: 0.9789 and parameters: {'var_smoothing': 0.000535843302652542}. Best is trial 12 with value: 0.9794.\u001b[0m\n",
      "\u001b[32m[I 2021-03-17 15:02:56,018]\u001b[0m Trial 30 finished with value: 0.9789 and parameters: {'var_smoothing': 6.92468413161392e-06}. Best is trial 12 with value: 0.9794.\u001b[0m\n",
      "\u001b[32m[I 2021-03-17 15:02:56,897]\u001b[0m Trial 31 finished with value: 0.9793 and parameters: {'var_smoothing': 0.7800237360866971}. Best is trial 12 with value: 0.9794.\u001b[0m\n",
      "\u001b[32m[I 2021-03-17 15:02:57,775]\u001b[0m Trial 32 finished with value: 0.9794 and parameters: {'var_smoothing': 0.8584656101477561}. Best is trial 12 with value: 0.9794.\u001b[0m\n",
      "\u001b[32m[I 2021-03-17 15:02:58,661]\u001b[0m Trial 33 finished with value: 0.979 and parameters: {'var_smoothing': 0.06580723762303525}. Best is trial 12 with value: 0.9794.\u001b[0m\n",
      "\u001b[32m[I 2021-03-17 15:02:59,550]\u001b[0m Trial 34 finished with value: 0.9792 and parameters: {'var_smoothing': 0.2592106337131531}. Best is trial 12 with value: 0.9794.\u001b[0m\n",
      "\u001b[32m[I 2021-03-17 15:03:00,416]\u001b[0m Trial 35 finished with value: 0.9789 and parameters: {'var_smoothing': 0.007711303736870595}. Best is trial 12 with value: 0.9794.\u001b[0m\n",
      "\u001b[32m[I 2021-03-17 15:03:01,277]\u001b[0m Trial 36 finished with value: 0.9792 and parameters: {'var_smoothing': 0.30699716790455017}. Best is trial 12 with value: 0.9794.\u001b[0m\n",
      "\u001b[32m[I 2021-03-17 15:03:02,145]\u001b[0m Trial 37 finished with value: 0.979 and parameters: {'var_smoothing': 0.0768145768767596}. Best is trial 12 with value: 0.9794.\u001b[0m\n",
      "\u001b[32m[I 2021-03-17 15:03:03,009]\u001b[0m Trial 38 finished with value: 0.9794 and parameters: {'var_smoothing': 0.8838397445870074}. Best is trial 12 with value: 0.9794.\u001b[0m\n",
      "\u001b[32m[I 2021-03-17 15:03:03,867]\u001b[0m Trial 39 finished with value: 0.9792 and parameters: {'var_smoothing': 0.24808085941495997}. Best is trial 12 with value: 0.9794.\u001b[0m\n",
      "\u001b[32m[I 2021-03-17 15:03:04,727]\u001b[0m Trial 40 finished with value: 0.9789 and parameters: {'var_smoothing': 0.012103176548397085}. Best is trial 12 with value: 0.9794.\u001b[0m\n",
      "\u001b[32m[I 2021-03-17 15:03:05,588]\u001b[0m Trial 41 finished with value: 0.9794 and parameters: {'var_smoothing': 0.9824034713902366}. Best is trial 12 with value: 0.9794.\u001b[0m\n",
      "\u001b[32m[I 2021-03-17 15:03:06,443]\u001b[0m Trial 42 finished with value: 0.9794 and parameters: {'var_smoothing': 0.9171416625014873}. Best is trial 12 with value: 0.9794.\u001b[0m\n",
      "\u001b[32m[I 2021-03-17 15:03:07,297]\u001b[0m Trial 43 finished with value: 0.979 and parameters: {'var_smoothing': 0.0576048419671076}. Best is trial 12 with value: 0.9794.\u001b[0m\n",
      "\u001b[32m[I 2021-03-17 15:03:08,154]\u001b[0m Trial 44 finished with value: 0.9792 and parameters: {'var_smoothing': 0.31333922001317904}. Best is trial 12 with value: 0.9794.\u001b[0m\n",
      "\u001b[32m[I 2021-03-17 15:03:09,010]\u001b[0m Trial 45 finished with value: 0.9789 and parameters: {'var_smoothing': 1.0436902700034728e-09}. Best is trial 12 with value: 0.9794.\u001b[0m\n",
      "\u001b[32m[I 2021-03-17 15:03:09,871]\u001b[0m Trial 46 finished with value: 0.9789 and parameters: {'var_smoothing': 9.72598378984528e-08}. Best is trial 12 with value: 0.9794.\u001b[0m\n",
      "\u001b[32m[I 2021-03-17 15:03:10,733]\u001b[0m Trial 47 finished with value: 0.9789 and parameters: {'var_smoothing': 0.001308107412351349}. Best is trial 12 with value: 0.9794.\u001b[0m\n",
      "\u001b[32m[I 2021-03-17 15:03:11,598]\u001b[0m Trial 48 finished with value: 0.9792 and parameters: {'var_smoothing': 0.3145957354272084}. Best is trial 12 with value: 0.9794.\u001b[0m\n",
      "\u001b[32m[I 2021-03-17 15:03:12,471]\u001b[0m Trial 49 finished with value: 0.9789 and parameters: {'var_smoothing': 0.039782703964152934}. Best is trial 12 with value: 0.9794.\u001b[0m\n",
      "\u001b[32m[I 2021-03-17 15:03:13,339]\u001b[0m Trial 50 finished with value: 0.9789 and parameters: {'var_smoothing': 1.171738098367369e-06}. Best is trial 12 with value: 0.9794.\u001b[0m\n",
      "\u001b[32m[I 2021-03-17 15:03:14,206]\u001b[0m Trial 51 finished with value: 0.9794 and parameters: {'var_smoothing': 0.8955677684742922}. Best is trial 12 with value: 0.9794.\u001b[0m\n",
      "\u001b[32m[I 2021-03-17 15:03:15,078]\u001b[0m Trial 52 finished with value: 0.9794 and parameters: {'var_smoothing': 0.8977110514285548}. Best is trial 12 with value: 0.9794.\u001b[0m\n",
      "\u001b[32m[I 2021-03-17 15:03:15,979]\u001b[0m Trial 53 finished with value: 0.9791 and parameters: {'var_smoothing': 0.16203326591138903}. Best is trial 12 with value: 0.9794.\u001b[0m\n",
      "\u001b[32m[I 2021-03-17 15:03:16,901]\u001b[0m Trial 54 finished with value: 0.9794 and parameters: {'var_smoothing': 0.9262944414044093}. Best is trial 12 with value: 0.9794.\u001b[0m\n",
      "\u001b[32m[I 2021-03-17 15:03:17,783]\u001b[0m Trial 55 finished with value: 0.9793 and parameters: {'var_smoothing': 0.4184040818809751}. Best is trial 12 with value: 0.9794.\u001b[0m\n",
      "\u001b[32m[I 2021-03-17 15:03:18,687]\u001b[0m Trial 56 finished with value: 0.9793 and parameters: {'var_smoothing': 0.4597900292196977}. Best is trial 12 with value: 0.9794.\u001b[0m\n",
      "\u001b[32m[I 2021-03-17 15:03:19,601]\u001b[0m Trial 57 finished with value: 0.979 and parameters: {'var_smoothing': 0.10175747832980564}. Best is trial 12 with value: 0.9794.\u001b[0m\n",
      "\u001b[32m[I 2021-03-17 15:03:20,513]\u001b[0m Trial 58 finished with value: 0.9794 and parameters: {'var_smoothing': 0.8684961874479283}. Best is trial 12 with value: 0.9794.\u001b[0m\n",
      "\u001b[32m[I 2021-03-17 15:03:21,418]\u001b[0m Trial 59 finished with value: 0.9791 and parameters: {'var_smoothing': 0.18618218337086084}. Best is trial 12 with value: 0.9794.\u001b[0m\n",
      "\u001b[32m[I 2021-03-17 15:03:22,315]\u001b[0m Trial 60 finished with value: 0.9789 and parameters: {'var_smoothing': 0.023846187741036508}. Best is trial 12 with value: 0.9794.\u001b[0m\n",
      "\u001b[32m[I 2021-03-17 15:03:23,194]\u001b[0m Trial 61 finished with value: 0.9794 and parameters: {'var_smoothing': 0.9908623105237928}. Best is trial 12 with value: 0.9794.\u001b[0m\n",
      "\u001b[32m[I 2021-03-17 15:03:24,064]\u001b[0m Trial 62 finished with value: 0.9794 and parameters: {'var_smoothing': 0.9875296784343054}. Best is trial 12 with value: 0.9794.\u001b[0m\n",
      "\u001b[32m[I 2021-03-17 15:03:24,940]\u001b[0m Trial 63 finished with value: 0.9793 and parameters: {'var_smoothing': 0.4395014682611801}. Best is trial 12 with value: 0.9794.\u001b[0m\n",
      "\u001b[32m[I 2021-03-17 15:03:25,837]\u001b[0m Trial 64 finished with value: 0.9789 and parameters: {'var_smoothing': 8.99487626861409e-05}. Best is trial 12 with value: 0.9794.\u001b[0m\n",
      "\u001b[32m[I 2021-03-17 15:03:26,712]\u001b[0m Trial 65 finished with value: 0.9793 and parameters: {'var_smoothing': 0.4852785205712766}. Best is trial 12 with value: 0.9794.\u001b[0m\n",
      "\u001b[32m[I 2021-03-17 15:03:27,583]\u001b[0m Trial 66 finished with value: 0.979 and parameters: {'var_smoothing': 0.045420262071381445}. Best is trial 12 with value: 0.9794.\u001b[0m\n",
      "\u001b[32m[I 2021-03-17 15:03:28,482]\u001b[0m Trial 67 finished with value: 0.9791 and parameters: {'var_smoothing': 0.15701542154374118}. Best is trial 12 with value: 0.9794.\u001b[0m\n",
      "\u001b[32m[I 2021-03-17 15:03:29,359]\u001b[0m Trial 68 finished with value: 0.9793 and parameters: {'var_smoothing': 0.5939474780379915}. Best is trial 12 with value: 0.9794.\u001b[0m\n",
      "\u001b[32m[I 2021-03-17 15:03:30,256]\u001b[0m Trial 69 finished with value: 0.9794 and parameters: {'var_smoothing': 0.9923681816879916}. Best is trial 12 with value: 0.9794.\u001b[0m\n",
      "\u001b[32m[I 2021-03-17 15:03:31,131]\u001b[0m Trial 70 finished with value: 0.979 and parameters: {'var_smoothing': 0.09372606638145779}. Best is trial 12 with value: 0.9794.\u001b[0m\n",
      "\u001b[32m[I 2021-03-17 15:03:31,998]\u001b[0m Trial 71 finished with value: 0.9791 and parameters: {'var_smoothing': 0.21997500025305142}. Best is trial 12 with value: 0.9794.\u001b[0m\n",
      "\u001b[32m[I 2021-03-17 15:03:32,859]\u001b[0m Trial 72 finished with value: 0.9794 and parameters: {'var_smoothing': 0.9253424058459085}. Best is trial 12 with value: 0.9794.\u001b[0m\n",
      "\u001b[32m[I 2021-03-17 15:03:33,743]\u001b[0m Trial 73 finished with value: 0.9793 and parameters: {'var_smoothing': 0.4969409684226693}. Best is trial 12 with value: 0.9794.\u001b[0m\n",
      "\u001b[32m[I 2021-03-17 15:03:34,613]\u001b[0m Trial 74 finished with value: 0.9794 and parameters: {'var_smoothing': 0.9761542411702093}. Best is trial 12 with value: 0.9794.\u001b[0m\n",
      "\u001b[32m[I 2021-03-17 15:03:35,485]\u001b[0m Trial 75 finished with value: 0.9791 and parameters: {'var_smoothing': 0.2031425962447391}. Best is trial 12 with value: 0.9794.\u001b[0m\n",
      "\u001b[32m[I 2021-03-17 15:03:36,350]\u001b[0m Trial 76 finished with value: 0.979 and parameters: {'var_smoothing': 0.095414584108321}. Best is trial 12 with value: 0.9794.\u001b[0m\n",
      "\u001b[32m[I 2021-03-17 15:03:37,218]\u001b[0m Trial 77 finished with value: 0.9793 and parameters: {'var_smoothing': 0.4368858580025839}. Best is trial 12 with value: 0.9794.\u001b[0m\n",
      "\u001b[32m[I 2021-03-17 15:03:38,084]\u001b[0m Trial 78 finished with value: 0.9792 and parameters: {'var_smoothing': 0.27158237348273484}. Best is trial 12 with value: 0.9794.\u001b[0m\n",
      "\u001b[32m[I 2021-03-17 15:03:38,952]\u001b[0m Trial 79 finished with value: 0.9794 and parameters: {'var_smoothing': 0.8796610970442069}. Best is trial 12 with value: 0.9794.\u001b[0m\n",
      "\u001b[32m[I 2021-03-17 15:03:39,821]\u001b[0m Trial 80 finished with value: 0.9789 and parameters: {'var_smoothing': 6.584696112385455e-09}. Best is trial 12 with value: 0.9794.\u001b[0m\n",
      "\u001b[32m[I 2021-03-17 15:03:40,690]\u001b[0m Trial 81 finished with value: 0.9793 and parameters: {'var_smoothing': 0.6427062409070522}. Best is trial 12 with value: 0.9794.\u001b[0m\n",
      "\u001b[32m[I 2021-03-17 15:03:41,571]\u001b[0m Trial 82 finished with value: 0.9794 and parameters: {'var_smoothing': 0.9389321323766286}. Best is trial 12 with value: 0.9794.\u001b[0m\n",
      "\u001b[32m[I 2021-03-17 15:03:42,434]\u001b[0m Trial 83 finished with value: 0.9793 and parameters: {'var_smoothing': 0.8485780985325868}. Best is trial 12 with value: 0.9794.\u001b[0m\n",
      "\u001b[32m[I 2021-03-17 15:03:43,296]\u001b[0m Trial 84 finished with value: 0.9792 and parameters: {'var_smoothing': 0.32922224266744393}. Best is trial 12 with value: 0.9794.\u001b[0m\n",
      "\u001b[32m[I 2021-03-17 15:03:44,163]\u001b[0m Trial 85 finished with value: 0.9791 and parameters: {'var_smoothing': 0.14626334814980776}. Best is trial 12 with value: 0.9794.\u001b[0m\n",
      "\u001b[32m[I 2021-03-17 15:03:45,026]\u001b[0m Trial 86 finished with value: 0.979 and parameters: {'var_smoothing': 0.05938423255486983}. Best is trial 12 with value: 0.9794.\u001b[0m\n",
      "\u001b[32m[I 2021-03-17 15:03:45,894]\u001b[0m Trial 87 finished with value: 0.9794 and parameters: {'var_smoothing': 0.9906824932422138}. Best is trial 12 with value: 0.9794.\u001b[0m\n",
      "\u001b[32m[I 2021-03-17 15:03:46,757]\u001b[0m Trial 88 finished with value: 0.9793 and parameters: {'var_smoothing': 0.5331489996581424}. Best is trial 12 with value: 0.9794.\u001b[0m\n",
      "\u001b[32m[I 2021-03-17 15:03:47,619]\u001b[0m Trial 89 finished with value: 0.9789 and parameters: {'var_smoothing': 0.028015169421181832}. Best is trial 12 with value: 0.9794.\u001b[0m\n",
      "\u001b[32m[I 2021-03-17 15:03:48,481]\u001b[0m Trial 90 finished with value: 0.9789 and parameters: {'var_smoothing': 0.012402527261657598}. Best is trial 12 with value: 0.9794.\u001b[0m\n",
      "\u001b[32m[I 2021-03-17 15:03:49,343]\u001b[0m Trial 91 finished with value: 0.9792 and parameters: {'var_smoothing': 0.2749121537711214}. Best is trial 12 with value: 0.9794.\u001b[0m\n",
      "\u001b[32m[I 2021-03-17 15:03:50,206]\u001b[0m Trial 92 finished with value: 0.9793 and parameters: {'var_smoothing': 0.5521912374267858}. Best is trial 12 with value: 0.9794.\u001b[0m\n",
      "\u001b[32m[I 2021-03-17 15:03:51,070]\u001b[0m Trial 93 finished with value: 0.9794 and parameters: {'var_smoothing': 0.9762394905521251}. Best is trial 12 with value: 0.9794.\u001b[0m\n",
      "\u001b[32m[I 2021-03-17 15:03:51,934]\u001b[0m Trial 94 finished with value: 0.9792 and parameters: {'var_smoothing': 0.3284481968222901}. Best is trial 12 with value: 0.9794.\u001b[0m\n",
      "\u001b[32m[I 2021-03-17 15:03:52,795]\u001b[0m Trial 95 finished with value: 0.9791 and parameters: {'var_smoothing': 0.18526746829332214}. Best is trial 12 with value: 0.9794.\u001b[0m\n",
      "\u001b[32m[I 2021-03-17 15:03:53,665]\u001b[0m Trial 96 finished with value: 0.9793 and parameters: {'var_smoothing': 0.5961715257478774}. Best is trial 12 with value: 0.9794.\u001b[0m\n",
      "\u001b[32m[I 2021-03-17 15:03:54,537]\u001b[0m Trial 97 finished with value: 0.9794 and parameters: {'var_smoothing': 0.9881862055357478}. Best is trial 12 with value: 0.9794.\u001b[0m\n",
      "\u001b[32m[I 2021-03-17 15:03:55,423]\u001b[0m Trial 98 finished with value: 0.979 and parameters: {'var_smoothing': 0.10640494986141555}. Best is trial 12 with value: 0.9794.\u001b[0m\n",
      "\u001b[32m[I 2021-03-17 15:03:56,293]\u001b[0m Trial 99 finished with value: 0.9793 and parameters: {'var_smoothing': 0.6838177972623152}. Best is trial 12 with value: 0.9794.\u001b[0m\n"
     ]
    },
    {
     "name": "stdout",
     "output_type": "stream",
     "text": [
      "Precision: 0.9794\n",
      "Best hyperparameters: {'var_smoothing': 0.8543997666089961}\n"
     ]
    }
   ],
   "source": [
    "def objective(trial):\n",
    "\n",
    "        \n",
    "       \n",
    "        var_smoothing = trial.suggest_float('var_smoothing',1e-9, 1, log = True )\n",
    "        \n",
    "\n",
    "        classifier_obj = GaussianNB( var_smoothing = var_smoothing )\n",
    "        \n",
    "\n",
    "        result = cross_validation(classifier_obj, x_train_res, y_train_res, 5, df4, Verbose = False)\n",
    "        \n",
    "        return result['Recall Mean'][0]\n",
    "\n",
    "\n",
    "study = optuna.create_study(direction='maximize')\n",
    "study.optimize(objective, n_trials = 100)\n",
    "\n",
    "trial = study.best_trial\n",
    "\n",
    "print('Recall: {}'.format(trial.value))\n",
    "print(\"Best hyperparameters: {}\".format(trial.params))"
   ]
  },
  {
   "cell_type": "markdown",
   "id": "catholic-breed",
   "metadata": {},
   "source": [
    "# 10.0 Final Model"
   ]
  },
  {
   "cell_type": "markdown",
   "id": "three-disposition",
   "metadata": {},
   "source": [
    "## 10.1 Gaussian Naive Bayes"
   ]
  },
  {
   "cell_type": "code",
   "execution_count": 159,
   "id": "freelance-place",
   "metadata": {
    "execution": {
     "iopub.execute_input": "2021-03-17T18:23:47.895851Z",
     "iopub.status.busy": "2021-03-17T18:23:47.895600Z",
     "iopub.status.idle": "2021-03-17T18:23:47.984851Z",
     "shell.execute_reply": "2021-03-17T18:23:47.984395Z",
     "shell.execute_reply.started": "2021-03-17T18:23:47.895823Z"
    }
   },
   "outputs": [],
   "source": [
    "#definition\n",
    "model_nb = GaussianNB() \n",
    "#training\n",
    "model_nb.fit( x_train_res, y_train_res.values.ravel() )\n",
    "\n",
    "# model prediction\n",
    "yhat_nb = model_nb.predict_proba(x_test)"
   ]
  },
  {
   "cell_type": "markdown",
   "id": "thirty-forth",
   "metadata": {},
   "source": [
    "# 11.0 Business Performance"
   ]
  },
  {
   "cell_type": "markdown",
   "id": "after-guest",
   "metadata": {},
   "source": [
    "## By using 26% of test data, in which wold translate as 20 thousand calls by the sales team, the model would be able to identify 65.5% people out of the total people interested in purchasing the insurance"
   ]
  },
  {
   "cell_type": "code",
   "execution_count": 160,
   "id": "planned-sperm",
   "metadata": {
    "execution": {
     "iopub.execute_input": "2021-03-17T18:23:48.390445Z",
     "iopub.status.busy": "2021-03-17T18:23:48.390182Z",
     "iopub.status.idle": "2021-03-17T18:23:48.418009Z",
     "shell.execute_reply": "2021-03-17T18:23:48.417570Z",
     "shell.execute_reply.started": "2021-03-17T18:23:48.390417Z"
    }
   },
   "outputs": [],
   "source": [
    "data = x_test.copy()\n",
    "\n",
    "data['response'] = y_test.copy()\n",
    "data['score'] = yhat_nb[:, 1].tolist()\n",
    "data = data.sort_values('score', ascending=False)"
   ]
  },
  {
   "cell_type": "code",
   "execution_count": 161,
   "id": "considerable-trinity",
   "metadata": {
    "execution": {
     "iopub.execute_input": "2021-03-17T18:23:48.543792Z",
     "iopub.status.busy": "2021-03-17T18:23:48.543567Z",
     "iopub.status.idle": "2021-03-17T18:23:48.552741Z",
     "shell.execute_reply": "2021-03-17T18:23:48.552184Z",
     "shell.execute_reply.started": "2021-03-17T18:23:48.543759Z"
    },
    "tags": []
   },
   "outputs": [
    {
     "name": "stdout",
     "output_type": "stream",
     "text": [
      "0.2634490752937457\n",
      "0.6557640750670242\n"
     ]
    }
   ],
   "source": [
    "percent_of_dataset = 20000 / len(data)\n",
    "recall_at_20000 = recall_at_k(data, k = 20000)\n",
    "\n",
    "print(percent_of_dataset)\n",
    "print(recall_at_20000)"
   ]
  },
  {
   "cell_type": "code",
   "execution_count": 178,
   "id": "compound-canyon",
   "metadata": {
    "execution": {
     "iopub.execute_input": "2021-03-17T18:28:45.956280Z",
     "iopub.status.busy": "2021-03-17T18:28:45.956004Z",
     "iopub.status.idle": "2021-03-17T18:28:46.122939Z",
     "shell.execute_reply": "2021-03-17T18:28:46.122456Z",
     "shell.execute_reply.started": "2021-03-17T18:28:45.956249Z"
    }
   },
   "outputs": [
    {
     "data": {
      "image/png": "[encoded data removed]",
      "text/plain": [
       "<Figure size 1440x576 with 1 Axes>"
      ]
     },
     "metadata": {},
     "output_type": "display_data"
    }
   ],
   "source": [
    "skplt.metrics.plot_cumulative_gain(y_test, yhat_nb)\n",
    "plt.axvline(0.2634, 0, 1, color='yellow', ls='--', lw=3)\n",
    "plt.show(); "
   ]
  },
  {
   "cell_type": "markdown",
   "id": "saved-massage",
   "metadata": {},
   "source": [
    "## By using a little less then 33% of test data, in which wold translate as 25 thousand and 1 hundred calls by the sales team, the model would be able to identify 80% people out of the total people interested in purchasing the insurance"
   ]
  },
  {
   "cell_type": "code",
   "execution_count": 176,
   "id": "handed-reservoir",
   "metadata": {
    "execution": {
     "iopub.execute_input": "2021-03-17T18:28:15.325666Z",
     "iopub.status.busy": "2021-03-17T18:28:15.325471Z",
     "iopub.status.idle": "2021-03-17T18:28:15.333063Z",
     "shell.execute_reply": "2021-03-17T18:28:15.332402Z",
     "shell.execute_reply.started": "2021-03-17T18:28:15.325647Z"
    }
   },
   "outputs": [
    {
     "name": "stdout",
     "output_type": "stream",
     "text": [
      "0.33062858949365087\n",
      "0.8016085790884718\n"
     ]
    }
   ],
   "source": [
    "percent_of_dataset = 25100 / len(data)\n",
    "recall_at_25100 = recall_at_k(data, k = 25100)\n",
    "\n",
    "print(percent_of_dataset)\n",
    "print(recall_at_25100)"
   ]
  },
  {
   "cell_type": "code",
   "execution_count": 177,
   "id": "direct-administrator",
   "metadata": {
    "execution": {
     "iopub.execute_input": "2021-03-17T18:28:25.866549Z",
     "iopub.status.busy": "2021-03-17T18:28:25.866296Z",
     "iopub.status.idle": "2021-03-17T18:28:26.040261Z",
     "shell.execute_reply": "2021-03-17T18:28:26.039810Z",
     "shell.execute_reply.started": "2021-03-17T18:28:25.866521Z"
    }
   },
   "outputs": [
    {
     "data": {
      "image/png": "[encoded data removed]",
      "text/plain": [
       "<Figure size 1440x576 with 1 Axes>"
      ]
     },
     "metadata": {},
     "output_type": "display_data"
    }
   ],
   "source": [
    "skplt.metrics.plot_cumulative_gain(y_test, yhat_nb)\n",
    "plt.axvline(0.3306, 0, 1, color='yellow', ls='--', lw=3)\n",
    "plt.show(); "
   ]
  },
  {
   "cell_type": "markdown",
   "id": "extended-smooth",
   "metadata": {},
   "source": [
    "## By Making 20 thousand calls, the model proposed is roughly 2,5 times better than random choice"
   ]
  },
  {
   "cell_type": "code",
   "execution_count": 165,
   "id": "ruled-detail",
   "metadata": {
    "execution": {
     "iopub.execute_input": "2021-03-17T18:23:49.470321Z",
     "iopub.status.busy": "2021-03-17T18:23:49.470062Z",
     "iopub.status.idle": "2021-03-17T18:23:49.657618Z",
     "shell.execute_reply": "2021-03-17T18:23:49.657095Z",
     "shell.execute_reply.started": "2021-03-17T18:23:49.470293Z"
    }
   },
   "outputs": [
    {
     "data": {
      "image/png": "[encoded data removed]",
      "text/plain": [
       "<Figure size 1440x576 with 1 Axes>"
      ]
     },
     "metadata": {},
     "output_type": "display_data"
    }
   ],
   "source": [
    "skplt.metrics.plot_lift_curve(y_test, yhat_nb)\n",
    "plt.axvline(0.26, 0, 1, color='yellow', ls='--', lw=3);"
   ]
  },
  {
   "cell_type": "markdown",
   "id": "celtic-spencer",
   "metadata": {},
   "source": [
    "## Baseline model would predict 26% of all people interested in insurance by making 20 thousand calls, whereas, our model, would predict 65.5%. If each insurance is 1000 this represents a diference of 29,60 million dollars in 20 thousand calls"
   ]
  },
  {
   "cell_type": "code",
   "execution_count": 180,
   "id": "beautiful-westminster",
   "metadata": {
    "execution": {
     "iopub.execute_input": "2021-03-17T18:32:11.542925Z",
     "iopub.status.busy": "2021-03-17T18:32:11.542723Z",
     "iopub.status.idle": "2021-03-17T18:32:11.548080Z",
     "shell.execute_reply": "2021-03-17T18:32:11.547479Z",
     "shell.execute_reply.started": "2021-03-17T18:32:11.542903Z"
    }
   },
   "outputs": [
    {
     "name": "stdout",
     "output_type": "stream",
     "text": [
      "19738160 revenue with random choice\n",
      "49345400 revenue with model\n",
      "difference in $: 29607240\n"
     ]
    }
   ],
   "source": [
    "random_choice = (26/100) * len(data)\n",
    "model         = (65/100) * len(data)\n",
    "\n",
    "x = random_choice * 1000\n",
    "y = model * 1000\n",
    "\n",
    "print(str(int(x)) + ' revenue with random choice')\n",
    "print(str(int(y)) + ' revenue with model')\n",
    "\n",
    "print('difference in $: ' + str(int(y-x)) )"
   ]
  },
  {
   "cell_type": "markdown",
   "id": "lyric-connecticut",
   "metadata": {},
   "source": [
    "## With 26 thousand calls and 4 hundred, our model would predict 80% of all people interested, and the difference from baseline would rise to 35,7 million dollars"
   ]
  },
  {
   "cell_type": "code",
   "execution_count": 181,
   "id": "worthy-frame",
   "metadata": {
    "execution": {
     "iopub.execute_input": "2021-03-17T18:32:13.411521Z",
     "iopub.status.busy": "2021-03-17T18:32:13.411184Z",
     "iopub.status.idle": "2021-03-17T18:32:13.416639Z",
     "shell.execute_reply": "2021-03-17T18:32:13.416201Z",
     "shell.execute_reply.started": "2021-03-17T18:32:13.411491Z"
    }
   },
   "outputs": [
    {
     "name": "stdout",
     "output_type": "stream",
     "text": [
      "25052280 revenue with random choice\n",
      "60732800 revenue with model\n",
      "difference in $: 35680520\n"
     ]
    }
   ],
   "source": [
    "random_choice = (33/100) * len(data)\n",
    "model         = (80/100) * len(data)\n",
    "\n",
    "x = random_choice * 1000\n",
    "y = model * 1000\n",
    "\n",
    "print(str(int(x)) + ' revenue with random choice')\n",
    "print(str(int(y)) + ' revenue with model')\n",
    "\n",
    "print('difference in $: ' + str(int(y-x)) )"
   ]
  }
 ],
 "metadata": {
  "kernelspec": {
   "display_name": "health_insurance",
   "language": "python",
   "name": "health_insurance"
  },
  "language_info": {
   "codemirror_mode": {
    "name": "ipython",
    "version": 3
   },
   "file_extension": ".py",
   "mimetype": "text/x-python",
   "name": "python",
   "nbconvert_exporter": "python",
   "pygments_lexer": "ipython3",
   "version": "3.8.0"
  }
 },
 "nbformat": 4,
 "nbformat_minor": 5
}