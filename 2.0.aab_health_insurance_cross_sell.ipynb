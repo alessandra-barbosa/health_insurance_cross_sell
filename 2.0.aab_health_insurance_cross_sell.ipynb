{
 "cells": [
  {
   "cell_type": "markdown",
   "id": "5c4fc1e0",
   "metadata": {
    "ExecuteTime": {
     "end_time": "2021-02-02T22:15:50.983253Z",
     "start_time": "2021-02-02T22:15:50.979889Z"
    }
   },
   "source": [
    "# Imports"
   ]
  },
  {
   "cell_type": "code",
   "execution_count": 78,
   "id": "51bfc6e6",
   "metadata": {
    "ExecuteTime": {
     "end_time": "2022-04-20T00:00:22.408577Z",
     "start_time": "2022-04-20T00:00:22.379660Z"
    }
   },
   "outputs": [],
   "source": [
    "import pandas                 as pd\n",
    "import numpy                  as np\n",
    "\n",
    "import seaborn                as sns\n",
    "import scikitplot             as skplt #pip install scikit-plot \n",
    "\n",
    "from   matplotlib             import pyplot as plt\n",
    "from   matplotlib             import pylab\n",
    "from   pylab                  import *\n",
    "import missingno                                   as msno\n",
    "from boruta               import BorutaPy\n",
    "\n",
    "from   sklearn                import preprocessing as pp\n",
    "from   sklearn                import model_selection as ms\n",
    "from   sklearn                import ensemble as en\n",
    "from   sklearn                import neighbors as nh\n",
    "from   sklearn                import linear_model    as lm\n",
    "from   sklearn.ensemble       import RandomForestClassifier\n",
    "import pickle                 as pkl\n",
    "from   flask                  import Flask, request, Response\n",
    "import requests\n",
    "import json\n",
    "import os\n",
    "from   IPython.display        import Image\n",
    "import scipy.stats            as ss\n",
    "import psycopg2\n",
    "import warnings\n",
    "\n",
    "warnings.filterwarnings(\"ignore\")\n",
    "\n",
    "%matplotlib inline\n",
    "from IPython.core.display  import HTML\n",
    "\n"
   ]
  },
  {
   "cell_type": "markdown",
   "id": "1e0fe702",
   "metadata": {},
   "source": [
    "## Helper Functions"
   ]
  },
  {
   "cell_type": "code",
   "execution_count": 79,
   "id": "1010fbf6",
   "metadata": {
    "ExecuteTime": {
     "end_time": "2022-04-20T00:00:22.440492Z",
     "start_time": "2022-04-20T00:00:22.410572Z"
    }
   },
   "outputs": [],
   "source": [
    "def create_connection_database(host_name, port_num, database_name, user_name, password_name):\n",
    "    connection = None\n",
    "    connection = psycopg2.connect(\n",
    "                        host = host_name,\n",
    "                        port = port_num,\n",
    "                        database = database_name,\n",
    "                        user = user_name,\n",
    "                        password = password_name)\n",
    "    return connection\n",
    "\n",
    "def cramer_v(x,y):\n",
    "    cm = pd.crosstab(x,y).values\n",
    "    n = cm.sum()\n",
    "    r,k = cm.shape\n",
    "    \n",
    "    chi2 = ss.chi2_contingency(cm)[0]\n",
    "    chi2corr = max(0,chi2 - (k-1)*(r-1)/(n-1))\n",
    "    \n",
    "    kcorr=k - (k-1)**2/(n-1) \n",
    "    rcorr=r - (r-1)**2/(n-1) \n",
    "    \n",
    "    v = np.sqrt( (chi2corr/n) / (min (kcorr-1,rcorr-1)))\n",
    "    return v   \n",
    "\n",
    "def corr_cramer_v(categorical_attributes):\n",
    "    cat_attributes_list = categorical_attributes.columns.tolist()\n",
    "\n",
    "    corr_dict={}\n",
    "\n",
    "    for i in range(len(cat_attributes_list)):\n",
    "        corr_list=[]\n",
    "        for j in range(len(cat_attributes_list)):\n",
    "            ref=cat_attributes_list[i]\n",
    "            feat=cat_attributes_list[j]\n",
    "            corr = cramer_v(categorical_attributes[ref],categorical_attributes[feat])\n",
    "            corr_list.append(corr)\n",
    "        corr_dict[ref]= corr_list\n",
    "    return corr_dict\n",
    "\n",
    "def precision_at_k( data, k=2000 ):\n",
    "    # reset index\n",
    "    data = data.reset_index( drop=True )\n",
    "\n",
    "    # create ranking order\n",
    "    data['ranking'] = data.index + 1 \n",
    "\n",
    "    data['precision_at_k'] = data['response'].cumsum() / data['ranking']\n",
    "\n",
    "    return data.loc[k, 'precision_at_k']\n",
    "\n",
    "def recall_at_k( data, k=2000 ):\n",
    "    # reset index\n",
    "    data = data.reset_index( drop=True )\n",
    "\n",
    "    # create ranking order\n",
    "    data['ranking'] = data.index + 1 \n",
    "\n",
    "    data['recall_at_k'] = data['response'].cumsum() / data['response'].sum()\n",
    "\n",
    "    return data.loc[k, 'recall_at_k']\n",
    "\n",
    "\n",
    "def jupyter_settings():\n",
    "    %matplotlib inline\n",
    "    %pylab inline\n",
    "    \n",
    "    plt.style.use('fivethirtyeight')\n",
    "    plt.rcParams['figure.figsize'] = [20, 8]\n",
    "    plt.rcParams['font.size'] = 24\n",
    "    plt.rcParams['font.family'] = 'serif'\n",
    "    plt.rcParams['font.serif'] = 'Ubuntu'\n",
    "    plt.rcParams['font.monospace'] = 'Ubuntu Mono'\n",
    "    plt.rcParams['font.size'] = 12\n",
    "    plt.rcParams['axes.labelsize'] = 14\n",
    "    plt.rcParams['axes.labelweight'] = 'bold'\n",
    "    plt.rcParams['axes.titlesize'] = 15\n",
    "    plt.rcParams['xtick.labelsize'] = 6\n",
    "    plt.rcParams['ytick.labelsize'] = 10\n",
    "    plt.rcParams['legend.fontsize'] = 12\n",
    "    plt.rcParams['figure.titlesize'] = 12\n",
    "    \n",
    "    display( HTML( '<style>.container { width:70% !important; }</style>') )\n",
    "    pd.options.display.max_columns = None\n",
    "    pd.options.display.max_rows = None\n",
    "    pd.set_option( 'display.expand_frame_repr', False )\n",
    "    \n",
    "    #sns.set()\n",
    "    sns.set_style('ticks')\n",
    "    \n",
    "# Supress Scientific Notation\n",
    "np.set_printoptions(suppress=True)\n",
    "pd.set_option('display.float_format', '{:.2f}'.format)"
   ]
  },
  {
   "cell_type": "code",
   "execution_count": 80,
   "id": "9ecb8917",
   "metadata": {
    "ExecuteTime": {
     "end_time": "2022-04-20T00:00:22.456449Z",
     "start_time": "2022-04-20T00:00:22.442494Z"
    }
   },
   "outputs": [
    {
     "name": "stdout",
     "output_type": "stream",
     "text": [
      "%pylab is deprecated, use %matplotlib inline and import the required libraries.\n",
      "Populating the interactive namespace from numpy and matplotlib\n"
     ]
    },
    {
     "data": {
      "text/html": [
       "<style>.container { width:70% !important; }</style>"
      ],
      "text/plain": [
       "<IPython.core.display.HTML object>"
      ]
     },
     "metadata": {},
     "output_type": "display_data"
    }
   ],
   "source": [
    "jupyter_settings()"
   ]
  },
  {
   "cell_type": "markdown",
   "id": "e90d98a5",
   "metadata": {},
   "source": [
    "# Loading Dataset"
   ]
  },
  {
   "cell_type": "code",
   "execution_count": 81,
   "id": "9b85431f",
   "metadata": {
    "ExecuteTime": {
     "end_time": "2022-04-20T00:00:22.472406Z",
     "start_time": "2022-04-20T00:00:22.457447Z"
    }
   },
   "outputs": [],
   "source": [
    "# #connect to the DB\n",
    "# host_name     = \"comunidade-ds-postgres.c50pcakiuwi3.us-east-1.rds.amazonaws.com\"\n",
    "# port_num      = 5432 \n",
    "# database_name = \"comunidadedsdb\"\n",
    "# user_name     = \"member\"\n",
    "# password_name = \"xxxxxxx\"\n",
    "\n",
    "# #make connection with DB\n",
    "# conn = create_connection_database (host_name, port_num, database_name, user_name, password_name)\n",
    "\n",
    "# #checking tables in schema\n",
    "# cur = conn.cursor()\n",
    "\n",
    "# cur.execute(\"\"\"SELECT table_schema, table_name\n",
    "#                       FROM information_schema.tables\n",
    "#                       WHERE table_schema != 'pg_catalog'\n",
    "#                       AND table_schema != 'information_schema'\n",
    "#                       AND table_type='BASE TABLE'\n",
    "#                       ORDER BY table_schema, table_name\"\"\")\n",
    "\n",
    "# schemas_db = cur.fetchall()\n",
    "\n",
    "# # cursor close\n",
    "# cur.close()\n",
    "\n",
    "# df_insurance = sqlio.read_sql_query(\"Select * from pa004.insurance\", conn)\n",
    "# df_vehicle = sqlio.read_sql_query(\"Select * from pa004.vehicle\", conn)\n",
    "# df_users = sqlio.read_sql_query(\"Select * from pa004.users\", conn)\n",
    "\n",
    "# #close the connection\n",
    "# conn.close()\n",
    "\n",
    "# #checking each shape of dataframes\n",
    "# print('Tables shape:\\n Insurance: {}\\n Vehicle: {}\\n Users: {}'.format(df_insurance.shape,df_vehicle.shape, df_users.shape ))"
   ]
  },
  {
   "cell_type": "code",
   "execution_count": 82,
   "id": "fbaf730d",
   "metadata": {
    "ExecuteTime": {
     "end_time": "2022-04-20T00:00:22.488364Z",
     "start_time": "2022-04-20T00:00:22.473405Z"
    }
   },
   "outputs": [],
   "source": [
    "# df0 = df_users.merge(df_vehicle, how = 'outer', on='id')\n",
    "# df0 = df0.merge(df_insurance, how = 'outer', on='id')\n",
    "\n",
    "# #cleaning memory of dataframes used to collect data from DB\n",
    "# df_vehicle = None\n",
    "# df_users = None\n",
    "# df_insurance = None\n",
    "\n",
    "# df0.sample(5)"
   ]
  },
  {
   "cell_type": "code",
   "execution_count": 83,
   "id": "4ec2f7c8",
   "metadata": {
    "ExecuteTime": {
     "end_time": "2022-04-20T00:00:22.790969Z",
     "start_time": "2022-04-20T00:00:22.489363Z"
    }
   },
   "outputs": [
    {
     "name": "stdout",
     "output_type": "stream",
     "text": [
      "Number of Rows df_raw: 381109\n"
     ]
    }
   ],
   "source": [
    "df_raw = pd.read_csv('../health_insurance_cross_sell/data/raw/train.csv')\n",
    "print('Number of Rows df_raw: {}'.format(df_raw.shape[0]))"
   ]
  },
  {
   "cell_type": "code",
   "execution_count": 84,
   "id": "1aede8da",
   "metadata": {
    "ExecuteTime": {
     "end_time": "2022-04-20T00:00:22.805929Z",
     "start_time": "2022-04-20T00:00:22.791966Z"
    },
    "scrolled": false
   },
   "outputs": [
    {
     "data": {
      "text/html": [
       "<div>\n",
       "<style scoped>\n",
       "    .dataframe tbody tr th:only-of-type {\n",
       "        vertical-align: middle;\n",
       "    }\n",
       "\n",
       "    .dataframe tbody tr th {\n",
       "        vertical-align: top;\n",
       "    }\n",
       "\n",
       "    .dataframe thead th {\n",
       "        text-align: right;\n",
       "    }\n",
       "</style>\n",
       "<table border=\"1\" class=\"dataframe\">\n",
       "  <thead>\n",
       "    <tr style=\"text-align: right;\">\n",
       "      <th></th>\n",
       "      <th>id</th>\n",
       "      <th>Gender</th>\n",
       "      <th>Age</th>\n",
       "      <th>Driving_License</th>\n",
       "      <th>Region_Code</th>\n",
       "      <th>Previously_Insured</th>\n",
       "      <th>Vehicle_Age</th>\n",
       "      <th>Vehicle_Damage</th>\n",
       "      <th>Annual_Premium</th>\n",
       "      <th>Policy_Sales_Channel</th>\n",
       "      <th>Vintage</th>\n",
       "      <th>Response</th>\n",
       "    </tr>\n",
       "  </thead>\n",
       "  <tbody>\n",
       "    <tr>\n",
       "      <th>0</th>\n",
       "      <td>1</td>\n",
       "      <td>Male</td>\n",
       "      <td>44</td>\n",
       "      <td>1</td>\n",
       "      <td>28.00</td>\n",
       "      <td>0</td>\n",
       "      <td>&gt; 2 Years</td>\n",
       "      <td>Yes</td>\n",
       "      <td>40454.00</td>\n",
       "      <td>26.00</td>\n",
       "      <td>217</td>\n",
       "      <td>1</td>\n",
       "    </tr>\n",
       "    <tr>\n",
       "      <th>1</th>\n",
       "      <td>2</td>\n",
       "      <td>Male</td>\n",
       "      <td>76</td>\n",
       "      <td>1</td>\n",
       "      <td>3.00</td>\n",
       "      <td>0</td>\n",
       "      <td>1-2 Year</td>\n",
       "      <td>No</td>\n",
       "      <td>33536.00</td>\n",
       "      <td>26.00</td>\n",
       "      <td>183</td>\n",
       "      <td>0</td>\n",
       "    </tr>\n",
       "    <tr>\n",
       "      <th>2</th>\n",
       "      <td>3</td>\n",
       "      <td>Male</td>\n",
       "      <td>47</td>\n",
       "      <td>1</td>\n",
       "      <td>28.00</td>\n",
       "      <td>0</td>\n",
       "      <td>&gt; 2 Years</td>\n",
       "      <td>Yes</td>\n",
       "      <td>38294.00</td>\n",
       "      <td>26.00</td>\n",
       "      <td>27</td>\n",
       "      <td>1</td>\n",
       "    </tr>\n",
       "    <tr>\n",
       "      <th>3</th>\n",
       "      <td>4</td>\n",
       "      <td>Male</td>\n",
       "      <td>21</td>\n",
       "      <td>1</td>\n",
       "      <td>11.00</td>\n",
       "      <td>1</td>\n",
       "      <td>&lt; 1 Year</td>\n",
       "      <td>No</td>\n",
       "      <td>28619.00</td>\n",
       "      <td>152.00</td>\n",
       "      <td>203</td>\n",
       "      <td>0</td>\n",
       "    </tr>\n",
       "    <tr>\n",
       "      <th>4</th>\n",
       "      <td>5</td>\n",
       "      <td>Female</td>\n",
       "      <td>29</td>\n",
       "      <td>1</td>\n",
       "      <td>41.00</td>\n",
       "      <td>1</td>\n",
       "      <td>&lt; 1 Year</td>\n",
       "      <td>No</td>\n",
       "      <td>27496.00</td>\n",
       "      <td>152.00</td>\n",
       "      <td>39</td>\n",
       "      <td>0</td>\n",
       "    </tr>\n",
       "  </tbody>\n",
       "</table>\n",
       "</div>"
      ],
      "text/plain": [
       "   id  Gender  Age  Driving_License  Region_Code  Previously_Insured Vehicle_Age Vehicle_Damage  Annual_Premium  Policy_Sales_Channel  Vintage  Response\n",
       "0   1    Male   44                1        28.00                   0   > 2 Years            Yes        40454.00                 26.00      217         1\n",
       "1   2    Male   76                1         3.00                   0    1-2 Year             No        33536.00                 26.00      183         0\n",
       "2   3    Male   47                1        28.00                   0   > 2 Years            Yes        38294.00                 26.00       27         1\n",
       "3   4    Male   21                1        11.00                   1    < 1 Year             No        28619.00                152.00      203         0\n",
       "4   5  Female   29                1        41.00                   1    < 1 Year             No        27496.00                152.00       39         0"
      ]
     },
     "execution_count": 84,
     "metadata": {},
     "output_type": "execute_result"
    }
   ],
   "source": [
    "df_raw.head()"
   ]
  },
  {
   "cell_type": "markdown",
   "id": "e66972ce",
   "metadata": {},
   "source": [
    "## Separating  test data "
   ]
  },
  {
   "cell_type": "code",
   "execution_count": 85,
   "id": "9cd9f954",
   "metadata": {
    "ExecuteTime": {
     "end_time": "2022-04-20T00:00:22.932634Z",
     "start_time": "2022-04-20T00:00:22.807923Z"
    }
   },
   "outputs": [],
   "source": [
    "X_test = df_raw.drop(['Response'], axis = 1)\n",
    "y_test = df_raw['Response'].copy()\n",
    "\n",
    "df0, X_test, y0, y_test = ms.train_test_split(X_test,y_test,test_size=0.1)\n",
    "\n",
    "df0 = pd.concat([df0, y0], axis = 1)"
   ]
  },
  {
   "cell_type": "code",
   "execution_count": 86,
   "id": "9737285e",
   "metadata": {
    "ExecuteTime": {
     "end_time": "2022-04-20T00:00:23.139038Z",
     "start_time": "2022-04-20T00:00:22.933589Z"
    }
   },
   "outputs": [],
   "source": [
    "df_test = X_test\n",
    "df_test.to_csv('data/raw/df_test.csv')"
   ]
  },
  {
   "cell_type": "markdown",
   "id": "e5dc76bc",
   "metadata": {},
   "source": [
    "# Data Description"
   ]
  },
  {
   "cell_type": "code",
   "execution_count": 87,
   "id": "2e3c4c50",
   "metadata": {
    "ExecuteTime": {
     "end_time": "2022-04-20T00:00:23.186942Z",
     "start_time": "2022-04-20T00:00:23.141039Z"
    }
   },
   "outputs": [],
   "source": [
    "df1 = df0.copy()"
   ]
  },
  {
   "cell_type": "markdown",
   "id": "7f637a9d",
   "metadata": {},
   "source": [
    "## Data Dimension"
   ]
  },
  {
   "cell_type": "code",
   "execution_count": 88,
   "id": "35de4a71",
   "metadata": {
    "ExecuteTime": {
     "end_time": "2022-04-20T00:00:23.202867Z",
     "start_time": "2022-04-20T00:00:23.187940Z"
    },
    "scrolled": false
   },
   "outputs": [
    {
     "name": "stdout",
     "output_type": "stream",
     "text": [
      "Number of Rows: 342998\n",
      "Number of Columns: 12\n"
     ]
    }
   ],
   "source": [
    "print( 'Number of Rows: {}'.format( df1.shape[0] ) )\n",
    "print( 'Number of Columns: {}'.format( df1.shape[1] ) )"
   ]
  },
  {
   "cell_type": "markdown",
   "id": "420d6428",
   "metadata": {},
   "source": [
    "## Rename Columns"
   ]
  },
  {
   "cell_type": "code",
   "execution_count": 89,
   "id": "a8e34466",
   "metadata": {
    "ExecuteTime": {
     "end_time": "2022-04-20T00:00:23.218824Z",
     "start_time": "2022-04-20T00:00:23.203865Z"
    }
   },
   "outputs": [],
   "source": [
    "df1.columns = map(str.lower, df1.columns)"
   ]
  },
  {
   "cell_type": "markdown",
   "id": "506233f4",
   "metadata": {},
   "source": [
    "## Data Types"
   ]
  },
  {
   "cell_type": "code",
   "execution_count": 90,
   "id": "994af024",
   "metadata": {
    "ExecuteTime": {
     "end_time": "2022-04-20T00:00:23.346483Z",
     "start_time": "2022-04-20T00:00:23.219822Z"
    },
    "scrolled": true
   },
   "outputs": [
    {
     "name": "stdout",
     "output_type": "stream",
     "text": [
      "<class 'pandas.core.frame.DataFrame'>\n",
      "Int64Index: 342998 entries, 102005 to 201294\n",
      "Data columns (total 12 columns):\n",
      " #   Column                Non-Null Count   Dtype  \n",
      "---  ------                --------------   -----  \n",
      " 0   id                    342998 non-null  int64  \n",
      " 1   gender                342998 non-null  object \n",
      " 2   age                   342998 non-null  int64  \n",
      " 3   driving_license       342998 non-null  int64  \n",
      " 4   region_code           342998 non-null  float64\n",
      " 5   previously_insured    342998 non-null  int64  \n",
      " 6   vehicle_age           342998 non-null  object \n",
      " 7   vehicle_damage        342998 non-null  object \n",
      " 8   annual_premium        342998 non-null  float64\n",
      " 9   policy_sales_channel  342998 non-null  float64\n",
      " 10  vintage               342998 non-null  int64  \n",
      " 11  response              342998 non-null  int64  \n",
      "dtypes: float64(3), int64(6), object(3)\n",
      "memory usage: 34.0+ MB\n"
     ]
    }
   ],
   "source": [
    "df1.info()"
   ]
  },
  {
   "cell_type": "markdown",
   "id": "b1adc5fe",
   "metadata": {},
   "source": [
    "### Columns Description"
   ]
  },
  {
   "cell_type": "markdown",
   "id": "676addbd",
   "metadata": {
    "ExecuteTime": {
     "end_time": "2022-03-31T12:55:30.152534Z",
     "start_time": "2022-03-31T12:55:30.133697Z"
    }
   },
   "source": [
    "- **Id**: Customer identifier \n",
    "- **Gender**: Gender of customer\n",
    "- **Age**: Age of customer\n",
    "- **Driving License**: 0 if customer does not have the permission for drive; 1 if customer has the permission for drive\n",
    "- **Region Code**: Region code of customer\n",
    "- **Previously Insured**: 0 if customer does not have a vehicle insurance; 1 if customer already has a vehicle insurance.\n",
    "- **Vehicle Age**: Age of vehicle\n",
    "- **Vehicle Damage**: 0 if customer never got involved in a previous vehicle damage; 1 if customer already had a vehicle damage\n",
    "- **Annual Premium**: amount paid for health insurance to the company anualy.\n",
    "- **Policy sales channel**: anonymous code for contact with customer.\n",
    "- **Vintage**: time (in days) that customer bought his health assurance.\n",
    "- **Response**: 0 if customer has no interest in product; 1 if customer has interest in product"
   ]
  },
  {
   "cell_type": "markdown",
   "id": "646651ac",
   "metadata": {
    "hide_input": false
   },
   "source": [
    "## Check NA"
   ]
  },
  {
   "cell_type": "code",
   "execution_count": 91,
   "id": "ea18f31f",
   "metadata": {
    "ExecuteTime": {
     "end_time": "2022-04-20T00:00:23.585843Z",
     "start_time": "2022-04-20T00:00:23.347482Z"
    },
    "cell_style": "split",
    "hide_input": true,
    "scrolled": true
   },
   "outputs": [
    {
     "data": {
      "text/html": [
       "<div>\n",
       "<style scoped>\n",
       "    .dataframe tbody tr th:only-of-type {\n",
       "        vertical-align: middle;\n",
       "    }\n",
       "\n",
       "    .dataframe tbody tr th {\n",
       "        vertical-align: top;\n",
       "    }\n",
       "\n",
       "    .dataframe thead th {\n",
       "        text-align: right;\n",
       "    }\n",
       "</style>\n",
       "<table border=\"1\" class=\"dataframe\">\n",
       "  <thead>\n",
       "    <tr style=\"text-align: right;\">\n",
       "      <th></th>\n",
       "      <th>NaN</th>\n",
       "      <th>NaN %</th>\n",
       "    </tr>\n",
       "  </thead>\n",
       "  <tbody>\n",
       "    <tr>\n",
       "      <th>id</th>\n",
       "      <td>0</td>\n",
       "      <td>0.00</td>\n",
       "    </tr>\n",
       "    <tr>\n",
       "      <th>gender</th>\n",
       "      <td>0</td>\n",
       "      <td>0.00</td>\n",
       "    </tr>\n",
       "    <tr>\n",
       "      <th>age</th>\n",
       "      <td>0</td>\n",
       "      <td>0.00</td>\n",
       "    </tr>\n",
       "    <tr>\n",
       "      <th>driving_license</th>\n",
       "      <td>0</td>\n",
       "      <td>0.00</td>\n",
       "    </tr>\n",
       "    <tr>\n",
       "      <th>region_code</th>\n",
       "      <td>0</td>\n",
       "      <td>0.00</td>\n",
       "    </tr>\n",
       "    <tr>\n",
       "      <th>previously_insured</th>\n",
       "      <td>0</td>\n",
       "      <td>0.00</td>\n",
       "    </tr>\n",
       "    <tr>\n",
       "      <th>vehicle_age</th>\n",
       "      <td>0</td>\n",
       "      <td>0.00</td>\n",
       "    </tr>\n",
       "    <tr>\n",
       "      <th>vehicle_damage</th>\n",
       "      <td>0</td>\n",
       "      <td>0.00</td>\n",
       "    </tr>\n",
       "    <tr>\n",
       "      <th>annual_premium</th>\n",
       "      <td>0</td>\n",
       "      <td>0.00</td>\n",
       "    </tr>\n",
       "    <tr>\n",
       "      <th>policy_sales_channel</th>\n",
       "      <td>0</td>\n",
       "      <td>0.00</td>\n",
       "    </tr>\n",
       "    <tr>\n",
       "      <th>vintage</th>\n",
       "      <td>0</td>\n",
       "      <td>0.00</td>\n",
       "    </tr>\n",
       "    <tr>\n",
       "      <th>response</th>\n",
       "      <td>0</td>\n",
       "      <td>0.00</td>\n",
       "    </tr>\n",
       "  </tbody>\n",
       "</table>\n",
       "</div>"
      ],
      "text/plain": [
       "                      NaN  NaN %\n",
       "id                      0   0.00\n",
       "gender                  0   0.00\n",
       "age                     0   0.00\n",
       "driving_license         0   0.00\n",
       "region_code             0   0.00\n",
       "previously_insured      0   0.00\n",
       "vehicle_age             0   0.00\n",
       "vehicle_damage          0   0.00\n",
       "annual_premium          0   0.00\n",
       "policy_sales_channel    0   0.00\n",
       "vintage                 0   0.00\n",
       "response                0   0.00"
      ]
     },
     "execution_count": 91,
     "metadata": {},
     "output_type": "execute_result"
    }
   ],
   "source": [
    "aux=df1.isna().sum().sort_values(ascending=False)\n",
    "aux1=df1.isna().sum().sort_values(ascending=False)/df1.shape[0]*100\n",
    "\n",
    "NaN=pd.concat([aux,aux1],axis=1)\n",
    "NaN.columns=['NaN', 'NaN %']\n",
    "NaN"
   ]
  },
  {
   "cell_type": "code",
   "execution_count": 92,
   "id": "5072e5c1",
   "metadata": {
    "ExecuteTime": {
     "end_time": "2022-04-20T00:00:24.425567Z",
     "start_time": "2022-04-20T00:00:23.587845Z"
    },
    "cell_style": "split",
    "hide_input": true,
    "scrolled": false
   },
   "outputs": [
    {
     "data": {
      "image/png": "[encoded data removed]",
      "text/plain": [
       "<Figure size 1800x720 with 2 Axes>"
      ]
     },
     "metadata": {
      "needs_background": "light"
     },
     "output_type": "display_data"
    }
   ],
   "source": [
    "%matplotlib inline\n",
    "msno.matrix(df1);"
   ]
  },
  {
   "cell_type": "markdown",
   "id": "153462c5",
   "metadata": {},
   "source": [
    "## Data Descriptive"
   ]
  },
  {
   "cell_type": "code",
   "execution_count": 93,
   "id": "a3fe5694",
   "metadata": {
    "ExecuteTime": {
     "end_time": "2022-04-20T00:00:24.473402Z",
     "start_time": "2022-04-20T00:00:24.426529Z"
    }
   },
   "outputs": [],
   "source": [
    "num_attributes = df1[['age', 'annual_premium', 'vintage']]\n",
    "\n",
    "cat_attributes = df1[['driving_license', 'previously_insured', 'vehicle_damage', 'vehicle_age', 'gender', 'region_code', 'policy_sales_channel' ]]\n",
    "\n",
    "target_atribute = df1['response']"
   ]
  },
  {
   "cell_type": "markdown",
   "id": "b92d0d98",
   "metadata": {},
   "source": [
    " ### Numerical Attributes"
   ]
  },
  {
   "cell_type": "code",
   "execution_count": 94,
   "id": "4b45c597",
   "metadata": {
    "ExecuteTime": {
     "end_time": "2022-04-20T00:00:24.727756Z",
     "start_time": "2022-04-20T00:00:24.475398Z"
    },
    "scrolled": false
   },
   "outputs": [
    {
     "data": {
      "text/html": [
       "<div>\n",
       "<style scoped>\n",
       "    .dataframe tbody tr th:only-of-type {\n",
       "        vertical-align: middle;\n",
       "    }\n",
       "\n",
       "    .dataframe tbody tr th {\n",
       "        vertical-align: top;\n",
       "    }\n",
       "\n",
       "    .dataframe thead th {\n",
       "        text-align: right;\n",
       "    }\n",
       "</style>\n",
       "<table border=\"1\" class=\"dataframe\">\n",
       "  <thead>\n",
       "    <tr style=\"text-align: right;\">\n",
       "      <th></th>\n",
       "      <th>attributes</th>\n",
       "      <th>min</th>\n",
       "      <th>max</th>\n",
       "      <th>range</th>\n",
       "      <th>mean</th>\n",
       "      <th>median</th>\n",
       "      <th>std</th>\n",
       "      <th>skew</th>\n",
       "      <th>kurtosis</th>\n",
       "    </tr>\n",
       "  </thead>\n",
       "  <tbody>\n",
       "    <tr>\n",
       "      <th>0</th>\n",
       "      <td>age</td>\n",
       "      <td>20.00</td>\n",
       "      <td>85.00</td>\n",
       "      <td>65.00</td>\n",
       "      <td>38.83</td>\n",
       "      <td>36.00</td>\n",
       "      <td>15.51</td>\n",
       "      <td>0.67</td>\n",
       "      <td>-0.57</td>\n",
       "    </tr>\n",
       "    <tr>\n",
       "      <th>1</th>\n",
       "      <td>annual_premium</td>\n",
       "      <td>2630.00</td>\n",
       "      <td>540165.00</td>\n",
       "      <td>537535.00</td>\n",
       "      <td>30562.93</td>\n",
       "      <td>31666.50</td>\n",
       "      <td>17235.44</td>\n",
       "      <td>1.81</td>\n",
       "      <td>35.40</td>\n",
       "    </tr>\n",
       "    <tr>\n",
       "      <th>2</th>\n",
       "      <td>vintage</td>\n",
       "      <td>10.00</td>\n",
       "      <td>299.00</td>\n",
       "      <td>289.00</td>\n",
       "      <td>154.30</td>\n",
       "      <td>154.00</td>\n",
       "      <td>83.69</td>\n",
       "      <td>0.00</td>\n",
       "      <td>-1.20</td>\n",
       "    </tr>\n",
       "  </tbody>\n",
       "</table>\n",
       "</div>"
      ],
      "text/plain": [
       "       attributes     min       max     range     mean   median      std  skew  kurtosis\n",
       "0             age   20.00     85.00     65.00    38.83    36.00    15.51  0.67     -0.57\n",
       "1  annual_premium 2630.00 540165.00 537535.00 30562.93 31666.50 17235.44  1.81     35.40\n",
       "2         vintage   10.00    299.00    289.00   154.30   154.00    83.69  0.00     -1.20"
      ]
     },
     "execution_count": 94,
     "metadata": {},
     "output_type": "execute_result"
    }
   ],
   "source": [
    "# central tendency - mean, median\n",
    "ct1 = pd.DataFrame( num_attributes.apply( np.mean ) ).T\n",
    "ct2 = pd.DataFrame( num_attributes.apply( np.median ) ).T\n",
    "\n",
    "# dispersion - std, min, max, range, skew, kurtosis\n",
    "d1 = pd.DataFrame( num_attributes.apply( np.std ) ).T \n",
    "d2 = pd.DataFrame( num_attributes.apply( min ) ).T \n",
    "d3 = pd.DataFrame( num_attributes.apply( max ) ).T \n",
    "d4 = pd.DataFrame( num_attributes.apply( lambda x: x.max() - x.min() ) ).T \n",
    "d5 = pd.DataFrame( num_attributes.apply( lambda x: x.skew() ) ).T \n",
    "d6 = pd.DataFrame( num_attributes.apply( lambda x: x.kurtosis() ) ).T \n",
    "\n",
    "# concatenate\n",
    "m = pd.concat( [d2, d3, d4, ct1, ct2, d1, d5, d6] ).T.reset_index()\n",
    "m.columns = ['attributes', 'min', 'max', 'range', 'mean', 'median', 'std', 'skew', 'kurtosis']\n",
    "m"
   ]
  },
  {
   "cell_type": "code",
   "execution_count": 95,
   "id": "1bbba3f7",
   "metadata": {
    "ExecuteTime": {
     "end_time": "2022-04-20T00:00:29.504505Z",
     "start_time": "2022-04-20T00:00:24.728775Z"
    },
    "scrolled": true
   },
   "outputs": [
    {
     "data": {
      "image/png": "[encoded data removed]",
      "text/plain": [
       "<Figure size 432x576 with 3 Axes>"
      ]
     },
     "metadata": {
      "needs_background": "light"
     },
     "output_type": "display_data"
    }
   ],
   "source": [
    "fig, axs = plt.subplots(3, figsize = (6,8))\n",
    "sns.distplot(df1['age'], ax=axs[0], bins = 6)\n",
    "sns.distplot(df1['annual_premium'], ax=axs[1])\n",
    "sns.distplot(df1['vintage'], ax=axs[2]);"
   ]
  },
  {
   "cell_type": "markdown",
   "id": "e9f67213",
   "metadata": {},
   "source": [
    "### Categorical Attributes"
   ]
  },
  {
   "cell_type": "code",
   "execution_count": 96,
   "id": "6ebae473",
   "metadata": {
    "ExecuteTime": {
     "end_time": "2022-04-20T00:00:29.583230Z",
     "start_time": "2022-04-20T00:00:29.506467Z"
    }
   },
   "outputs": [
    {
     "data": {
      "text/plain": [
       "driving_license           2\n",
       "previously_insured        2\n",
       "vehicle_damage            2\n",
       "vehicle_age               3\n",
       "gender                    2\n",
       "region_code              53\n",
       "policy_sales_channel    154\n",
       "dtype: int64"
      ]
     },
     "execution_count": 96,
     "metadata": {},
     "output_type": "execute_result"
    }
   ],
   "source": [
    "cat_attributes.apply(lambda x: x.unique().shape[0])"
   ]
  },
  {
   "cell_type": "code",
   "execution_count": 97,
   "id": "c3d59e3f",
   "metadata": {
    "ExecuteTime": {
     "end_time": "2022-04-20T00:00:39.961253Z",
     "start_time": "2022-04-20T00:00:29.584228Z"
    },
    "hide_input": true,
    "scrolled": true
   },
   "outputs": [
    {
     "data": {
      "text/plain": [
       "<AxesSubplot:xlabel='region_code', ylabel='count'>"
      ]
     },
     "execution_count": 97,
     "metadata": {},
     "output_type": "execute_result"
    },
    {
     "data": {
      "image/png": "[encoded data removed]",
      "text/plain": [
       "<Figure size 1440x864 with 6 Axes>"
      ]
     },
     "metadata": {
      "needs_background": "light"
     },
     "output_type": "display_data"
    }
   ],
   "source": [
    "fig, axs = plt.subplots(ncols = 3, nrows = 2,  figsize = (20,12))\n",
    "sns.countplot( df1['driving_license'],ax=axs[0][0])\n",
    "sns.countplot( df1['previously_insured'],ax=axs[0][1] )\n",
    "sns.countplot( df1['vehicle_damage'],ax=axs[0][2] )\n",
    "sns.countplot( df1['vehicle_age'],ax=axs[1][0] )\n",
    "sns.countplot( df1['gender'],ax=axs[1][1] )\n",
    "sns.countplot( df1['region_code'],ax=axs[1][2] )"
   ]
  },
  {
   "cell_type": "markdown",
   "id": "b9307900",
   "metadata": {},
   "source": [
    " ### Target"
   ]
  },
  {
   "cell_type": "code",
   "execution_count": 98,
   "id": "89756a6c",
   "metadata": {
    "ExecuteTime": {
     "end_time": "2022-04-20T00:00:39.977223Z",
     "start_time": "2022-04-20T00:00:39.962257Z"
    }
   },
   "outputs": [
    {
     "data": {
      "text/plain": [
       "0    300948\n",
       "1     42050\n",
       "Name: response, dtype: int64"
      ]
     },
     "execution_count": 98,
     "metadata": {},
     "output_type": "execute_result"
    }
   ],
   "source": [
    "df1['response'].value_counts()"
   ]
  },
  {
   "cell_type": "code",
   "execution_count": 99,
   "id": "60327851",
   "metadata": {
    "ExecuteTime": {
     "end_time": "2022-04-20T00:00:41.230180Z",
     "start_time": "2022-04-20T00:00:39.978207Z"
    },
    "scrolled": false
   },
   "outputs": [
    {
     "data": {
      "text/plain": [
       "<AxesSubplot:xlabel='response', ylabel='count'>"
      ]
     },
     "execution_count": 99,
     "metadata": {},
     "output_type": "execute_result"
    },
    {
     "data": {
      "image/png": "[encoded data removed]",
      "text/plain": [
       "<Figure size 432x288 with 1 Axes>"
      ]
     },
     "metadata": {
      "needs_background": "light"
     },
     "output_type": "display_data"
    }
   ],
   "source": [
    "sns.countplot( df1['response'])"
   ]
  },
  {
   "cell_type": "markdown",
   "id": "f3ec1973",
   "metadata": {},
   "source": [
    "## Hypothesis"
   ]
  },
  {
   "cell_type": "markdown",
   "id": "878d92eb",
   "metadata": {
    "ExecuteTime": {
     "end_time": "2022-04-03T16:43:46.447255Z",
     "start_time": "2022-04-03T16:43:46.443004Z"
    }
   },
   "source": [
    "- People is equaly interested in insurance regardless their gender\n",
    "**FALSE**\n",
    "- The older the vehicle the greater is the interest in acquiring an insurance\n",
    "**TRUE**\n",
    "- If the owner damaged his vehicle before, he is more likely to acquire an insurance\n",
    "**TRUE**\n",
    "- People who has driving license are more interested in insurance\n",
    "**FALSE**\n",
    "- Different regions have different interesst in insurance\n",
    "**TRUE**\n",
    "- Different policy sales channel have different outcome for the customer\n",
    "**TRUE**\n",
    "- Who was previosly insured is less likely to acquire a new insurance service (had already showed commitment)\n",
    "**TRUE**\n",
    "- The higher Annual Premium, the lower interest in insurance\n",
    "**FALSE**\n",
    "- The higher vintage, the higher interest in insurance\n",
    "**FALSE**\n",
    "- The higher age, the higher interest in insurance\n",
    "**TRUE**"
   ]
  },
  {
   "cell_type": "markdown",
   "id": "d481d6c8",
   "metadata": {
    "heading_collapsed": true
   },
   "source": [
    "# Feature Engineering"
   ]
  },
  {
   "cell_type": "code",
   "execution_count": 100,
   "id": "62830511",
   "metadata": {
    "ExecuteTime": {
     "end_time": "2022-04-20T00:00:41.262306Z",
     "start_time": "2022-04-20T00:00:41.232175Z"
    },
    "hidden": true
   },
   "outputs": [],
   "source": [
    "df2 =  df1.copy()"
   ]
  },
  {
   "cell_type": "code",
   "execution_count": 101,
   "id": "1e636eb6",
   "metadata": {
    "ExecuteTime": {
     "end_time": "2022-04-20T00:00:41.418890Z",
     "start_time": "2022-04-20T00:00:41.263314Z"
    },
    "hidden": true
   },
   "outputs": [],
   "source": [
    "# vehicle age\n",
    "df2['vehicle_age'] =  df2['vehicle_age'].apply( lambda x: 'over_2_years' if x == '> 2 Years' else 'between_1_2_year' if x == '1-2 Year' else 'below_1_year' ) \n",
    "\n",
    "# vehicle damage\n",
    "df2['vehicle_damage'] =  df2['vehicle_damage'].apply( lambda x: 1 if x == 'Yes' else 0 )"
   ]
  },
  {
   "cell_type": "markdown",
   "id": "49a03dbc",
   "metadata": {},
   "source": [
    "# EDA"
   ]
  },
  {
   "cell_type": "code",
   "execution_count": 102,
   "id": "9d836f58",
   "metadata": {
    "ExecuteTime": {
     "end_time": "2022-04-20T00:00:41.466898Z",
     "start_time": "2022-04-20T00:00:41.419888Z"
    }
   },
   "outputs": [],
   "source": [
    "df3 = df2.copy()"
   ]
  },
  {
   "cell_type": "code",
   "execution_count": 103,
   "id": "2f71e00c",
   "metadata": {
    "ExecuteTime": {
     "end_time": "2022-04-20T00:00:41.528783Z",
     "start_time": "2022-04-20T00:00:41.467899Z"
    }
   },
   "outputs": [],
   "source": [
    "aux1 = df3[df3['response'] == 1]\n",
    "aux2 = df3[df3['response'] == 0]"
   ]
  },
  {
   "cell_type": "markdown",
   "id": "5e368c81",
   "metadata": {
    "ExecuteTime": {
     "end_time": "2022-04-14T15:34:24.224084Z",
     "start_time": "2022-04-14T15:34:24.218211Z"
    }
   },
   "source": [
    "## People is equaly interested in insurance regardless their gender"
   ]
  },
  {
   "cell_type": "code",
   "execution_count": 104,
   "id": "347ee005",
   "metadata": {
    "ExecuteTime": {
     "end_time": "2022-04-20T00:00:41.606578Z",
     "start_time": "2022-04-20T00:00:41.529783Z"
    },
    "scrolled": true
   },
   "outputs": [
    {
     "data": {
      "text/html": [
       "<div>\n",
       "<style scoped>\n",
       "    .dataframe tbody tr th:only-of-type {\n",
       "        vertical-align: middle;\n",
       "    }\n",
       "\n",
       "    .dataframe tbody tr th {\n",
       "        vertical-align: top;\n",
       "    }\n",
       "\n",
       "    .dataframe thead th {\n",
       "        text-align: right;\n",
       "    }\n",
       "</style>\n",
       "<table border=\"1\" class=\"dataframe\">\n",
       "  <thead>\n",
       "    <tr style=\"text-align: right;\">\n",
       "      <th>response</th>\n",
       "      <th>0</th>\n",
       "      <th>1</th>\n",
       "      <th>percent</th>\n",
       "    </tr>\n",
       "    <tr>\n",
       "      <th>gender</th>\n",
       "      <th></th>\n",
       "      <th></th>\n",
       "      <th></th>\n",
       "    </tr>\n",
       "  </thead>\n",
       "  <tbody>\n",
       "    <tr>\n",
       "      <th>Female</th>\n",
       "      <td>141145</td>\n",
       "      <td>16306</td>\n",
       "      <td>0.10</td>\n",
       "    </tr>\n",
       "    <tr>\n",
       "      <th>Male</th>\n",
       "      <td>159803</td>\n",
       "      <td>25744</td>\n",
       "      <td>0.14</td>\n",
       "    </tr>\n",
       "  </tbody>\n",
       "</table>\n",
       "</div>"
      ],
      "text/plain": [
       "response       0      1  percent\n",
       "gender                          \n",
       "Female    141145  16306     0.10\n",
       "Male      159803  25744     0.14"
      ]
     },
     "execution_count": 104,
     "metadata": {},
     "output_type": "execute_result"
    }
   ],
   "source": [
    "aux10=pd.crosstab(df3['gender'], df3['response'])\n",
    "aux10['percent'] = aux10[1]/(aux10[1]+aux10[0])\n",
    "aux10"
   ]
  },
  {
   "cell_type": "markdown",
   "id": "9904f4f5",
   "metadata": {},
   "source": [
    "## The older the vehicle the greater is the interest in acquiring an insurance\n"
   ]
  },
  {
   "cell_type": "code",
   "execution_count": 105,
   "id": "550989b6",
   "metadata": {
    "ExecuteTime": {
     "end_time": "2022-04-20T00:00:41.622535Z",
     "start_time": "2022-04-20T00:00:41.611564Z"
    }
   },
   "outputs": [
    {
     "name": "stdout",
     "output_type": "stream",
     "text": [
      "age of interested     (mean): 43.407158145065395\n",
      "age of not interested (mean): 38.189421428286614\n"
     ]
    }
   ],
   "source": [
    "x = aux1['age'].mean()\n",
    "y = aux2['age'].mean()\n",
    "\n",
    "print('age of interested     (mean):', x)\n",
    "print('age of not interested (mean):', y)"
   ]
  },
  {
   "cell_type": "code",
   "execution_count": 106,
   "id": "293c804d",
   "metadata": {
    "ExecuteTime": {
     "end_time": "2022-04-20T00:00:42.863383Z",
     "start_time": "2022-04-20T00:00:41.623532Z"
    }
   },
   "outputs": [
    {
     "data": {
      "text/plain": [
       "<AxesSubplot:xlabel='response', ylabel='age'>"
      ]
     },
     "execution_count": 106,
     "metadata": {},
     "output_type": "execute_result"
    },
    {
     "data": {
      "image/png": "[encoded data removed]",
      "text/plain": [
       "<Figure size 432x288 with 1 Axes>"
      ]
     },
     "metadata": {
      "needs_background": "light"
     },
     "output_type": "display_data"
    }
   ],
   "source": [
    "#'age'\n",
    "sns.boxplot( x='response', y='age', data=df3 )\n"
   ]
  },
  {
   "cell_type": "code",
   "execution_count": 107,
   "id": "68065ec4",
   "metadata": {
    "ExecuteTime": {
     "end_time": "2022-04-20T00:00:43.195210Z",
     "start_time": "2022-04-20T00:00:42.865382Z"
    },
    "cell_style": "split"
   },
   "outputs": [
    {
     "data": {
      "image/png": "[encoded data removed]",
      "text/plain": [
       "<Figure size 432x288 with 1 Axes>"
      ]
     },
     "metadata": {
      "needs_background": "light"
     },
     "output_type": "display_data"
    }
   ],
   "source": [
    "aux00 = df3.loc[df3['response'] == 0, 'age']\n",
    "sns.histplot( aux00 );"
   ]
  },
  {
   "cell_type": "code",
   "execution_count": 108,
   "id": "943665ec",
   "metadata": {
    "ExecuteTime": {
     "end_time": "2022-04-20T00:00:43.401272Z",
     "start_time": "2022-04-20T00:00:43.195762Z"
    },
    "cell_style": "split"
   },
   "outputs": [
    {
     "data": {
      "image/png": "[encoded data removed]",
      "text/plain": [
       "<Figure size 432x288 with 1 Axes>"
      ]
     },
     "metadata": {
      "needs_background": "light"
     },
     "output_type": "display_data"
    }
   ],
   "source": [
    "aux00 = df3.loc[df3['response'] == 1, 'age']\n",
    "sns.histplot( aux00 );"
   ]
  },
  {
   "cell_type": "markdown",
   "id": "b4c5e53b",
   "metadata": {},
   "source": [
    "## The older vehicle the greater is the interest in acquiring an insurance\n"
   ]
  },
  {
   "cell_type": "code",
   "execution_count": 109,
   "id": "b800e992",
   "metadata": {
    "ExecuteTime": {
     "end_time": "2022-04-20T00:00:43.449144Z",
     "start_time": "2022-04-20T00:00:43.402269Z"
    },
    "cell_style": "split",
    "hide_input": false,
    "scrolled": true
   },
   "outputs": [
    {
     "data": {
      "text/html": [
       "<div>\n",
       "<style scoped>\n",
       "    .dataframe tbody tr th:only-of-type {\n",
       "        vertical-align: middle;\n",
       "    }\n",
       "\n",
       "    .dataframe tbody tr th {\n",
       "        vertical-align: top;\n",
       "    }\n",
       "\n",
       "    .dataframe thead th {\n",
       "        text-align: right;\n",
       "    }\n",
       "</style>\n",
       "<table border=\"1\" class=\"dataframe\">\n",
       "  <thead>\n",
       "    <tr style=\"text-align: right;\">\n",
       "      <th></th>\n",
       "      <th>vehicle_age</th>\n",
       "      <th>response</th>\n",
       "      <th>0</th>\n",
       "    </tr>\n",
       "  </thead>\n",
       "  <tbody>\n",
       "    <tr>\n",
       "      <th>0</th>\n",
       "      <td>between_1_2_year</td>\n",
       "      <td>0</td>\n",
       "      <td>0.43</td>\n",
       "    </tr>\n",
       "    <tr>\n",
       "      <th>1</th>\n",
       "      <td>below_1_year</td>\n",
       "      <td>0</td>\n",
       "      <td>0.41</td>\n",
       "    </tr>\n",
       "    <tr>\n",
       "      <th>2</th>\n",
       "      <td>between_1_2_year</td>\n",
       "      <td>1</td>\n",
       "      <td>0.09</td>\n",
       "    </tr>\n",
       "    <tr>\n",
       "      <th>3</th>\n",
       "      <td>over_2_years</td>\n",
       "      <td>0</td>\n",
       "      <td>0.03</td>\n",
       "    </tr>\n",
       "    <tr>\n",
       "      <th>4</th>\n",
       "      <td>below_1_year</td>\n",
       "      <td>1</td>\n",
       "      <td>0.02</td>\n",
       "    </tr>\n",
       "    <tr>\n",
       "      <th>5</th>\n",
       "      <td>over_2_years</td>\n",
       "      <td>1</td>\n",
       "      <td>0.01</td>\n",
       "    </tr>\n",
       "  </tbody>\n",
       "</table>\n",
       "</div>"
      ],
      "text/plain": [
       "        vehicle_age  response    0\n",
       "0  between_1_2_year         0 0.43\n",
       "1      below_1_year         0 0.41\n",
       "2  between_1_2_year         1 0.09\n",
       "3      over_2_years         0 0.03\n",
       "4      below_1_year         1 0.02\n",
       "5      over_2_years         1 0.01"
      ]
     },
     "execution_count": 109,
     "metadata": {},
     "output_type": "execute_result"
    }
   ],
   "source": [
    "#'vehicle_age'\n",
    "df3[['vehicle_age', 'response']].value_counts( normalize=True ).reset_index()"
   ]
  },
  {
   "cell_type": "code",
   "execution_count": 110,
   "id": "8718f56a",
   "metadata": {
    "ExecuteTime": {
     "end_time": "2022-04-20T00:00:43.511075Z",
     "start_time": "2022-04-20T00:00:43.450141Z"
    },
    "cell_style": "split",
    "hide_input": false
   },
   "outputs": [
    {
     "data": {
      "text/html": [
       "<div>\n",
       "<style scoped>\n",
       "    .dataframe tbody tr th:only-of-type {\n",
       "        vertical-align: middle;\n",
       "    }\n",
       "\n",
       "    .dataframe tbody tr th {\n",
       "        vertical-align: top;\n",
       "    }\n",
       "\n",
       "    .dataframe thead th {\n",
       "        text-align: right;\n",
       "    }\n",
       "</style>\n",
       "<table border=\"1\" class=\"dataframe\">\n",
       "  <thead>\n",
       "    <tr style=\"text-align: right;\">\n",
       "      <th>response</th>\n",
       "      <th>0</th>\n",
       "      <th>1</th>\n",
       "      <th>percent</th>\n",
       "    </tr>\n",
       "    <tr>\n",
       "      <th>vehicle_age</th>\n",
       "      <th></th>\n",
       "      <th></th>\n",
       "      <th></th>\n",
       "    </tr>\n",
       "  </thead>\n",
       "  <tbody>\n",
       "    <tr>\n",
       "      <th>below_1_year</th>\n",
       "      <td>141765</td>\n",
       "      <td>6518</td>\n",
       "      <td>0.04</td>\n",
       "    </tr>\n",
       "    <tr>\n",
       "      <th>between_1_2_year</th>\n",
       "      <td>149044</td>\n",
       "      <td>31317</td>\n",
       "      <td>0.17</td>\n",
       "    </tr>\n",
       "    <tr>\n",
       "      <th>over_2_years</th>\n",
       "      <td>10139</td>\n",
       "      <td>4215</td>\n",
       "      <td>0.29</td>\n",
       "    </tr>\n",
       "  </tbody>\n",
       "</table>\n",
       "</div>"
      ],
      "text/plain": [
       "response               0      1  percent\n",
       "vehicle_age                             \n",
       "below_1_year      141765   6518     0.04\n",
       "between_1_2_year  149044  31317     0.17\n",
       "over_2_years       10139   4215     0.29"
      ]
     },
     "execution_count": 110,
     "metadata": {},
     "output_type": "execute_result"
    }
   ],
   "source": [
    "aux9=pd.crosstab(df3['vehicle_age'], df3['response'])\n",
    "aux9['percent'] = aux9[1]/(aux9[1]+aux9[0])\n",
    "aux9"
   ]
  },
  {
   "cell_type": "code",
   "execution_count": 111,
   "id": "2d46f88f",
   "metadata": {
    "ExecuteTime": {
     "end_time": "2022-04-20T00:00:43.622778Z",
     "start_time": "2022-04-20T00:00:43.512075Z"
    },
    "scrolled": true
   },
   "outputs": [
    {
     "data": {
      "text/html": [
       "<div>\n",
       "<style scoped>\n",
       "    .dataframe tbody tr th:only-of-type {\n",
       "        vertical-align: middle;\n",
       "    }\n",
       "\n",
       "    .dataframe tbody tr th {\n",
       "        vertical-align: top;\n",
       "    }\n",
       "\n",
       "    .dataframe thead th {\n",
       "        text-align: right;\n",
       "    }\n",
       "</style>\n",
       "<table border=\"1\" class=\"dataframe\">\n",
       "  <thead>\n",
       "    <tr style=\"text-align: right;\">\n",
       "      <th></th>\n",
       "      <th>response</th>\n",
       "      <th>vehicle_age</th>\n",
       "      <th>vehicle_age_perc</th>\n",
       "    </tr>\n",
       "  </thead>\n",
       "  <tbody>\n",
       "    <tr>\n",
       "      <th>0</th>\n",
       "      <td>0</td>\n",
       "      <td>300948</td>\n",
       "      <td>0.88</td>\n",
       "    </tr>\n",
       "    <tr>\n",
       "      <th>1</th>\n",
       "      <td>1</td>\n",
       "      <td>42050</td>\n",
       "      <td>0.12</td>\n",
       "    </tr>\n",
       "  </tbody>\n",
       "</table>\n",
       "</div>"
      ],
      "text/plain": [
       "   response  vehicle_age  vehicle_age_perc\n",
       "0         0       300948              0.88\n",
       "1         1        42050              0.12"
      ]
     },
     "execution_count": 111,
     "metadata": {},
     "output_type": "execute_result"
    },
    {
     "data": {
      "image/png": "[encoded data removed]",
      "text/plain": [
       "<Figure size 432x288 with 1 Axes>"
      ]
     },
     "metadata": {
      "needs_background": "light"
     },
     "output_type": "display_data"
    }
   ],
   "source": [
    "aux = df3[['vehicle_age', 'response']].groupby( 'response' ).count().reset_index()\n",
    "aux['vehicle_age_perc'] = aux['vehicle_age'] / aux['vehicle_age'].sum()\n",
    "sns.barplot( x='response', y='vehicle_age', data=aux );\n",
    "aux.head()"
   ]
  },
  {
   "cell_type": "markdown",
   "id": "ac339d0c",
   "metadata": {},
   "source": [
    "## If the owner *damaged* his vehicle before, he is more likely to acquire an insurance\n"
   ]
  },
  {
   "cell_type": "code",
   "execution_count": 112,
   "id": "e673afab",
   "metadata": {
    "ExecuteTime": {
     "end_time": "2022-04-20T00:00:43.829614Z",
     "start_time": "2022-04-20T00:00:43.623776Z"
    },
    "scrolled": true
   },
   "outputs": [
    {
     "data": {
      "text/html": [
       "<div>\n",
       "<style scoped>\n",
       "    .dataframe tbody tr th:only-of-type {\n",
       "        vertical-align: middle;\n",
       "    }\n",
       "\n",
       "    .dataframe tbody tr th {\n",
       "        vertical-align: top;\n",
       "    }\n",
       "\n",
       "    .dataframe thead th {\n",
       "        text-align: right;\n",
       "    }\n",
       "</style>\n",
       "<table border=\"1\" class=\"dataframe\">\n",
       "  <thead>\n",
       "    <tr style=\"text-align: right;\">\n",
       "      <th></th>\n",
       "      <th>response</th>\n",
       "      <th>vehicle_damage</th>\n",
       "      <th>vehicle_damage_perc</th>\n",
       "    </tr>\n",
       "  </thead>\n",
       "  <tbody>\n",
       "    <tr>\n",
       "      <th>0</th>\n",
       "      <td>0</td>\n",
       "      <td>132015</td>\n",
       "      <td>0.76</td>\n",
       "    </tr>\n",
       "    <tr>\n",
       "      <th>1</th>\n",
       "      <td>1</td>\n",
       "      <td>41180</td>\n",
       "      <td>0.24</td>\n",
       "    </tr>\n",
       "  </tbody>\n",
       "</table>\n",
       "</div>"
      ],
      "text/plain": [
       "   response  vehicle_damage  vehicle_damage_perc\n",
       "0         0          132015                 0.76\n",
       "1         1           41180                 0.24"
      ]
     },
     "execution_count": 112,
     "metadata": {},
     "output_type": "execute_result"
    },
    {
     "data": {
      "image/png": "[encoded data removed]",
      "text/plain": [
       "<Figure size 432x288 with 1 Axes>"
      ]
     },
     "metadata": {
      "needs_background": "light"
     },
     "output_type": "display_data"
    }
   ],
   "source": [
    "#'vehicle_damage'\n",
    "aux = df3[['vehicle_damage', 'response']].groupby( 'response' ).sum().reset_index()\n",
    "aux.head()\n",
    "aux['vehicle_damage_perc'] = aux['vehicle_damage'] / aux['vehicle_damage'].sum()\n",
    "sns.barplot( x='response', y='vehicle_damage', data=aux );\n",
    "aux.head()"
   ]
  },
  {
   "cell_type": "markdown",
   "id": "0c49c468",
   "metadata": {},
   "source": [
    "## People who has driving license are more interested in insurance\n"
   ]
  },
  {
   "cell_type": "code",
   "execution_count": 113,
   "id": "6682c673",
   "metadata": {
    "ExecuteTime": {
     "end_time": "2022-04-20T00:00:43.923461Z",
     "start_time": "2022-04-20T00:00:43.830202Z"
    },
    "scrolled": true
   },
   "outputs": [
    {
     "data": {
      "text/plain": [
       "<bound method NDFrame.head of    response  driving_license  driving_license_perc\n",
       "0         0           300273                  0.88\n",
       "1         1            42013                  0.12>"
      ]
     },
     "execution_count": 113,
     "metadata": {},
     "output_type": "execute_result"
    },
    {
     "data": {
      "image/png": "[encoded data removed]",
      "text/plain": [
       "<Figure size 432x288 with 1 Axes>"
      ]
     },
     "metadata": {
      "needs_background": "light"
     },
     "output_type": "display_data"
    }
   ],
   "source": [
    "#'driving_license'\n",
    "aux = df3[['driving_license', 'response']].groupby( 'response' ).sum().reset_index()\n",
    "aux.head()\n",
    "aux['driving_license_perc'] = aux['driving_license'] / aux['driving_license'].sum()\n",
    "sns.barplot( x='response', y='driving_license', data=aux )\n",
    "aux.head"
   ]
  },
  {
   "cell_type": "markdown",
   "id": "68b85a60",
   "metadata": {
    "ExecuteTime": {
     "end_time": "2022-04-03T20:40:27.753052Z",
     "start_time": "2022-04-03T20:40:27.749841Z"
    }
   },
   "source": [
    " ## Different regions have different interesst in insurance\n"
   ]
  },
  {
   "cell_type": "code",
   "execution_count": 114,
   "id": "520bf7f2",
   "metadata": {
    "ExecuteTime": {
     "end_time": "2022-04-20T00:00:44.097980Z",
     "start_time": "2022-04-20T00:00:43.924216Z"
    },
    "scrolled": true
   },
   "outputs": [
    {
     "data": {
      "image/png": "[encoded data removed]",
      "text/plain": [
       "<Figure size 432x288 with 1 Axes>"
      ]
     },
     "metadata": {
      "needs_background": "light"
     },
     "output_type": "display_data"
    }
   ],
   "source": [
    "# 'region_code'\n",
    "aux0 = df3[['id', 'region_code', 'response']].groupby( ['region_code', 'response'] ).count().reset_index()\n",
    "\n",
    "sns.scatterplot( x='region_code', y='id', hue='response', data=aux0 );"
   ]
  },
  {
   "cell_type": "markdown",
   "id": "6cf79b12",
   "metadata": {
    "ExecuteTime": {
     "end_time": "2022-04-03T20:45:02.915787Z",
     "start_time": "2022-04-03T20:45:02.911673Z"
    }
   },
   "source": [
    "## Different policy sales channel have different outcome for the customer"
   ]
  },
  {
   "cell_type": "code",
   "execution_count": 115,
   "id": "c6c09d3f",
   "metadata": {
    "ExecuteTime": {
     "end_time": "2022-04-20T00:00:44.997159Z",
     "start_time": "2022-04-20T00:00:44.101932Z"
    }
   },
   "outputs": [
    {
     "data": {
      "image/png": "[encoded data removed]",
      "text/plain": [
       "<Figure size 1728x864 with 1 Axes>"
      ]
     },
     "metadata": {
      "needs_background": "light"
     },
     "output_type": "display_data"
    }
   ],
   "source": [
    "#'policy_sales_channel'\n",
    "plt.figure( figsize=(24, 12 ))\n",
    "aux = df3[['policy_sales_channel', 'response']].groupby( 'policy_sales_channel').sum().reset_index()\n",
    "sns.barplot( x='response', y='policy_sales_channel', data=aux );"
   ]
  },
  {
   "cell_type": "markdown",
   "id": "d68d73f6",
   "metadata": {},
   "source": [
    "## Who was previosly insured is less likely to acquire a new insurance service (had already showed commitment)\n"
   ]
  },
  {
   "cell_type": "code",
   "execution_count": 116,
   "id": "b8ab14be",
   "metadata": {
    "ExecuteTime": {
     "end_time": "2022-04-20T00:00:45.051294Z",
     "start_time": "2022-04-20T00:00:44.999148Z"
    },
    "scrolled": false
   },
   "outputs": [
    {
     "data": {
      "text/html": [
       "<div>\n",
       "<style scoped>\n",
       "    .dataframe tbody tr th:only-of-type {\n",
       "        vertical-align: middle;\n",
       "    }\n",
       "\n",
       "    .dataframe tbody tr th {\n",
       "        vertical-align: top;\n",
       "    }\n",
       "\n",
       "    .dataframe thead th {\n",
       "        text-align: right;\n",
       "    }\n",
       "</style>\n",
       "<table border=\"1\" class=\"dataframe\">\n",
       "  <thead>\n",
       "    <tr style=\"text-align: right;\">\n",
       "      <th>response</th>\n",
       "      <th>0</th>\n",
       "      <th>1</th>\n",
       "    </tr>\n",
       "    <tr>\n",
       "      <th>previously_insured</th>\n",
       "      <th></th>\n",
       "      <th></th>\n",
       "    </tr>\n",
       "  </thead>\n",
       "  <tbody>\n",
       "    <tr>\n",
       "      <th>0</th>\n",
       "      <td>0.77</td>\n",
       "      <td>0.23</td>\n",
       "    </tr>\n",
       "    <tr>\n",
       "      <th>1</th>\n",
       "      <td>1.00</td>\n",
       "      <td>0.00</td>\n",
       "    </tr>\n",
       "  </tbody>\n",
       "</table>\n",
       "</div>"
      ],
      "text/plain": [
       "response              0    1\n",
       "previously_insured          \n",
       "0                  0.77 0.23\n",
       "1                  1.00 0.00"
      ]
     },
     "execution_count": 116,
     "metadata": {},
     "output_type": "execute_result"
    }
   ],
   "source": [
    "#'previously_insured'\n",
    "pd.crosstab( df3['previously_insured'], df3['response'] ).apply( lambda x: x / x.sum(), axis=1 )"
   ]
  },
  {
   "cell_type": "markdown",
   "id": "7f6dda3e",
   "metadata": {
    "ExecuteTime": {
     "end_time": "2022-04-03T20:54:11.667702Z",
     "start_time": "2022-04-03T20:54:11.632127Z"
    }
   },
   "source": [
    "## The higher Annual Premium, the lower interest in insurance"
   ]
  },
  {
   "cell_type": "code",
   "execution_count": 117,
   "id": "c7a3709a",
   "metadata": {
    "ExecuteTime": {
     "end_time": "2022-04-20T00:00:46.309934Z",
     "start_time": "2022-04-20T00:00:45.053257Z"
    },
    "scrolled": true
   },
   "outputs": [
    {
     "data": {
      "text/plain": [
       "<AxesSubplot:xlabel='response', ylabel='annual_premium'>"
      ]
     },
     "execution_count": 117,
     "metadata": {},
     "output_type": "execute_result"
    },
    {
     "data": {
      "image/png": "[encoded data removed]",
      "text/plain": [
       "<Figure size 432x288 with 1 Axes>"
      ]
     },
     "metadata": {
      "needs_background": "light"
     },
     "output_type": "display_data"
    }
   ],
   "source": [
    "#'annual_premium'\n",
    "sns.boxplot( x='response', y='annual_premium', data=df3 )"
   ]
  },
  {
   "cell_type": "code",
   "execution_count": 118,
   "id": "7fcda2bb",
   "metadata": {
    "ExecuteTime": {
     "end_time": "2022-04-20T00:00:47.581018Z",
     "start_time": "2022-04-20T00:00:46.310933Z"
    }
   },
   "outputs": [
    {
     "data": {
      "text/plain": [
       "<AxesSubplot:xlabel='response', ylabel='annual_premium'>"
      ]
     },
     "execution_count": 118,
     "metadata": {},
     "output_type": "execute_result"
    },
    {
     "data": {
      "image/png": "[encoded data removed]",
      "text/plain": [
       "<Figure size 432x288 with 1 Axes>"
      ]
     },
     "metadata": {
      "needs_background": "light"
     },
     "output_type": "display_data"
    }
   ],
   "source": [
    "#'annual_premium'\n",
    "aux = df3[df3['annual_premium'] < 100000]\n",
    "sns.boxplot( x='response', y='annual_premium', data=aux )"
   ]
  },
  {
   "cell_type": "code",
   "execution_count": 119,
   "id": "aa14fc9c",
   "metadata": {
    "ExecuteTime": {
     "end_time": "2022-04-20T00:00:47.628678Z",
     "start_time": "2022-04-20T00:00:47.583017Z"
    }
   },
   "outputs": [
    {
     "name": "stdout",
     "output_type": "stream",
     "text": [
      "Annual premium interested     (mean): 31577.24551724138\n",
      "Annual premium not interested (mean): 30421.19942315616\n"
     ]
    }
   ],
   "source": [
    "aux1 = df3[df3['response'] == 1]\n",
    "aux2 = df3[df3['response'] == 0]\n",
    "\n",
    "x = aux1['annual_premium'].mean()\n",
    "y = aux2['annual_premium'].mean()\n",
    "\n",
    "print('Annual premium interested     (mean):', x)\n",
    "print('Annual premium not interested (mean):', y)"
   ]
  },
  {
   "cell_type": "code",
   "execution_count": 120,
   "id": "5c27fd70",
   "metadata": {
    "ExecuteTime": {
     "end_time": "2022-04-20T00:00:53.718675Z",
     "start_time": "2022-04-20T00:00:47.633674Z"
    }
   },
   "outputs": [
    {
     "data": {
      "image/png": "[encoded data removed]",
      "text/plain": [
       "<Figure size 432x288 with 1 Axes>"
      ]
     },
     "metadata": {
      "needs_background": "light"
     },
     "output_type": "display_data"
    }
   ],
   "source": [
    "aux3 = df3[df3['annual_premium'] > 3000]\n",
    "\n",
    "sns.histplot(aux3, x=\"annual_premium\", hue=\"response\", kde = True)\n",
    "sns.despine(offset = 10, trim = True);"
   ]
  },
  {
   "cell_type": "markdown",
   "id": "beea5fc9",
   "metadata": {},
   "source": [
    "## The higher vintage, the higher interest in insurance"
   ]
  },
  {
   "cell_type": "code",
   "execution_count": 121,
   "id": "5d61ccf7",
   "metadata": {
    "ExecuteTime": {
     "end_time": "2022-04-20T00:00:53.876482Z",
     "start_time": "2022-04-20T00:00:53.720669Z"
    },
    "cell_style": "split",
    "scrolled": false
   },
   "outputs": [
    {
     "data": {
      "text/plain": [
       "<AxesSubplot:xlabel='vintage', ylabel='Count'>"
      ]
     },
     "execution_count": 121,
     "metadata": {},
     "output_type": "execute_result"
    },
    {
     "data": {
      "image/png": "[encoded data removed]",
      "text/plain": [
       "<Figure size 432x288 with 1 Axes>"
      ]
     },
     "metadata": {
      "needs_background": "light"
     },
     "output_type": "display_data"
    }
   ],
   "source": [
    "aux00 = df3.loc[df3['response'] == 1, 'vintage']\n",
    "sns.histplot( aux00 )"
   ]
  },
  {
   "cell_type": "code",
   "execution_count": 122,
   "id": "05027c3e",
   "metadata": {
    "ExecuteTime": {
     "end_time": "2022-04-20T00:00:54.176933Z",
     "start_time": "2022-04-20T00:00:53.877266Z"
    },
    "cell_style": "split"
   },
   "outputs": [
    {
     "data": {
      "text/plain": [
       "<AxesSubplot:xlabel='vintage', ylabel='Count'>"
      ]
     },
     "execution_count": 122,
     "metadata": {},
     "output_type": "execute_result"
    },
    {
     "data": {
      "image/png": "[encoded data removed]",
      "text/plain": [
       "<Figure size 432x288 with 1 Axes>"
      ]
     },
     "metadata": {
      "needs_background": "light"
     },
     "output_type": "display_data"
    }
   ],
   "source": [
    "aux00 = df3.loc[df3['response'] == 0, 'vintage']\n",
    "sns.histplot( aux00 )"
   ]
  },
  {
   "cell_type": "code",
   "execution_count": 123,
   "id": "27737b9d",
   "metadata": {
    "ExecuteTime": {
     "end_time": "2022-04-20T00:00:54.193004Z",
     "start_time": "2022-04-20T00:00:54.177817Z"
    }
   },
   "outputs": [
    {
     "name": "stdout",
     "output_type": "stream",
     "text": [
      "vintage of interested     (mean): 153.93671819262784\n",
      "vintage of not interested (mean): 154.3546227255207\n"
     ]
    }
   ],
   "source": [
    "x = aux1['vintage'].mean()\n",
    "y = aux2['vintage'].mean()\n",
    "\n",
    "print('vintage of interested     (mean):', x)\n",
    "print('vintage of not interested (mean):', y)"
   ]
  },
  {
   "cell_type": "code",
   "execution_count": 124,
   "id": "305b10a3",
   "metadata": {
    "ExecuteTime": {
     "end_time": "2022-04-20T00:00:55.560121Z",
     "start_time": "2022-04-20T00:00:54.194788Z"
    }
   },
   "outputs": [
    {
     "data": {
      "image/png": "[encoded data removed]",
      "text/plain": [
       "<Figure size 432x288 with 1 Axes>"
      ]
     },
     "metadata": {
      "needs_background": "light"
     },
     "output_type": "display_data"
    }
   ],
   "source": [
    "sns.boxplot(x = 'response', y = 'vintage', data = df3)\n",
    "sns.despine(offset = 10, trim = True);"
   ]
  },
  {
   "cell_type": "markdown",
   "id": "63f5ed81",
   "metadata": {},
   "source": [
    "## The higher age, the higher interest in insurance"
   ]
  },
  {
   "cell_type": "code",
   "execution_count": 125,
   "id": "c3b70be4",
   "metadata": {
    "ExecuteTime": {
     "end_time": "2022-04-20T00:00:55.576078Z",
     "start_time": "2022-04-20T00:00:55.561118Z"
    }
   },
   "outputs": [
    {
     "name": "stdout",
     "output_type": "stream",
     "text": [
      "age of interested     (mean): 43.407158145065395\n",
      "age of not interested (mean): 38.189421428286614\n"
     ]
    }
   ],
   "source": [
    "x = aux1['age'].mean()\n",
    "y = aux2['age'].mean()\n",
    "\n",
    "print('age of interested     (mean):', x)\n",
    "print('age of not interested (mean):', y)"
   ]
  },
  {
   "cell_type": "code",
   "execution_count": 126,
   "id": "095af941",
   "metadata": {
    "ExecuteTime": {
     "end_time": "2022-04-20T00:00:56.865628Z",
     "start_time": "2022-04-20T00:00:55.578072Z"
    },
    "scrolled": true
   },
   "outputs": [
    {
     "data": {
      "image/png": "[encoded data removed]",
      "text/plain": [
       "<Figure size 432x288 with 1 Axes>"
      ]
     },
     "metadata": {
      "needs_background": "light"
     },
     "output_type": "display_data"
    }
   ],
   "source": [
    "sns.boxplot(x = 'response', y = 'age', data = df3);\n",
    "sns.despine(offset = 10, trim = True)"
   ]
  },
  {
   "cell_type": "markdown",
   "id": "f0bc1e48",
   "metadata": {},
   "source": [
    "## Multivariable Analysis"
   ]
  },
  {
   "cell_type": "markdown",
   "id": "5d5a250b",
   "metadata": {},
   "source": [
    "### Numerical Attributes"
   ]
  },
  {
   "cell_type": "code",
   "execution_count": 127,
   "id": "bf0b478c",
   "metadata": {
    "ExecuteTime": {
     "end_time": "2022-04-20T00:00:57.024204Z",
     "start_time": "2022-04-20T00:00:56.867622Z"
    },
    "scrolled": false
   },
   "outputs": [
    {
     "data": {
      "image/png": "[encoded data removed]",
      "text/plain": [
       "<Figure size 864x576 with 2 Axes>"
      ]
     },
     "metadata": {
      "needs_background": "light"
     },
     "output_type": "display_data"
    }
   ],
   "source": [
    "fig = plt.subplots(figsize = (12,8))\n",
    "correlation = num_attributes.corr(method = 'pearson')\n",
    "sns.heatmap(correlation, annot = True);"
   ]
  },
  {
   "cell_type": "markdown",
   "id": "7c0bd393",
   "metadata": {},
   "source": [
    "### Categorical Attributes"
   ]
  },
  {
   "cell_type": "code",
   "execution_count": 128,
   "id": "c43b2430",
   "metadata": {
    "ExecuteTime": {
     "end_time": "2022-04-20T00:00:59.415703Z",
     "start_time": "2022-04-20T00:00:57.025201Z"
    }
   },
   "outputs": [
    {
     "data": {
      "image/png": "[encoded data removed]",
      "text/plain": [
       "<Figure size 864x576 with 2 Axes>"
      ]
     },
     "metadata": {
      "needs_background": "light"
     },
     "output_type": "display_data"
    }
   ],
   "source": [
    "fig = plt.subplots(figsize = (12,8))\n",
    "sns.heatmap(pd.DataFrame(corr_cramer_v(cat_attributes)), annot=True);"
   ]
  },
  {
   "cell_type": "markdown",
   "id": "e31062b5",
   "metadata": {},
   "source": [
    "# Data Preparation"
   ]
  },
  {
   "cell_type": "code",
   "execution_count": 129,
   "id": "ab4af4df",
   "metadata": {
    "ExecuteTime": {
     "end_time": "2022-04-20T00:00:59.447791Z",
     "start_time": "2022-04-20T00:00:59.416701Z"
    }
   },
   "outputs": [],
   "source": [
    "df4=df3.copy()"
   ]
  },
  {
   "cell_type": "code",
   "execution_count": 130,
   "id": "879b63b8",
   "metadata": {
    "ExecuteTime": {
     "end_time": "2022-04-20T00:00:59.463013Z",
     "start_time": "2022-04-20T00:00:59.448745Z"
    },
    "scrolled": false
   },
   "outputs": [
    {
     "data": {
      "text/plain": [
       "Index(['id', 'gender', 'age', 'driving_license', 'region_code',\n",
       "       'previously_insured', 'vehicle_age', 'vehicle_damage', 'annual_premium',\n",
       "       'policy_sales_channel', 'vintage', 'response'],\n",
       "      dtype='object')"
      ]
     },
     "execution_count": 130,
     "metadata": {},
     "output_type": "execute_result"
    }
   ],
   "source": [
    "df4.columns"
   ]
  },
  {
   "cell_type": "code",
   "execution_count": 131,
   "id": "a0b54126",
   "metadata": {
    "ExecuteTime": {
     "end_time": "2022-04-20T00:00:59.478954Z",
     "start_time": "2022-04-20T00:00:59.463990Z"
    },
    "scrolled": true
   },
   "outputs": [
    {
     "data": {
      "text/html": [
       "<div>\n",
       "<style scoped>\n",
       "    .dataframe tbody tr th:only-of-type {\n",
       "        vertical-align: middle;\n",
       "    }\n",
       "\n",
       "    .dataframe tbody tr th {\n",
       "        vertical-align: top;\n",
       "    }\n",
       "\n",
       "    .dataframe thead th {\n",
       "        text-align: right;\n",
       "    }\n",
       "</style>\n",
       "<table border=\"1\" class=\"dataframe\">\n",
       "  <thead>\n",
       "    <tr style=\"text-align: right;\">\n",
       "      <th></th>\n",
       "      <th>id</th>\n",
       "      <th>gender</th>\n",
       "      <th>age</th>\n",
       "      <th>driving_license</th>\n",
       "      <th>region_code</th>\n",
       "      <th>previously_insured</th>\n",
       "      <th>vehicle_age</th>\n",
       "      <th>vehicle_damage</th>\n",
       "      <th>annual_premium</th>\n",
       "      <th>policy_sales_channel</th>\n",
       "      <th>vintage</th>\n",
       "      <th>response</th>\n",
       "    </tr>\n",
       "  </thead>\n",
       "  <tbody>\n",
       "    <tr>\n",
       "      <th>102005</th>\n",
       "      <td>102006</td>\n",
       "      <td>Female</td>\n",
       "      <td>72</td>\n",
       "      <td>1</td>\n",
       "      <td>28.00</td>\n",
       "      <td>0</td>\n",
       "      <td>between_1_2_year</td>\n",
       "      <td>1</td>\n",
       "      <td>34386.00</td>\n",
       "      <td>26.00</td>\n",
       "      <td>177</td>\n",
       "      <td>0</td>\n",
       "    </tr>\n",
       "    <tr>\n",
       "      <th>262852</th>\n",
       "      <td>262853</td>\n",
       "      <td>Male</td>\n",
       "      <td>61</td>\n",
       "      <td>1</td>\n",
       "      <td>0.00</td>\n",
       "      <td>0</td>\n",
       "      <td>between_1_2_year</td>\n",
       "      <td>1</td>\n",
       "      <td>2630.00</td>\n",
       "      <td>26.00</td>\n",
       "      <td>50</td>\n",
       "      <td>0</td>\n",
       "    </tr>\n",
       "    <tr>\n",
       "      <th>220363</th>\n",
       "      <td>220364</td>\n",
       "      <td>Male</td>\n",
       "      <td>23</td>\n",
       "      <td>1</td>\n",
       "      <td>30.00</td>\n",
       "      <td>1</td>\n",
       "      <td>below_1_year</td>\n",
       "      <td>0</td>\n",
       "      <td>37672.00</td>\n",
       "      <td>152.00</td>\n",
       "      <td>143</td>\n",
       "      <td>0</td>\n",
       "    </tr>\n",
       "    <tr>\n",
       "      <th>70697</th>\n",
       "      <td>70698</td>\n",
       "      <td>Male</td>\n",
       "      <td>45</td>\n",
       "      <td>1</td>\n",
       "      <td>11.00</td>\n",
       "      <td>1</td>\n",
       "      <td>between_1_2_year</td>\n",
       "      <td>0</td>\n",
       "      <td>31151.00</td>\n",
       "      <td>124.00</td>\n",
       "      <td>130</td>\n",
       "      <td>0</td>\n",
       "    </tr>\n",
       "    <tr>\n",
       "      <th>169060</th>\n",
       "      <td>169061</td>\n",
       "      <td>Female</td>\n",
       "      <td>24</td>\n",
       "      <td>1</td>\n",
       "      <td>8.00</td>\n",
       "      <td>0</td>\n",
       "      <td>below_1_year</td>\n",
       "      <td>1</td>\n",
       "      <td>30383.00</td>\n",
       "      <td>152.00</td>\n",
       "      <td>65</td>\n",
       "      <td>0</td>\n",
       "    </tr>\n",
       "  </tbody>\n",
       "</table>\n",
       "</div>"
      ],
      "text/plain": [
       "            id  gender  age  driving_license  region_code  previously_insured       vehicle_age  vehicle_damage  annual_premium  policy_sales_channel  vintage  response\n",
       "102005  102006  Female   72                1        28.00                   0  between_1_2_year               1        34386.00                 26.00      177         0\n",
       "262852  262853    Male   61                1         0.00                   0  between_1_2_year               1         2630.00                 26.00       50         0\n",
       "220363  220364    Male   23                1        30.00                   1      below_1_year               0        37672.00                152.00      143         0\n",
       "70697    70698    Male   45                1        11.00                   1  between_1_2_year               0        31151.00                124.00      130         0\n",
       "169060  169061  Female   24                1         8.00                   0      below_1_year               1        30383.00                152.00       65         0"
      ]
     },
     "execution_count": 131,
     "metadata": {},
     "output_type": "execute_result"
    }
   ],
   "source": [
    "df4.head()"
   ]
  },
  {
   "cell_type": "markdown",
   "id": "8c8c345a",
   "metadata": {},
   "source": [
    "## Standardization"
   ]
  },
  {
   "cell_type": "code",
   "execution_count": 132,
   "id": "6b8c57cc",
   "metadata": {
    "ExecuteTime": {
     "end_time": "2022-04-20T00:00:59.509872Z",
     "start_time": "2022-04-20T00:00:59.479980Z"
    }
   },
   "outputs": [],
   "source": [
    "ss = pp.StandardScaler()\n",
    "\n",
    "# annual_premium\n",
    "df4['annual_premium'] = ss.fit_transform( df4[['annual_premium']].values )\n",
    "pkl.dump( ss, open('../health_insurance_cross_sell/src/features/annual_premium_scaler.pkl', 'wb' ) )"
   ]
  },
  {
   "cell_type": "markdown",
   "id": "6a41add2",
   "metadata": {},
   "source": [
    "## Rescaling"
   ]
  },
  {
   "cell_type": "code",
   "execution_count": 133,
   "id": "2f2328ac",
   "metadata": {
    "ExecuteTime": {
     "end_time": "2022-04-20T00:00:59.556746Z",
     "start_time": "2022-04-20T00:00:59.510872Z"
    }
   },
   "outputs": [],
   "source": [
    "mms_age = pp.MinMaxScaler()\n",
    "mms_vintage = pp.MinMaxScaler()\n",
    "\n",
    "# Age\n",
    "df4['age'] = mms_age.fit_transform( df4[['age']].values )\n",
    "pkl.dump( mms_age, open( '../health_insurance_cross_sell/src/features/age_scaler.pkl', 'wb' ) )\n",
    "# vintage\n",
    "df4['vintage'] = mms_vintage.fit_transform( df4[['vintage']].values )\n",
    "pkl.dump( mms_vintage, open( '../health_insurance_cross_sell/src/features/vintage_scaler.pkl', 'wb' ) )"
   ]
  },
  {
   "cell_type": "markdown",
   "id": "f93f5056",
   "metadata": {},
   "source": [
    "## Encoder"
   ]
  },
  {
   "cell_type": "code",
   "execution_count": 134,
   "id": "12ac7ddf",
   "metadata": {
    "ExecuteTime": {
     "end_time": "2022-04-20T00:00:59.715319Z",
     "start_time": "2022-04-20T00:00:59.557742Z"
    }
   },
   "outputs": [],
   "source": [
    "# gender - One Hot Encoding / Target Encoding\n",
    "target_encode_gender = df4.groupby('gender')['response'].mean()\n",
    "df4.loc[:,'gender'] = df4['gender'].map(target_encode_gender)\n",
    "pkl.dump( target_encode_gender, open('../health_insurance_cross_sell/src/features/target_encode_gender_scaler.pkl', 'wb' ) )\n",
    "\n",
    "# region_code - Target Encoding / Frequency Encoding\n",
    "df4['region_code'] = df4['region_code'].astype(np.int64)\n",
    "target_encode_region_code = df4.groupby( 'region_code' )['response'].mean()\n",
    "df4.loc[:, 'region_code'] = df4['region_code'].map( target_encode_region_code )\n",
    "pkl.dump( target_encode_region_code, open( '../health_insurance_cross_sell/src/features/target_encode_region_code_scaler.pkl', 'wb' ) )\n",
    "\n",
    "# vehicle_age - One Hot Encoding / Frequency Encoding\n",
    "df4 = pd.get_dummies( df4, prefix='vehicle_age', columns=['vehicle_age'] )\n",
    "\n",
    "# policy_sales_channel - Target Encoding / Frequency Encoding\n",
    "df1['policy_sales_channel'] = df1['policy_sales_channel'].astype(np.int64)\n",
    "fe_policy_sales_channel = df4.groupby( 'policy_sales_channel' ).size() / len( df4 ) \n",
    "df4.loc[:, 'policy_sales_channel'] = df4['policy_sales_channel'].map( fe_policy_sales_channel )\n",
    "pkl.dump( fe_policy_sales_channel, open( '../health_insurance_cross_sell/src/features/fe_policy_sales_channel_scaler.pkl', 'wb' ) )"
   ]
  },
  {
   "cell_type": "markdown",
   "id": "91adb555",
   "metadata": {},
   "source": [
    "## Train preparation"
   ]
  },
  {
   "cell_type": "code",
   "execution_count": 135,
   "id": "5f720d37",
   "metadata": {
    "ExecuteTime": {
     "end_time": "2022-04-20T00:00:59.792159Z",
     "start_time": "2022-04-20T00:00:59.716327Z"
    }
   },
   "outputs": [],
   "source": [
    "X = df4.drop( 'response', axis=1 )\n",
    "y = df4['response'].copy() \n",
    "\n",
    "x_train, x_validation, y_train, y_validation = ms.train_test_split( X, y, test_size=0.20 )\n",
    "\n",
    "df4 = pd.concat( [x_train, y_train], axis=1 )"
   ]
  },
  {
   "cell_type": "markdown",
   "id": "f27f8ad5",
   "metadata": {},
   "source": [
    "# Feature Selection"
   ]
  },
  {
   "cell_type": "code",
   "execution_count": 136,
   "id": "4314697a",
   "metadata": {
    "ExecuteTime": {
     "end_time": "2022-04-20T00:00:59.840025Z",
     "start_time": "2022-04-20T00:00:59.797109Z"
    }
   },
   "outputs": [],
   "source": [
    "df5=df4.copy()"
   ]
  },
  {
   "cell_type": "markdown",
   "id": "8255bec4",
   "metadata": {},
   "source": [
    "## Features Importancia"
   ]
  },
  {
   "cell_type": "code",
   "execution_count": 137,
   "id": "e7f6bd20",
   "metadata": {
    "ExecuteTime": {
     "end_time": "2022-04-20T00:01:12.045533Z",
     "start_time": "2022-04-20T00:00:59.841032Z"
    }
   },
   "outputs": [
    {
     "data": {
      "text/plain": [
       "ExtraTreesClassifier(n_estimators=250, n_jobs=-1, random_state=0)"
      ]
     },
     "execution_count": 137,
     "metadata": {},
     "output_type": "execute_result"
    }
   ],
   "source": [
    "# model definition\n",
    "forest = en.ExtraTreesClassifier( n_estimators=250, random_state=0, n_jobs=-1 )\n",
    "\n",
    "# data preparation\n",
    "x_train_n = df5.drop( ['id', 'response'], axis=1 )\n",
    "y_train_n = y_train.values\n",
    "forest.fit( x_train_n, y_train_n )"
   ]
  },
  {
   "cell_type": "code",
   "execution_count": 138,
   "id": "8a053d72",
   "metadata": {
    "ExecuteTime": {
     "end_time": "2022-04-20T00:01:12.916349Z",
     "start_time": "2022-04-20T00:01:12.048525Z"
    },
    "scrolled": true
   },
   "outputs": [
    {
     "name": "stdout",
     "output_type": "stream",
     "text": [
      "Feature ranking:\n",
      "                        feature  importance\n",
      "0                       vintage        0.27\n",
      "0                annual_premium        0.24\n",
      "0                           age        0.17\n",
      "0                   region_code        0.11\n",
      "0                vehicle_damage        0.07\n",
      "0          policy_sales_channel        0.06\n",
      "0            previously_insured        0.06\n",
      "0      vehicle_age_below_1_year        0.01\n",
      "0  vehicle_age_between_1_2_year        0.01\n",
      "0                        gender        0.01\n",
      "0      vehicle_age_over_2_years        0.00\n",
      "0               driving_license        0.00\n"
     ]
    },
    {
     "data": {
      "image/png": "[encoded data removed]",
      "text/plain": [
       "<Figure size 432x288 with 1 Axes>"
      ]
     },
     "metadata": {
      "needs_background": "light"
     },
     "output_type": "display_data"
    }
   ],
   "source": [
    "importances = forest.feature_importances_\n",
    "std = np.std([tree.feature_importances_ for tree in forest.estimators_], axis=0)\n",
    "indices = np.argsort(importances)[::-1]\n",
    "\n",
    "# Print the feature ranking\n",
    "print(\"Feature ranking:\")\n",
    "df = pd.DataFrame()\n",
    "for i, j in zip( x_train_n, forest.feature_importances_ ):\n",
    "    aux = pd.DataFrame( {'feature': i, 'importance': j}, index=[0] )\n",
    "    df = pd.concat( [df, aux], axis=0 )\n",
    "    \n",
    "print( df.sort_values( 'importance', ascending=False ) )\n",
    "\n",
    "# Plot the impurity-based feature importances of the forest\n",
    "plt.figure()\n",
    "plt.title(\"Feature importances\")\n",
    "plt.bar(range(x_train_n.shape[1]), importances[indices], color=\"r\", yerr=std[indices], align=\"center\")\n",
    "plt.xticks(range(x_train_n.shape[1]), indices)\n",
    "plt.xlim([-1, x_train_n.shape[1]])\n",
    "plt.show()"
   ]
  },
  {
   "cell_type": "markdown",
   "id": "b5da1d29",
   "metadata": {},
   "source": [
    "## Boruta"
   ]
  },
  {
   "cell_type": "code",
   "execution_count": 139,
   "id": "81300e31",
   "metadata": {
    "ExecuteTime": {
     "end_time": "2022-04-20T00:03:00.311639Z",
     "start_time": "2022-04-20T00:01:12.917347Z"
    }
   },
   "outputs": [],
   "source": [
    "x_train_b = x_train.values\n",
    "y_train_b = y_train.values.ravel()\n",
    "\n",
    "rf = RandomForestClassifier( n_jobs=-1)\n",
    "boruta = BorutaPy(rf,n_estimators='auto',verbose=0,random_state=32).fit(x_train_b,y_train_b)"
   ]
  },
  {
   "cell_type": "code",
   "execution_count": 140,
   "id": "8bc1434a",
   "metadata": {
    "ExecuteTime": {
     "end_time": "2022-04-20T00:03:00.326600Z",
     "start_time": "2022-04-20T00:03:00.312658Z"
    }
   },
   "outputs": [
    {
     "name": "stdout",
     "output_type": "stream",
     "text": [
      "BorutaSelected Column:\n"
     ]
    },
    {
     "data": {
      "text/plain": [
       "[]"
      ]
     },
     "execution_count": 140,
     "metadata": {},
     "output_type": "execute_result"
    }
   ],
   "source": [
    " #comentado para não fazer o algoritimo do boruta#\n",
    "cols_selected = boruta.support_.tolist()\n",
    "\n",
    "#colunas selecionadas\n",
    "x_train_fs=x_train\n",
    "cols_selected_boruta = x_train_fs.iloc[:,cols_selected].columns.to_list()\n",
    "\n",
    "#colunas não selecionadas\n",
    "cols_not_selected_boruta = list(np.setdiff1d(x_train_fs.columns,cols_selected_boruta))\n",
    "print(\"BorutaSelected Column:\")\n",
    "cols_selected_boruta"
   ]
  },
  {
   "cell_type": "markdown",
   "id": "d6ad1b49",
   "metadata": {},
   "source": [
    "# Machine Learning"
   ]
  },
  {
   "cell_type": "code",
   "execution_count": 141,
   "id": "05991fa5",
   "metadata": {
    "ExecuteTime": {
     "end_time": "2022-04-20T00:03:00.356520Z",
     "start_time": "2022-04-20T00:03:00.328599Z"
    }
   },
   "outputs": [],
   "source": [
    "cols_selected = ['annual_premium', 'vintage', 'age', 'region_code', 'previously_insured',\n",
    "                 'policy_sales_channel','vehicle_damage']\n",
    "\n",
    "x_train = df5[cols_selected]\n",
    "x_val = x_validation[cols_selected]\n",
    "y_val = y_validation.copy()"
   ]
  },
  {
   "cell_type": "markdown",
   "id": "c7c32019",
   "metadata": {},
   "source": [
    "## Logistic Regression"
   ]
  },
  {
   "cell_type": "code",
   "execution_count": 142,
   "id": "0a1ede74",
   "metadata": {
    "ExecuteTime": {
     "end_time": "2022-04-20T00:03:01.144009Z",
     "start_time": "2022-04-20T00:03:00.358515Z"
    }
   },
   "outputs": [],
   "source": [
    "# model definition\n",
    "lr_model = lm.LogisticRegression( random_state=42 ) \n",
    "\n",
    "# model training\n",
    "lr_model.fit( x_train, y_train )\n",
    "\n",
    "# model prediction\n",
    "yhat_lr = lr_model.predict_proba( x_val )"
   ]
  },
  {
   "cell_type": "code",
   "execution_count": 143,
   "id": "e822f4de",
   "metadata": {
    "ExecuteTime": {
     "end_time": "2022-04-20T00:03:01.302556Z",
     "start_time": "2022-04-20T00:03:01.149003Z"
    },
    "cell_style": "split",
    "hide_input": true,
    "scrolled": false
   },
   "outputs": [
    {
     "data": {
      "image/png": "[encoded data removed]",
      "text/plain": [
       "<Figure size 432x288 with 1 Axes>"
      ]
     },
     "metadata": {
      "needs_background": "light"
     },
     "output_type": "display_data"
    }
   ],
   "source": [
    "# Accumulative Gain\n",
    "skplt.metrics.plot_cumulative_gain( y_val, yhat_lr );"
   ]
  },
  {
   "cell_type": "code",
   "execution_count": 144,
   "id": "647205bd",
   "metadata": {
    "ExecuteTime": {
     "end_time": "2022-04-20T00:03:01.445381Z",
     "start_time": "2022-04-20T00:03:01.303553Z"
    },
    "cell_style": "split",
    "hide_input": true,
    "scrolled": true
   },
   "outputs": [
    {
     "data": {
      "image/png": "[encoded data removed]",
      "text/plain": [
       "<Figure size 432x288 with 1 Axes>"
      ]
     },
     "metadata": {
      "needs_background": "light"
     },
     "output_type": "display_data"
    }
   ],
   "source": [
    "#Scikitplot library is there to help\n",
    "skplt.metrics.plot_lift_curve( y_val, yhat_lr );"
   ]
  },
  {
   "cell_type": "markdown",
   "id": "09713719",
   "metadata": {},
   "source": [
    "## KNN"
   ]
  },
  {
   "cell_type": "code",
   "execution_count": 145,
   "id": "242531bd",
   "metadata": {
    "ExecuteTime": {
     "end_time": "2022-04-20T00:03:06.206952Z",
     "start_time": "2022-04-20T00:03:01.446405Z"
    }
   },
   "outputs": [],
   "source": [
    "# model definition\n",
    "knn_model = nh.KNeighborsClassifier( n_neighbors=7 )\n",
    "\n",
    "# model training\n",
    "knn_model.fit( x_train, y_train )\n",
    "\n",
    "# model prediction - Poder de GENERALIZACAO \n",
    "yhat_knn = knn_model.predict_proba( x_val )"
   ]
  },
  {
   "cell_type": "code",
   "execution_count": 146,
   "id": "c5ee468a",
   "metadata": {
    "ExecuteTime": {
     "end_time": "2022-04-20T00:03:06.334659Z",
     "start_time": "2022-04-20T00:03:06.208966Z"
    },
    "cell_style": "split",
    "hide_input": false,
    "scrolled": true
   },
   "outputs": [
    {
     "data": {
      "image/png": "[encoded data removed]",
      "text/plain": [
       "<Figure size 432x288 with 1 Axes>"
      ]
     },
     "metadata": {
      "needs_background": "light"
     },
     "output_type": "display_data"
    }
   ],
   "source": [
    " # Accumulative Gain\n",
    "skplt.metrics.plot_cumulative_gain( y_val, yhat_knn );"
   ]
  },
  {
   "cell_type": "code",
   "execution_count": 147,
   "id": "7ca31283",
   "metadata": {
    "ExecuteTime": {
     "end_time": "2022-04-20T00:03:06.461310Z",
     "start_time": "2022-04-20T00:03:06.335652Z"
    },
    "cell_style": "split",
    "scrolled": true
   },
   "outputs": [
    {
     "data": {
      "image/png": "[encoded data removed]",
      "text/plain": [
       "<Figure size 432x288 with 1 Axes>"
      ]
     },
     "metadata": {
      "needs_background": "light"
     },
     "output_type": "display_data"
    }
   ],
   "source": [
    "#Scikitplot library is there to help\n",
    "skplt.metrics.plot_lift_curve( y_val, yhat_knn );"
   ]
  },
  {
   "cell_type": "code",
   "execution_count": 148,
   "id": "3d47f190",
   "metadata": {
    "ExecuteTime": {
     "end_time": "2022-04-20T00:03:06.588967Z",
     "start_time": "2022-04-20T00:03:06.462275Z"
    },
    "cell_style": "split",
    "hide_input": false,
    "scrolled": true
   },
   "outputs": [
    {
     "data": {
      "image/png": "[encoded data removed]",
      "text/plain": [
       "<Figure size 432x288 with 1 Axes>"
      ]
     },
     "metadata": {
      "needs_background": "light"
     },
     "output_type": "display_data"
    }
   ],
   "source": [
    "# Accumulative Gain\n",
    "skplt.metrics.plot_cumulative_gain( y_val, yhat_lr );"
   ]
  },
  {
   "cell_type": "markdown",
   "id": "cad53558",
   "metadata": {},
   "source": [
    "## Extra Trees"
   ]
  },
  {
   "cell_type": "code",
   "execution_count": 149,
   "id": "c407063e",
   "metadata": {
    "ExecuteTime": {
     "end_time": "2022-04-20T00:03:49.938434Z",
     "start_time": "2022-04-20T00:03:06.589934Z"
    }
   },
   "outputs": [],
   "source": [
    "# model definition\n",
    "et = en.ExtraTreesClassifier( n_estimators=1000, n_jobs=-1, random_state=42 )\n",
    "\n",
    "# model fit\n",
    "et.fit( x_train, y_train )\n",
    "\n",
    "# model predict\n",
    "yhat_et = et.predict_proba( x_val )"
   ]
  },
  {
   "cell_type": "code",
   "execution_count": 150,
   "id": "ed98b146",
   "metadata": {
    "ExecuteTime": {
     "end_time": "2022-04-20T00:03:50.201882Z",
     "start_time": "2022-04-20T00:03:49.957369Z"
    },
    "cell_style": "split",
    "hide_input": true,
    "scrolled": true
   },
   "outputs": [
    {
     "data": {
      "image/png": "[encoded data removed]",
      "text/plain": [
       "<Figure size 432x288 with 1 Axes>"
      ]
     },
     "metadata": {
      "needs_background": "light"
     },
     "output_type": "display_data"
    }
   ],
   "source": [
    " # Accumulative Gain\n",
    "skplt.metrics.plot_cumulative_gain( y_val, yhat_et);"
   ]
  },
  {
   "cell_type": "code",
   "execution_count": 151,
   "id": "ea86b29f",
   "metadata": {
    "ExecuteTime": {
     "end_time": "2022-04-20T00:03:50.343649Z",
     "start_time": "2022-04-20T00:03:50.204874Z"
    },
    "cell_style": "split"
   },
   "outputs": [
    {
     "data": {
      "image/png": "[encoded data removed]",
      "text/plain": [
       "<Figure size 432x288 with 1 Axes>"
      ]
     },
     "metadata": {
      "needs_background": "light"
     },
     "output_type": "display_data"
    }
   ],
   "source": [
    "#Scikitplot library is there to help\n",
    "skplt.metrics.plot_lift_curve( y_val, yhat_et );"
   ]
  },
  {
   "cell_type": "code",
   "execution_count": 152,
   "id": "a8a21128",
   "metadata": {
    "ExecuteTime": {
     "end_time": "2022-04-20T00:03:50.486301Z",
     "start_time": "2022-04-20T00:03:50.345643Z"
    },
    "cell_style": "split",
    "hide_input": true
   },
   "outputs": [
    {
     "data": {
      "image/png": "[encoded data removed]",
      "text/plain": [
       "<Figure size 432x288 with 1 Axes>"
      ]
     },
     "metadata": {
      "needs_background": "light"
     },
     "output_type": "display_data"
    }
   ],
   "source": [
    "# Accumulative Gain\n",
    "skplt.metrics.plot_cumulative_gain( y_val, yhat_lr );"
   ]
  },
  {
   "cell_type": "markdown",
   "id": "de556723",
   "metadata": {},
   "source": [
    "## Random Forest"
   ]
  },
  {
   "cell_type": "code",
   "execution_count": 153,
   "id": "163b94ea",
   "metadata": {
    "ExecuteTime": {
     "end_time": "2022-04-20T00:03:50.501261Z",
     "start_time": "2022-04-20T00:03:50.490290Z"
    }
   },
   "outputs": [
    {
     "data": {
      "text/plain": [
       "{'bootstrap': True,\n",
       " 'ccp_alpha': 0.0,\n",
       " 'class_weight': None,\n",
       " 'criterion': 'gini',\n",
       " 'max_depth': None,\n",
       " 'max_features': 'auto',\n",
       " 'max_leaf_nodes': None,\n",
       " 'max_samples': None,\n",
       " 'min_impurity_decrease': 0.0,\n",
       " 'min_samples_leaf': 1,\n",
       " 'min_samples_split': 2,\n",
       " 'min_weight_fraction_leaf': 0.0,\n",
       " 'n_estimators': 100,\n",
       " 'n_jobs': None,\n",
       " 'oob_score': False,\n",
       " 'random_state': None,\n",
       " 'verbose': 0,\n",
       " 'warm_start': False}"
      ]
     },
     "execution_count": 153,
     "metadata": {},
     "output_type": "execute_result"
    }
   ],
   "source": [
    "RandomForestClassifier().get_params()"
   ]
  },
  {
   "cell_type": "code",
   "execution_count": 154,
   "id": "b8762482",
   "metadata": {
    "ExecuteTime": {
     "end_time": "2022-04-20T00:07:27.184595Z",
     "start_time": "2022-04-20T00:03:50.502258Z"
    }
   },
   "outputs": [],
   "source": [
    "# model definition\n",
    "rf = en.RandomForestClassifier( n_estimators=1000, n_jobs=None, random_state=42 ) \n",
    "\n",
    "# model training\n",
    "rf.fit( x_train, y_train )\n",
    "\n",
    "# model prediction\n",
    "yhat_rf = rf.predict_proba( x_val )"
   ]
  },
  {
   "cell_type": "code",
   "execution_count": 155,
   "id": "e730b1c8",
   "metadata": {
    "ExecuteTime": {
     "end_time": "2022-04-20T00:07:27.434567Z",
     "start_time": "2022-04-20T00:07:27.201758Z"
    },
    "cell_style": "split",
    "hide_input": true,
    "scrolled": false
   },
   "outputs": [
    {
     "data": {
      "image/png": "[encoded data removed]",
      "text/plain": [
       "<Figure size 432x288 with 1 Axes>"
      ]
     },
     "metadata": {
      "needs_background": "light"
     },
     "output_type": "display_data"
    }
   ],
   "source": [
    "# Accumulative Gain\n",
    "skplt.metrics.plot_cumulative_gain( y_val, yhat_rf );"
   ]
  },
  {
   "cell_type": "code",
   "execution_count": 156,
   "id": "2c92f4aa",
   "metadata": {
    "ExecuteTime": {
     "end_time": "2022-04-20T00:07:27.592023Z",
     "start_time": "2022-04-20T00:07:27.436557Z"
    },
    "cell_style": "split",
    "hide_input": true
   },
   "outputs": [
    {
     "data": {
      "image/png": "[encoded data removed]",
      "text/plain": [
       "<Figure size 432x288 with 1 Axes>"
      ]
     },
     "metadata": {
      "needs_background": "light"
     },
     "output_type": "display_data"
    }
   ],
   "source": [
    "#Scikitplot library is there to help\n",
    "skplt.metrics.plot_lift_curve( y_val, yhat_rf );"
   ]
  },
  {
   "cell_type": "code",
   "execution_count": 157,
   "id": "a135c16e",
   "metadata": {
    "ExecuteTime": {
     "end_time": "2022-04-20T00:07:27.734069Z",
     "start_time": "2022-04-20T00:07:27.595053Z"
    },
    "cell_style": "split",
    "hide_input": true,
    "scrolled": true
   },
   "outputs": [
    {
     "data": {
      "image/png": "[encoded data removed]",
      "text/plain": [
       "<Figure size 432x288 with 1 Axes>"
      ]
     },
     "metadata": {
      "needs_background": "light"
     },
     "output_type": "display_data"
    }
   ],
   "source": [
    "# Accumulative Gain\n",
    "skplt.metrics.plot_cumulative_gain( y_val, yhat_lr );"
   ]
  },
  {
   "cell_type": "markdown",
   "id": "b2037761",
   "metadata": {},
   "source": [
    "# Model Performance "
   ]
  },
  {
   "cell_type": "markdown",
   "id": "9c92dc88",
   "metadata": {},
   "source": [
    "## Logistic Regression"
   ]
  },
  {
   "cell_type": "code",
   "execution_count": 158,
   "id": "6c64dd52",
   "metadata": {
    "ExecuteTime": {
     "end_time": "2022-04-20T00:07:27.903285Z",
     "start_time": "2022-04-20T00:07:27.736067Z"
    }
   },
   "outputs": [
    {
     "name": "stdout",
     "output_type": "stream",
     "text": [
      "Precision at K: 0.19607843137254902\n",
      "Recall at K: 0.0011732957878681216\n"
     ]
    }
   ],
   "source": [
    "# copy data\n",
    "df8 = x_validation.copy()\n",
    "df8['response'] = y_validation.copy()\n",
    "\n",
    "# propensity score\n",
    "df8['score'] = yhat_lr[:, 1].tolist()\n",
    "\n",
    "# sorte clients by propensity score\n",
    "df8 = df8.sort_values( 'score', ascending=False )\n",
    "\n",
    "# compute precision at k\n",
    "precision_at_50 = precision_at_k( df8, k=50 )\n",
    "print( 'Precision at K: {}'.format( precision_at_50 ) )\n",
    "\n",
    "# compute precision at k\n",
    "precision_at_50 = recall_at_k( df8, k=50 )\n",
    "print( 'Recall at K: {}'.format( precision_at_50 ) )"
   ]
  },
  {
   "cell_type": "markdown",
   "id": "19cad166",
   "metadata": {},
   "source": [
    "## KNN"
   ]
  },
  {
   "cell_type": "code",
   "execution_count": 159,
   "id": "5addeeb9",
   "metadata": {
    "ExecuteTime": {
     "end_time": "2022-04-20T00:07:28.074114Z",
     "start_time": "2022-04-20T00:07:28.021095Z"
    }
   },
   "outputs": [
    {
     "name": "stdout",
     "output_type": "stream",
     "text": [
      "Precision at K: 0.4117647058823529\n",
      "Recall at K: 0.0024639211545230554\n"
     ]
    }
   ],
   "source": [
    "# copy data\n",
    "df8 = x_validation.copy()\n",
    "df8['response'] = y_validation.copy()\n",
    "\n",
    "# propensity score\n",
    "df8['score'] = yhat_knn[:, 1].tolist()\n",
    "\n",
    "# sorte clients by propensity score\n",
    "df8 = df8.sort_values( 'score', ascending=False )\n",
    "\n",
    "# compute precision at k\n",
    "precision_at_50 = precision_at_k( df8, k=50 )\n",
    "print( 'Precision at K: {}'.format( precision_at_50 ) )\n",
    "\n",
    "# compute precision at k\n",
    "precision_at_50 = recall_at_k( df8, k=50 )\n",
    "print( 'Recall at K: {}'.format( precision_at_50 ) )"
   ]
  },
  {
   "cell_type": "markdown",
   "id": "96f4e2d1",
   "metadata": {},
   "source": [
    "## Extra Trees"
   ]
  },
  {
   "cell_type": "code",
   "execution_count": 160,
   "id": "a966c3c5",
   "metadata": {
    "ExecuteTime": {
     "end_time": "2022-04-20T00:07:28.121979Z",
     "start_time": "2022-04-20T00:07:28.076073Z"
    }
   },
   "outputs": [
    {
     "name": "stdout",
     "output_type": "stream",
     "text": [
      "Precision at K: 0.27450980392156865\n",
      "Recall at K: 0.0016426141030153702\n"
     ]
    }
   ],
   "source": [
    "# copy data\n",
    "df8 = x_validation.copy()\n",
    "df8['response'] = y_validation.copy()\n",
    "\n",
    "# propensity score\n",
    "df8['score'] = yhat_et[:, 1].tolist()\n",
    "\n",
    "# sorte clients by propensity score\n",
    "df8 = df8.sort_values( 'score', ascending=False )\n",
    "\n",
    "# compute precision at k\n",
    "precision_at_50 = precision_at_k( df8, k=50 )\n",
    "print( 'Precision at K: {}'.format( precision_at_50 ) )\n",
    "\n",
    "# compute precision at k\n",
    "precision_at_50 = recall_at_k( df8, k=50 )\n",
    "print( 'Recall at K: {}'.format( precision_at_50 ) )"
   ]
  },
  {
   "cell_type": "markdown",
   "id": "b7b8d716",
   "metadata": {},
   "source": [
    "## Random Forest"
   ]
  },
  {
   "cell_type": "code",
   "execution_count": 161,
   "id": "112ceb1b",
   "metadata": {
    "ExecuteTime": {
     "end_time": "2022-04-20T00:07:28.169343Z",
     "start_time": "2022-04-20T00:07:28.123976Z"
    }
   },
   "outputs": [
    {
     "name": "stdout",
     "output_type": "stream",
     "text": [
      "Precision at K: 0.35294117647058826\n",
      "Recall at K: 0.0021119324181626186\n"
     ]
    }
   ],
   "source": [
    "# copy data\n",
    "df8 = x_validation.copy()\n",
    "df8['response'] = y_validation.copy()\n",
    "\n",
    "# propensity score\n",
    "df8['score'] = yhat_rf[:, 1].tolist()\n",
    "\n",
    "# sorte clients by propensity score\n",
    "df8 = df8.sort_values( 'score', ascending=False )\n",
    "\n",
    "# compute precision at k\n",
    "precision_at_50 = precision_at_k( df8, k=50 )\n",
    "print( 'Precision at K: {}'.format( precision_at_50 ) )\n",
    "\n",
    "# compute precision at k\n",
    "precision_at_50 = recall_at_k( df8, k=50 )\n",
    "print( 'Recall at K: {}'.format( precision_at_50 ) )"
   ]
  },
  {
   "cell_type": "markdown",
   "id": "2ddff2a6",
   "metadata": {
    "ExecuteTime": {
     "end_time": "2022-03-08T14:12:10.813635Z",
     "start_time": "2022-03-08T14:12:10.803632Z"
    }
   },
   "source": [
    "# Deploy to Production"
   ]
  },
  {
   "cell_type": "code",
   "execution_count": 162,
   "id": "85209a7c",
   "metadata": {
    "ExecuteTime": {
     "end_time": "2022-04-20T00:07:28.201260Z",
     "start_time": "2022-04-20T00:07:28.169783Z"
    }
   },
   "outputs": [],
   "source": [
    "# Save trained model\n",
    "pkl.dump( lr_model, open('../health_insurance_cross_sell/src/models/model_linear_regression.pkl', 'wb' ))"
   ]
  },
  {
   "cell_type": "code",
   "execution_count": 163,
   "id": "66118e34",
   "metadata": {
    "ExecuteTime": {
     "end_time": "2022-04-20T00:07:28.246767Z",
     "start_time": "2022-04-20T00:07:28.204252Z"
    }
   },
   "outputs": [],
   "source": [
    "import pickle as pkl\n",
    "import numpy as np\n",
    "import pandas as pd\n",
    "\n",
    "\n",
    "class HealthInsurance( object ):\n",
    "    \n",
    "        \n",
    "    def __init__( self ):\n",
    "        self.home_path = '/home/alessandra/Repos/health_insurance_cross_sell/health_insurance/'\n",
    "        self.annual_premium_scaler =            pkl.load( open( self.home_path + 'src/features/annual_premium_scaler.pkl', 'rb' ) )\n",
    "        self.age_scaler =                       pkl.load( open( self.home_path + 'src/features/age_scaler.pkl', 'rb' ) ) \n",
    "        self.vintage_scaler =                   pkl.load( open( self.home_path + 'src/features/vintage_scaler.pkl', 'rb' ) ) \n",
    "        self.target_encode_gender_scaler =      pkl.load( open( self.home_path + 'src/features/target_encode_gender_scaler.pkl', 'rb' ) )\n",
    "        self.target_encode_region_code_scaler = pkl.load( open( self.home_path + 'src/features/target_encode_region_code_scaler.pkl', 'rb' ) )\n",
    "        self.fe_policy_sales_channel_scaler =   pkl.load( open( self.home_path + 'src/features/fe_policy_sales_channel_scaler.pkl', 'rb' ) )\n",
    "        \n",
    "    def data_cleaning( self, df1 ):\n",
    "        # 1.1. Rename Columns\n",
    "        cols_new = ['id', 'gender', 'age', 'driving_license', 'region_code', 'previously_insured', 'vehicle_age', \n",
    "                    'vehicle_damage', 'annual_premium', 'policy_sales_channel', 'vintage']\n",
    "\n",
    "        # rename \n",
    "        df1.columns = cols_new\n",
    "        \n",
    "        df1['region_code'] = df1['region_code'].astype(np.int64)\n",
    "        df1['policy_sales_channel'] = df1['policy_sales_channel'].astype(np.int64)\n",
    "        \n",
    "        return df1 \n",
    "\n",
    "    \n",
    "    def feature_engineering( self, df2 ):\n",
    "        # 2.0. Feature Engineering\n",
    "\n",
    "        # Vehicle Damage Number\n",
    "        df2['vehicle_damage'] = df2['vehicle_damage'].apply( lambda x: 1 if x == 'Yes' else 0 )\n",
    "\n",
    "        # Vehicle Age\n",
    "        df2['vehicle_age'] =  df2['vehicle_age'].apply( lambda x: 'over_2_years' if x == '> 2 Years' else 'between_1_2_year' if x == '1-2 Year' else 'below_1_year' )\n",
    "        \n",
    "        return df2\n",
    "    \n",
    "    \n",
    "    def data_preparation( self, df5 ):\n",
    "        # anual premium - StandarScaler\n",
    "        df5['annual_premium'] = self.annual_premium_scaler.transform( df5[['annual_premium']].values )\n",
    "\n",
    "        # Age - MinMaxScaler\n",
    "        df5['age'] = self.age_scaler.transform( df5[['age']].values )\n",
    "\n",
    "        # Vintage - MinMaxScaler\n",
    "        df5['vintage'] = self.vintage_scaler.transform( df5[['vintage']].values )\n",
    "\n",
    "        # gender - One Hot Encoding / Target Encoding\n",
    "        df5.loc[:, 'gender'] = df5['gender'].map( self.target_encode_gender_scaler )\n",
    "\n",
    "        # region_code - Target Encoding / Frequency Encoding\n",
    "        df5.loc[:, 'region_code'] = df5['region_code'].map( self.target_encode_region_code_scaler )\n",
    "\n",
    "        # vehicle_age - One Hot Encoding / Frequency Encoding\n",
    "        df5 = pd.get_dummies( df5, prefix='vehicle_age', columns=['vehicle_age'] )\n",
    "\n",
    "        # policy_sales_channel - Target Encoding / Frequency Encoding\n",
    "        df5.loc[:, 'policy_sales_channel'] = df5['policy_sales_channel'].map( self.fe_policy_sales_channel_scaler )\n",
    "        \n",
    "        # Feature Selection\n",
    "        cols_selected = ['annual_premium', 'vintage', 'age', 'region_code', 'vehicle_damage', 'previously_insured',\n",
    "                         'policy_sales_channel']\n",
    "        \n",
    "        return df5[ cols_selected ]\n",
    "    \n",
    "    \n",
    "    def get_prediction( self, model, original_data, test_data ):\n",
    "        # model prediction\n",
    "        pred = model.predict_proba( test_data )\n",
    "\n",
    "        # join prediction into original data\n",
    "        original_data['score'] = pred[:, 1].tolist()\n",
    "        \n",
    "        return original_data.to_json( orient='records', date_format='iso' )\n"
   ]
  },
  {
   "cell_type": "markdown",
   "id": "253dbb17",
   "metadata": {},
   "source": [
    "## API Handler"
   ]
  },
  {
   "cell_type": "code",
   "execution_count": 164,
   "id": "6a02aa4b",
   "metadata": {
    "ExecuteTime": {
     "end_time": "2022-04-20T00:07:28.403047Z",
     "start_time": "2022-04-20T00:07:28.247764Z"
    },
    "scrolled": true
   },
   "outputs": [
    {
     "ename": "ModuleNotFoundError",
     "evalue": "No module named 'healthinsurance'",
     "output_type": "error",
     "traceback": [
      "\u001b[1;31m---------------------------------------------------------------------------\u001b[0m",
      "\u001b[1;31mModuleNotFoundError\u001b[0m                       Traceback (most recent call last)",
      "Input \u001b[1;32mIn [164]\u001b[0m, in \u001b[0;36m<cell line: 6>\u001b[1;34m()\u001b[0m\n\u001b[0;32m      4\u001b[0m \u001b[38;5;28;01mimport\u001b[39;00m \u001b[38;5;21;01mpandas\u001b[39;00m \u001b[38;5;28;01mas\u001b[39;00m \u001b[38;5;21;01mpd\u001b[39;00m\n\u001b[0;32m      5\u001b[0m \u001b[38;5;28;01mfrom\u001b[39;00m \u001b[38;5;21;01mflask\u001b[39;00m \u001b[38;5;28;01mimport\u001b[39;00m Flask, request, Response\n\u001b[1;32m----> 6\u001b[0m \u001b[38;5;28;01mfrom\u001b[39;00m \u001b[38;5;21;01mhealthinsurance\u001b[39;00m\u001b[38;5;21;01m.\u001b[39;00m\u001b[38;5;21;01mHealthInsurance\u001b[39;00m \u001b[38;5;28;01mimport\u001b[39;00m HealthInsurance\n\u001b[0;32m      8\u001b[0m \u001b[38;5;66;03m#path = ''\u001b[39;00m\n\u001b[0;32m      9\u001b[0m \u001b[38;5;66;03m#model = pkl.load( open( path +'src/models/model_linear_regression.pkl', 'rb' ) )\u001b[39;00m\n\u001b[0;32m     11\u001b[0m path \u001b[38;5;241m=\u001b[39m \u001b[38;5;124m'\u001b[39m\u001b[38;5;124m/home/alessandra/Repos/pa004_health_insurance_cross_sell/health_insurance/\u001b[39m\u001b[38;5;124m'\u001b[39m\n",
      "\u001b[1;31mModuleNotFoundError\u001b[0m: No module named 'healthinsurance'"
     ]
    }
   ],
   "source": [
    "# loading model\n",
    "\n",
    "import pickle as pkl\n",
    "import pandas as pd\n",
    "from flask import Flask, request, Response\n",
    "from healthinsurance.HealthInsurance import HealthInsurance\n",
    "\n",
    "#path = ''\n",
    "#model = pkl.load( open( path +'src/models/model_linear_regression.pkl', 'rb' ) )\n",
    "\n",
    "path = '/home/alessandra/Repos/pa004_health_insurance_cross_sell/health_insurance/'\n",
    "model = pkl.load( open( path + 'src/models/model_linear_regression.pkl', 'rb' ) )\n",
    "\n",
    "\n",
    "# initialize API\n",
    "app = Flask( __name__ )\n",
    "\n",
    "@app.route( '/healthinsurance/predict', methods=['POST'] )\n",
    "def healthinsurance_predict():\n",
    "    test_json = request.get_json()\n",
    "\n",
    "    if test_json: # there is data\n",
    "        if isinstance( test_json, dict ): # unique example\n",
    "            test_raw = pd.DataFrame( test_json, index=[0] )\n",
    "            \n",
    "        else: # multiple example\n",
    "            test_raw = pd.DataFrame( test_json, columns=test_json[0].keys() )\n",
    "            \n",
    "        # Instantiate Rossmann class\n",
    "        pipeline = HealthInsurance()\n",
    "        \n",
    "        # data cleaning\n",
    "        df1 = pipeline.data_cleaning( test_raw )\n",
    "        \n",
    "        # feature engineering\n",
    "        df2 = pipeline.feature_engineering( df1 )\n",
    "        \n",
    "        # data preparation\n",
    "        df3 = pipeline.data_preparation( df2 )\n",
    "        \n",
    "        # prediction\n",
    "        df_response = pipeline.get_prediction( model, test_raw, df3 )\n",
    "        \n",
    "        return df_response\n",
    "    \n",
    "    else:\n",
    "        return Response( '{}', status=200, mimetype='application/json' )\n",
    "    \n",
    "if __name__ == '__main__':\n",
    "    app.run( '0.0.0.0', debug=True )\n"
   ]
  },
  {
   "cell_type": "markdown",
   "id": "971cbfc1",
   "metadata": {},
   "source": [
    "##  API Tester"
   ]
  },
  {
   "cell_type": "code",
   "execution_count": 165,
   "id": "ea360bb4",
   "metadata": {
    "ExecuteTime": {
     "end_time": "2022-04-20T00:08:23.550656Z",
     "start_time": "2022-04-20T00:08:23.485829Z"
    }
   },
   "outputs": [
    {
     "data": {
      "text/html": [
       "<div>\n",
       "<style scoped>\n",
       "    .dataframe tbody tr th:only-of-type {\n",
       "        vertical-align: middle;\n",
       "    }\n",
       "\n",
       "    .dataframe tbody tr th {\n",
       "        vertical-align: top;\n",
       "    }\n",
       "\n",
       "    .dataframe thead th {\n",
       "        text-align: right;\n",
       "    }\n",
       "</style>\n",
       "<table border=\"1\" class=\"dataframe\">\n",
       "  <thead>\n",
       "    <tr style=\"text-align: right;\">\n",
       "      <th></th>\n",
       "      <th>id</th>\n",
       "      <th>Gender</th>\n",
       "      <th>Age</th>\n",
       "      <th>Driving_License</th>\n",
       "      <th>Region_Code</th>\n",
       "      <th>Previously_Insured</th>\n",
       "      <th>Vehicle_Age</th>\n",
       "      <th>Vehicle_Damage</th>\n",
       "      <th>Annual_Premium</th>\n",
       "      <th>Policy_Sales_Channel</th>\n",
       "      <th>Vintage</th>\n",
       "    </tr>\n",
       "  </thead>\n",
       "  <tbody>\n",
       "    <tr>\n",
       "      <th>152815</th>\n",
       "      <td>152816</td>\n",
       "      <td>Male</td>\n",
       "      <td>25</td>\n",
       "      <td>1</td>\n",
       "      <td>27.00</td>\n",
       "      <td>0</td>\n",
       "      <td>&lt; 1 Year</td>\n",
       "      <td>Yes</td>\n",
       "      <td>2630.00</td>\n",
       "      <td>152.00</td>\n",
       "      <td>157</td>\n",
       "    </tr>\n",
       "    <tr>\n",
       "      <th>8925</th>\n",
       "      <td>8926</td>\n",
       "      <td>Male</td>\n",
       "      <td>21</td>\n",
       "      <td>1</td>\n",
       "      <td>8.00</td>\n",
       "      <td>0</td>\n",
       "      <td>&lt; 1 Year</td>\n",
       "      <td>Yes</td>\n",
       "      <td>31173.00</td>\n",
       "      <td>154.00</td>\n",
       "      <td>192</td>\n",
       "    </tr>\n",
       "    <tr>\n",
       "      <th>169040</th>\n",
       "      <td>169041</td>\n",
       "      <td>Male</td>\n",
       "      <td>25</td>\n",
       "      <td>1</td>\n",
       "      <td>2.00</td>\n",
       "      <td>1</td>\n",
       "      <td>&lt; 1 Year</td>\n",
       "      <td>No</td>\n",
       "      <td>33400.00</td>\n",
       "      <td>152.00</td>\n",
       "      <td>213</td>\n",
       "    </tr>\n",
       "    <tr>\n",
       "      <th>312846</th>\n",
       "      <td>312847</td>\n",
       "      <td>Female</td>\n",
       "      <td>26</td>\n",
       "      <td>1</td>\n",
       "      <td>23.00</td>\n",
       "      <td>1</td>\n",
       "      <td>&lt; 1 Year</td>\n",
       "      <td>No</td>\n",
       "      <td>2630.00</td>\n",
       "      <td>152.00</td>\n",
       "      <td>111</td>\n",
       "    </tr>\n",
       "    <tr>\n",
       "      <th>303264</th>\n",
       "      <td>303265</td>\n",
       "      <td>Male</td>\n",
       "      <td>43</td>\n",
       "      <td>1</td>\n",
       "      <td>30.00</td>\n",
       "      <td>0</td>\n",
       "      <td>1-2 Year</td>\n",
       "      <td>Yes</td>\n",
       "      <td>27280.00</td>\n",
       "      <td>163.00</td>\n",
       "      <td>202</td>\n",
       "    </tr>\n",
       "    <tr>\n",
       "      <th>322941</th>\n",
       "      <td>322942</td>\n",
       "      <td>Female</td>\n",
       "      <td>35</td>\n",
       "      <td>1</td>\n",
       "      <td>28.00</td>\n",
       "      <td>0</td>\n",
       "      <td>1-2 Year</td>\n",
       "      <td>No</td>\n",
       "      <td>28326.00</td>\n",
       "      <td>23.00</td>\n",
       "      <td>252</td>\n",
       "    </tr>\n",
       "    <tr>\n",
       "      <th>221941</th>\n",
       "      <td>221942</td>\n",
       "      <td>Female</td>\n",
       "      <td>26</td>\n",
       "      <td>1</td>\n",
       "      <td>28.00</td>\n",
       "      <td>0</td>\n",
       "      <td>&lt; 1 Year</td>\n",
       "      <td>Yes</td>\n",
       "      <td>44627.00</td>\n",
       "      <td>152.00</td>\n",
       "      <td>280</td>\n",
       "    </tr>\n",
       "    <tr>\n",
       "      <th>9550</th>\n",
       "      <td>9551</td>\n",
       "      <td>Female</td>\n",
       "      <td>41</td>\n",
       "      <td>1</td>\n",
       "      <td>46.00</td>\n",
       "      <td>0</td>\n",
       "      <td>1-2 Year</td>\n",
       "      <td>Yes</td>\n",
       "      <td>28188.00</td>\n",
       "      <td>26.00</td>\n",
       "      <td>131</td>\n",
       "    </tr>\n",
       "    <tr>\n",
       "      <th>219258</th>\n",
       "      <td>219259</td>\n",
       "      <td>Male</td>\n",
       "      <td>66</td>\n",
       "      <td>0</td>\n",
       "      <td>28.00</td>\n",
       "      <td>0</td>\n",
       "      <td>1-2 Year</td>\n",
       "      <td>Yes</td>\n",
       "      <td>39451.00</td>\n",
       "      <td>26.00</td>\n",
       "      <td>256</td>\n",
       "    </tr>\n",
       "    <tr>\n",
       "      <th>258989</th>\n",
       "      <td>258990</td>\n",
       "      <td>Male</td>\n",
       "      <td>53</td>\n",
       "      <td>1</td>\n",
       "      <td>30.00</td>\n",
       "      <td>1</td>\n",
       "      <td>1-2 Year</td>\n",
       "      <td>Yes</td>\n",
       "      <td>2630.00</td>\n",
       "      <td>156.00</td>\n",
       "      <td>139</td>\n",
       "    </tr>\n",
       "  </tbody>\n",
       "</table>\n",
       "</div>"
      ],
      "text/plain": [
       "            id  Gender  Age  Driving_License  Region_Code  Previously_Insured Vehicle_Age Vehicle_Damage  Annual_Premium  Policy_Sales_Channel  Vintage\n",
       "152815  152816    Male   25                1        27.00                   0    < 1 Year            Yes         2630.00                152.00      157\n",
       "8925      8926    Male   21                1         8.00                   0    < 1 Year            Yes        31173.00                154.00      192\n",
       "169040  169041    Male   25                1         2.00                   1    < 1 Year             No        33400.00                152.00      213\n",
       "312846  312847  Female   26                1        23.00                   1    < 1 Year             No         2630.00                152.00      111\n",
       "303264  303265    Male   43                1        30.00                   0    1-2 Year            Yes        27280.00                163.00      202\n",
       "322941  322942  Female   35                1        28.00                   0    1-2 Year             No        28326.00                 23.00      252\n",
       "221941  221942  Female   26                1        28.00                   0    < 1 Year            Yes        44627.00                152.00      280\n",
       "9550      9551  Female   41                1        46.00                   0    1-2 Year            Yes        28188.00                 26.00      131\n",
       "219258  219259    Male   66                0        28.00                   0    1-2 Year            Yes        39451.00                 26.00      256\n",
       "258989  258990    Male   53                1        30.00                   1    1-2 Year            Yes         2630.00                156.00      139"
      ]
     },
     "execution_count": 165,
     "metadata": {},
     "output_type": "execute_result"
    }
   ],
   "source": [
    "# loading test dataset\n",
    "df_test=df_test.sample(10)\n",
    "df_test"
   ]
  },
  {
   "cell_type": "code",
   "execution_count": 166,
   "id": "1066f899",
   "metadata": {
    "ExecuteTime": {
     "end_time": "2022-04-20T00:08:32.863228Z",
     "start_time": "2022-04-20T00:08:32.859211Z"
    }
   },
   "outputs": [],
   "source": [
    "# df_test['Region_Code'] = df_test['Region_Code'].astype(np.int64)\n",
    "# df_test['Policy_Sales_Channel'] = df_test['Policy_Sales_Channel'].astype(np.int64)\n",
    "# df_test['Annual_Premium'] = df_test['Annual_Premium'].astype(np.int64)\n",
    "\n",
    "# df_test.fillna(999, inplace=True)\n"
   ]
  },
  {
   "cell_type": "code",
   "execution_count": 167,
   "id": "f5386643",
   "metadata": {
    "ExecuteTime": {
     "end_time": "2022-04-20T00:08:34.563214Z",
     "start_time": "2022-04-20T00:08:34.552291Z"
    }
   },
   "outputs": [
    {
     "name": "stdout",
     "output_type": "stream",
     "text": [
      "Number of Rows: 10\n",
      "Number of Columns: 11\n"
     ]
    }
   ],
   "source": [
    "print( 'Number of Rows: {}'.format( df_test.shape[0] ) )\n",
    "print( 'Number of Columns: {}'.format( df_test.shape[1] ) )"
   ]
  },
  {
   "cell_type": "code",
   "execution_count": 168,
   "id": "503c6da3",
   "metadata": {
    "ExecuteTime": {
     "end_time": "2022-04-20T00:08:35.783162Z",
     "start_time": "2022-04-20T00:08:35.752285Z"
    }
   },
   "outputs": [],
   "source": [
    "# convert dataframe to json\n",
    "data = json.dumps( df_test.to_dict( orient='records' ) )"
   ]
  },
  {
   "cell_type": "code",
   "execution_count": 169,
   "id": "4844272e",
   "metadata": {
    "ExecuteTime": {
     "end_time": "2022-04-20T00:08:36.941977Z",
     "start_time": "2022-04-20T00:08:36.910090Z"
    }
   },
   "outputs": [
    {
     "data": {
      "text/plain": [
       "'[{\"id\": 152816, \"Gender\": \"Male\", \"Age\": 25, \"Driving_License\": 1, \"Region_Code\": 27.0, \"Previously_Insured\": 0, \"Vehicle_Age\": \"< 1 Year\", \"Vehicle_Damage\": \"Yes\", \"Annual_Premium\": 2630.0, \"Policy_Sales_Channel\": 152.0, \"Vintage\": 157}, {\"id\": 8926, \"Gender\": \"Male\", \"Age\": 21, \"Driving_License\": 1, \"Region_Code\": 8.0, \"Previously_Insured\": 0, \"Vehicle_Age\": \"< 1 Year\", \"Vehicle_Damage\": \"Yes\", \"Annual_Premium\": 31173.0, \"Policy_Sales_Channel\": 154.0, \"Vintage\": 192}, {\"id\": 169041, \"Gender\": \"Male\", \"Age\": 25, \"Driving_License\": 1, \"Region_Code\": 2.0, \"Previously_Insured\": 1, \"Vehicle_Age\": \"< 1 Year\", \"Vehicle_Damage\": \"No\", \"Annual_Premium\": 33400.0, \"Policy_Sales_Channel\": 152.0, \"Vintage\": 213}, {\"id\": 312847, \"Gender\": \"Female\", \"Age\": 26, \"Driving_License\": 1, \"Region_Code\": 23.0, \"Previously_Insured\": 1, \"Vehicle_Age\": \"< 1 Year\", \"Vehicle_Damage\": \"No\", \"Annual_Premium\": 2630.0, \"Policy_Sales_Channel\": 152.0, \"Vintage\": 111}, {\"id\": 303265, \"Gender\": \"Male\", \"Age\": 43, \"Driving_License\": 1, \"Region_Code\": 30.0, \"Previously_Insured\": 0, \"Vehicle_Age\": \"1-2 Year\", \"Vehicle_Damage\": \"Yes\", \"Annual_Premium\": 27280.0, \"Policy_Sales_Channel\": 163.0, \"Vintage\": 202}, {\"id\": 322942, \"Gender\": \"Female\", \"Age\": 35, \"Driving_License\": 1, \"Region_Code\": 28.0, \"Previously_Insured\": 0, \"Vehicle_Age\": \"1-2 Year\", \"Vehicle_Damage\": \"No\", \"Annual_Premium\": 28326.0, \"Policy_Sales_Channel\": 23.0, \"Vintage\": 252}, {\"id\": 221942, \"Gender\": \"Female\", \"Age\": 26, \"Driving_License\": 1, \"Region_Code\": 28.0, \"Previously_Insured\": 0, \"Vehicle_Age\": \"< 1 Year\", \"Vehicle_Damage\": \"Yes\", \"Annual_Premium\": 44627.0, \"Policy_Sales_Channel\": 152.0, \"Vintage\": 280}, {\"id\": 9551, \"Gender\": \"Female\", \"Age\": 41, \"Driving_License\": 1, \"Region_Code\": 46.0, \"Previously_Insured\": 0, \"Vehicle_Age\": \"1-2 Year\", \"Vehicle_Damage\": \"Yes\", \"Annual_Premium\": 28188.0, \"Policy_Sales_Channel\": 26.0, \"Vintage\": 131}, {\"id\": 219259, \"Gender\": \"Male\", \"Age\": 66, \"Driving_License\": 0, \"Region_Code\": 28.0, \"Previously_Insured\": 0, \"Vehicle_Age\": \"1-2 Year\", \"Vehicle_Damage\": \"Yes\", \"Annual_Premium\": 39451.0, \"Policy_Sales_Channel\": 26.0, \"Vintage\": 256}, {\"id\": 258990, \"Gender\": \"Male\", \"Age\": 53, \"Driving_License\": 1, \"Region_Code\": 30.0, \"Previously_Insured\": 1, \"Vehicle_Age\": \"1-2 Year\", \"Vehicle_Damage\": \"Yes\", \"Annual_Premium\": 2630.0, \"Policy_Sales_Channel\": 156.0, \"Vintage\": 139}]'"
      ]
     },
     "execution_count": 169,
     "metadata": {},
     "output_type": "execute_result"
    }
   ],
   "source": [
    "data"
   ]
  },
  {
   "cell_type": "code",
   "execution_count": 170,
   "id": "75deb5b3",
   "metadata": {
    "ExecuteTime": {
     "end_time": "2022-04-20T00:08:54.773355Z",
     "start_time": "2022-04-20T00:08:37.755263Z"
    },
    "scrolled": true
   },
   "outputs": [
    {
     "name": "stdout",
     "output_type": "stream",
     "text": [
      "Status Code 200\n"
     ]
    }
   ],
   "source": [
    "# API Call\n",
    "#url = 'http://0.0.0.0:5000/healthinsurance/predict'\n",
    "url = 'https://health-insurance-ab.herokuapp.com/healthinsurance/predict'\n",
    "header = {'Content-type': 'application/json' }\n",
    "\n",
    "r = requests.post( url, data=data, headers=header )\n",
    "print( 'Status Code {}'.format( r.status_code ) )"
   ]
  },
  {
   "cell_type": "code",
   "execution_count": 171,
   "id": "d06b65f5",
   "metadata": {
    "ExecuteTime": {
     "end_time": "2022-04-20T00:08:54.820664Z",
     "start_time": "2022-04-20T00:08:54.774984Z"
    },
    "scrolled": true
   },
   "outputs": [
    {
     "data": {
      "text/html": [
       "<div>\n",
       "<style scoped>\n",
       "    .dataframe tbody tr th:only-of-type {\n",
       "        vertical-align: middle;\n",
       "    }\n",
       "\n",
       "    .dataframe tbody tr th {\n",
       "        vertical-align: top;\n",
       "    }\n",
       "\n",
       "    .dataframe thead th {\n",
       "        text-align: right;\n",
       "    }\n",
       "</style>\n",
       "<table border=\"1\" class=\"dataframe\">\n",
       "  <thead>\n",
       "    <tr style=\"text-align: right;\">\n",
       "      <th></th>\n",
       "      <th>id</th>\n",
       "      <th>gender</th>\n",
       "      <th>age</th>\n",
       "      <th>driving_license</th>\n",
       "      <th>region_code</th>\n",
       "      <th>previously_insured</th>\n",
       "      <th>vehicle_age</th>\n",
       "      <th>vehicle_damage</th>\n",
       "      <th>annual_premium</th>\n",
       "      <th>policy_sales_channel</th>\n",
       "      <th>vintage</th>\n",
       "      <th>score</th>\n",
       "    </tr>\n",
       "  </thead>\n",
       "  <tbody>\n",
       "    <tr>\n",
       "      <th>8</th>\n",
       "      <td>219259</td>\n",
       "      <td>0.14</td>\n",
       "      <td>0.71</td>\n",
       "      <td>0</td>\n",
       "      <td>0.19</td>\n",
       "      <td>0</td>\n",
       "      <td>between_1_2_year</td>\n",
       "      <td>1</td>\n",
       "      <td>0.52</td>\n",
       "      <td>26.00</td>\n",
       "      <td>0.85</td>\n",
       "      <td>0.28</td>\n",
       "    </tr>\n",
       "    <tr>\n",
       "      <th>6</th>\n",
       "      <td>221942</td>\n",
       "      <td>0.10</td>\n",
       "      <td>0.09</td>\n",
       "      <td>1</td>\n",
       "      <td>0.19</td>\n",
       "      <td>0</td>\n",
       "      <td>below_1_year</td>\n",
       "      <td>1</td>\n",
       "      <td>0.82</td>\n",
       "      <td>152.00</td>\n",
       "      <td>0.93</td>\n",
       "      <td>0.28</td>\n",
       "    </tr>\n",
       "    <tr>\n",
       "      <th>1</th>\n",
       "      <td>8926</td>\n",
       "      <td>0.14</td>\n",
       "      <td>0.02</td>\n",
       "      <td>1</td>\n",
       "      <td>0.10</td>\n",
       "      <td>0</td>\n",
       "      <td>below_1_year</td>\n",
       "      <td>1</td>\n",
       "      <td>0.04</td>\n",
       "      <td>154.00</td>\n",
       "      <td>0.63</td>\n",
       "      <td>0.25</td>\n",
       "    </tr>\n",
       "    <tr>\n",
       "      <th>4</th>\n",
       "      <td>303265</td>\n",
       "      <td>0.14</td>\n",
       "      <td>0.35</td>\n",
       "      <td>1</td>\n",
       "      <td>0.07</td>\n",
       "      <td>0</td>\n",
       "      <td>between_1_2_year</td>\n",
       "      <td>1</td>\n",
       "      <td>-0.19</td>\n",
       "      <td>163.00</td>\n",
       "      <td>0.66</td>\n",
       "      <td>0.22</td>\n",
       "    </tr>\n",
       "    <tr>\n",
       "      <th>7</th>\n",
       "      <td>9551</td>\n",
       "      <td>0.10</td>\n",
       "      <td>0.32</td>\n",
       "      <td>1</td>\n",
       "      <td>0.10</td>\n",
       "      <td>0</td>\n",
       "      <td>between_1_2_year</td>\n",
       "      <td>1</td>\n",
       "      <td>-0.14</td>\n",
       "      <td>26.00</td>\n",
       "      <td>0.42</td>\n",
       "      <td>0.22</td>\n",
       "    </tr>\n",
       "  </tbody>\n",
       "</table>\n",
       "</div>"
      ],
      "text/plain": [
       "       id  gender  age  driving_license  region_code  previously_insured       vehicle_age  vehicle_damage  annual_premium  policy_sales_channel  vintage  score\n",
       "8  219259    0.14 0.71                0         0.19                   0  between_1_2_year               1            0.52                 26.00     0.85   0.28\n",
       "6  221942    0.10 0.09                1         0.19                   0      below_1_year               1            0.82                152.00     0.93   0.28\n",
       "1    8926    0.14 0.02                1         0.10                   0      below_1_year               1            0.04                154.00     0.63   0.25\n",
       "4  303265    0.14 0.35                1         0.07                   0  between_1_2_year               1           -0.19                163.00     0.66   0.22\n",
       "7    9551    0.10 0.32                1         0.10                   0  between_1_2_year               1           -0.14                 26.00     0.42   0.22"
      ]
     },
     "execution_count": 171,
     "metadata": {},
     "output_type": "execute_result"
    }
   ],
   "source": [
    "d1 = pd.DataFrame( r.json(), columns=r.json()[0].keys() )\n",
    "d1.sort_values( 'score', ascending=False ).head()"
   ]
  },
  {
   "cell_type": "code",
   "execution_count": null,
   "id": "63466be5",
   "metadata": {},
   "outputs": [],
   "source": []
  },
  {
   "cell_type": "code",
   "execution_count": null,
   "id": "cf3bd160",
   "metadata": {},
   "outputs": [],
   "source": []
  },
  {
   "cell_type": "code",
   "execution_count": null,
   "id": "40c800af",
   "metadata": {},
   "outputs": [],
   "source": []
  },
  {
   "cell_type": "markdown",
   "id": "41ba543e",
   "metadata": {},
   "source": []
  }
 ],
 "metadata": {
  "hide_input": false,
  "kernelspec": {
   "display_name": "Python 3 (ipykernel)",
   "language": "python",
   "name": "python3"
  },
  "language_info": {
   "codemirror_mode": {
    "name": "ipython",
    "version": 3
   },
   "file_extension": ".py",
   "mimetype": "text/x-python",
   "name": "python",
   "nbconvert_exporter": "python",
   "pygments_lexer": "ipython3",
   "version": "3.8.13"
  },
  "latex_envs": {
   "LaTeX_envs_menu_present": true,
   "autoclose": false,
   "autocomplete": true,
   "bibliofile": "biblio.bib",
   "cite_by": "apalike",
   "current_citInitial": 1,
   "eqLabelWithNumbers": true,
   "eqNumInitial": 1,
   "hotkeys": {
    "equation": "Ctrl-E",
    "itemize": "Ctrl-I"
   },
   "labels_anchors": false,
   "latex_user_defs": false,
   "report_style_numbering": false,
   "user_envs_cfg": false
  },
  "nbTranslate": {
   "displayLangs": [
    "*"
   ],
   "hotkey": "alt-t",
   "langInMainMenu": true,
   "sourceLang": "en",
   "targetLang": "fr",
   "useGoogleTranslate": true
  },
  "toc": {
   "base_numbering": "0",
   "nav_menu": {},
   "number_sections": true,
   "sideBar": true,
   "skip_h1_title": false,
   "title_cell": "Table of Contents",
   "title_sidebar": "Contents",
   "toc_cell": false,
   "toc_position": {
    "height": "1005px",
    "left": "27px",
    "top": "183.914px",
    "width": "302.5px"
   },
   "toc_section_display": true,
   "toc_window_display": true
  }
 },
 "nbformat": 4,
 "nbformat_minor": 5
}
